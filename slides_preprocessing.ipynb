{
 "cells": [
  {
   "cell_type": "code",
   "execution_count": 28,
   "metadata": {},
   "outputs": [],
   "source": [
    "import pandas as pd\n",
    "import numpy as np\n",
    "\n",
    "import matplotlib\n",
    "import matplotlib.pyplot as plt\n",
    "import seaborn as sns \n",
    "\n",
    "import re\n",
    "import string\n",
    "import unicodedata\n",
    "\n",
    "import nltk\n",
    "from nltk.corpus import stopwords\n",
    "from nltk import word_tokenize\n",
    "from nltk import word_tokenize, sent_tokenize\n",
    "from nltk.corpus import stopwords\n",
    "from nltk.stem import LancasterStemmer, WordNetLemmatizer\n",
    "\n",
    "from bs4 import BeautifulSoup\n",
    "\n",
    "import os\n",
    "\n",
    "from IPython.core.interactiveshell import InteractiveShell\n",
    "InteractiveShell.ast_node_interactivity = \"all\""
   ]
  },
  {
   "cell_type": "markdown",
   "metadata": {},
   "source": [
    "# Case Normalization"
   ]
  },
  {
   "cell_type": "code",
   "execution_count": 92,
   "metadata": {},
   "outputs": [
    {
     "data": {
      "text/plain": [
       "'hi, my name is steve.'"
      ]
     },
     "execution_count": 92,
     "metadata": {},
     "output_type": "execute_result"
    },
    {
     "data": {
      "text/plain": [
       "'i work at the u.n. in nyc in the usa.'"
      ]
     },
     "execution_count": 92,
     "metadata": {},
     "output_type": "execute_result"
    }
   ],
   "source": [
    "\"Hi, my name is Steve.\".lower()\n",
    "'I work at the U.N. in NYC in the USA.'.lower()"
   ]
  },
  {
   "cell_type": "markdown",
   "metadata": {},
   "source": [
    "# Tokenization"
   ]
  },
  {
   "cell_type": "markdown",
   "metadata": {},
   "source": [
    "For simple tokenzation, the NLTK docs recommend to just use `.split()`"
   ]
  },
  {
   "cell_type": "code",
   "execution_count": 106,
   "metadata": {},
   "outputs": [
    {
     "data": {
      "text/plain": [
       "['Hi,', 'my', 'name', 'is', 'Steve.']"
      ]
     },
     "execution_count": 106,
     "metadata": {},
     "output_type": "execute_result"
    },
    {
     "data": {
      "text/plain": [
       "[\"Let's\", 'go', 'to', 'the', 'U.N.', 'in', 'NYC!!']"
      ]
     },
     "execution_count": 106,
     "metadata": {},
     "output_type": "execute_result"
    },
    {
     "data": {
      "text/plain": [
       "['The',\n",
       " 'ever-popular',\n",
       " 'San',\n",
       " 'Fransisco',\n",
       " 'love',\n",
       " 'letter',\n",
       " 'arrived',\n",
       " 'on',\n",
       " 'March',\n",
       " '11,',\n",
       " '2019.']"
      ]
     },
     "execution_count": 106,
     "metadata": {},
     "output_type": "execute_result"
    },
    {
     "data": {
      "text/plain": [
       "['stephen.thomas@queensu.ca']"
      ]
     },
     "execution_count": 106,
     "metadata": {},
     "output_type": "execute_result"
    },
    {
     "data": {
      "text/plain": [
       "['(613)', '453-6162']"
      ]
     },
     "execution_count": 106,
     "metadata": {},
     "output_type": "execute_result"
    }
   ],
   "source": [
    "\"Hi, my name is Steve.\".split()\n",
    "\"Let's go to the U.N. in NYC!!\".split()\n",
    "\"The ever-popular San Fransisco love letter arrived on March 11, 2019.\".split()\n",
    "\"stephen.thomas@queensu.ca\".split()\n",
    "\"(613) 453-6162\".split()"
   ]
  },
  {
   "cell_type": "markdown",
   "metadata": {},
   "source": [
    "Can also use `nltk`'s `word_tokenize()` function."
   ]
  },
  {
   "cell_type": "code",
   "execution_count": 107,
   "metadata": {},
   "outputs": [
    {
     "data": {
      "text/plain": [
       "['Hi', ',', 'my', 'name', 'is', 'Steve', '.']"
      ]
     },
     "execution_count": 107,
     "metadata": {},
     "output_type": "execute_result"
    },
    {
     "data": {
      "text/plain": [
       "['Let', \"'s\", 'go', 'to', 'the', 'U.N.', 'in', 'NYC', '!', '!']"
      ]
     },
     "execution_count": 107,
     "metadata": {},
     "output_type": "execute_result"
    },
    {
     "data": {
      "text/plain": [
       "['The',\n",
       " 'ever-popular',\n",
       " 'San',\n",
       " 'Fransisco',\n",
       " 'love',\n",
       " 'letter',\n",
       " 'arrived',\n",
       " 'on',\n",
       " 'March',\n",
       " '11',\n",
       " ',',\n",
       " '2019',\n",
       " '.']"
      ]
     },
     "execution_count": 107,
     "metadata": {},
     "output_type": "execute_result"
    },
    {
     "data": {
      "text/plain": [
       "['stephen.thomas', '@', 'queensu.ca']"
      ]
     },
     "execution_count": 107,
     "metadata": {},
     "output_type": "execute_result"
    },
    {
     "data": {
      "text/plain": [
       "['(', '613', ')', '453-6162']"
      ]
     },
     "execution_count": 107,
     "metadata": {},
     "output_type": "execute_result"
    }
   ],
   "source": [
    "from nltk import word_tokenize\n",
    "word_tokenize(\"Hi, my name is Steve.\")\n",
    "word_tokenize(\"Let's go to the U.N. in NYC!!\")\n",
    "word_tokenize(\"The ever-popular San Fransisco love letter arrived on March 11, 2019.\")\n",
    "word_tokenize(\"stephen.thomas@queensu.ca\")\n",
    "word_tokenize(\"(613) 453-6162\")"
   ]
  },
  {
   "cell_type": "markdown",
   "metadata": {},
   "source": [
    "`nltk` even has a tokenizer for tweets!"
   ]
  },
  {
   "cell_type": "code",
   "execution_count": 93,
   "metadata": {},
   "outputs": [
    {
     "data": {
      "text/plain": [
       "['This',\n",
       " 'is',\n",
       " 'a',\n",
       " 'cooool',\n",
       " '#dummysmiley',\n",
       " ':',\n",
       " ':-)',\n",
       " ':-P',\n",
       " '<3',\n",
       " 'and',\n",
       " 'some',\n",
       " 'arrows',\n",
       " '<',\n",
       " '>',\n",
       " '->',\n",
       " '<--']"
      ]
     },
     "execution_count": 93,
     "metadata": {},
     "output_type": "execute_result"
    }
   ],
   "source": [
    "from nltk.tokenize import TweetTokenizer\n",
    "tknzr = TweetTokenizer()\n",
    "s0 = \"This is a cooool #dummysmiley: :-) :-P <3 and some arrows < > -> <--\"\n",
    "tknzr.tokenize(s0)"
   ]
  },
  {
   "cell_type": "markdown",
   "metadata": {},
   "source": [
    "# N-Grams"
   ]
  },
  {
   "cell_type": "code",
   "execution_count": 114,
   "metadata": {},
   "outputs": [
    {
     "name": "stdout",
     "output_type": "stream",
     "text": [
      "('Hey', 'there')\n",
      "('there', ',')\n",
      "(',', 'I')\n",
      "('I', 'am')\n",
      "('am', 'awesome')\n",
      "('awesome', '.')\n",
      "('Hey', 'there', ',')\n",
      "('there', ',', 'I')\n",
      "(',', 'I', 'am')\n",
      "('I', 'am', 'awesome')\n",
      "('am', 'awesome', '.')\n"
     ]
    }
   ],
   "source": [
    "from nltk.util import ngrams\n",
    "tokens = nltk.word_tokenize(\"Hey there, I am awesome.\")\n",
    "\n",
    "grams = ngrams(tokens,2)\n",
    "for grams in grams:\n",
    "  print(grams)\n",
    "\n",
    "grams = ngrams(tokens,)\n",
    "for grams in grams:\n",
    "  print(grams)"
   ]
  },
  {
   "cell_type": "markdown",
   "metadata": {},
   "source": [
    "# Removing Characters"
   ]
  },
  {
   "cell_type": "code",
   "execution_count": 123,
   "metadata": {},
   "outputs": [
    {
     "data": {
      "text/plain": [
       "'Hey Lets go to the bar'"
      ]
     },
     "execution_count": 123,
     "metadata": {},
     "output_type": "execute_result"
    }
   ],
   "source": [
    "import re\n",
    "s = \"Hey! Let's go to the bar...\"\n",
    "re.sub(r'[^\\w\\s]', '', s)"
   ]
  },
  {
   "cell_type": "code",
   "execution_count": 169,
   "metadata": {},
   "outputs": [
    {
     "data": {
      "text/plain": [
       "'Abcdeacoauu'"
      ]
     },
     "execution_count": 169,
     "metadata": {},
     "output_type": "execute_result"
    }
   ],
   "source": [
    "import unidecode\n",
    "s = u'Ábcdêãçoàúü'\n",
    "unidecode.unidecode(s)"
   ]
  },
  {
   "cell_type": "markdown",
   "metadata": {},
   "source": [
    "# Removing Numbers"
   ]
  },
  {
   "cell_type": "code",
   "execution_count": 125,
   "metadata": {},
   "outputs": [
    {
     "data": {
      "text/plain": [
       "'There are only  classes left.'"
      ]
     },
     "execution_count": 125,
     "metadata": {},
     "output_type": "execute_result"
    }
   ],
   "source": [
    "import re\n",
    "s = \"There are only 4 classes left.\"\n",
    "re.sub(r'\\d+', '', s)"
   ]
  },
  {
   "cell_type": "markdown",
   "metadata": {},
   "source": [
    "# Regular Expressions"
   ]
  },
  {
   "cell_type": "code",
   "execution_count": 131,
   "metadata": {},
   "outputs": [
    {
     "data": {
      "text/plain": [
       "['Alejandrina has a small store in her house where she sells basic products [such as soap, cooking oil, eggs, etc.] and stationary products. Alejandrina started her business with the help of her husband and with $. of capital. ',\n",
       " \"Nancy works as a saleswoman, her main product being used clothing. She buys packs of clothes and resells them to friends and neighbors. She began her business with her family's help, who live abroad and sent her her first shipment of clothes. At the beginning, she only sold used clothing items. Now she sells new clothing as well as cosmetics.\",\n",
       " 'Marjorie sells lunch to companies and construction workers. He started her business  years ago with the help of her sister who lent her money for starting up. Her sister also helped her to find customers. \\r\\n\\r\\nIn the beginning, she only sold lunch.  Kolb.']"
      ]
     },
     "execution_count": 131,
     "metadata": {},
     "output_type": "execute_result"
    }
   ],
   "source": [
    "sentences = [\n",
    "  \"Alejandrina has a small store in her house where she sells basic products [such as soap, cooking oil, eggs, etc.] and stationary products. Alejandrina started her business with the help of her husband and with $. of capital. Translated from Spanish by Jennifer Day, Kiva Volunteer.\",\n",
    "  \"Nancy works as a saleswoman, her main product being used clothing. She buys packs of clothes and resells them to friends and neighbors. She began her business with her family's help, who live abroad and sent her her first shipment of clothes. At the beginning, she only sold used clothing items. Now she sells new clothing as well as cosmetics.Translated from Spanish by Kiva Volunteer, Kristin Connor.\",\n",
    "  \"Marjorie sells lunch to companies and construction workers. He started her business  years ago with the help of her sister who lent her money for starting up. Her sister also helped her to find customers. \\r\\n\\r\\nIn the beginning, she only sold lunch. Translated by Ramn F. Kolb.\"]\n",
    "\n",
    "[re.sub(r'Translated[^\\.]+\\.', '', s) for s in sentences]"
   ]
  },
  {
   "cell_type": "markdown",
   "metadata": {},
   "source": [
    "# Stemming and Lemmatization"
   ]
  },
  {
   "cell_type": "code",
   "execution_count": 151,
   "metadata": {},
   "outputs": [
    {
     "data": {
      "text/html": [
       "<div>\n",
       "<style scoped>\n",
       "    .dataframe tbody tr th:only-of-type {\n",
       "        vertical-align: middle;\n",
       "    }\n",
       "\n",
       "    .dataframe tbody tr th {\n",
       "        vertical-align: top;\n",
       "    }\n",
       "\n",
       "    .dataframe thead th {\n",
       "        text-align: right;\n",
       "    }\n",
       "</style>\n",
       "<table border=\"1\" class=\"dataframe\">\n",
       "  <thead>\n",
       "    <tr style=\"text-align: right;\">\n",
       "      <th></th>\n",
       "      <th>Orig</th>\n",
       "      <th>Porter</th>\n",
       "      <th>Snowball</th>\n",
       "      <th>Lancaster</th>\n",
       "      <th>WordNetLemmatizer</th>\n",
       "    </tr>\n",
       "  </thead>\n",
       "  <tbody>\n",
       "    <tr>\n",
       "      <th>0</th>\n",
       "      <td>caresses</td>\n",
       "      <td>caress</td>\n",
       "      <td>caress</td>\n",
       "      <td>caress</td>\n",
       "      <td>caress</td>\n",
       "    </tr>\n",
       "    <tr>\n",
       "      <th>1</th>\n",
       "      <td>flies</td>\n",
       "      <td>fli</td>\n",
       "      <td>fli</td>\n",
       "      <td>fli</td>\n",
       "      <td>fly</td>\n",
       "    </tr>\n",
       "    <tr>\n",
       "      <th>2</th>\n",
       "      <td>dies</td>\n",
       "      <td>die</td>\n",
       "      <td>die</td>\n",
       "      <td>die</td>\n",
       "      <td>dy</td>\n",
       "    </tr>\n",
       "    <tr>\n",
       "      <th>3</th>\n",
       "      <td>mules</td>\n",
       "      <td>mule</td>\n",
       "      <td>mule</td>\n",
       "      <td>mul</td>\n",
       "      <td>mule</td>\n",
       "    </tr>\n",
       "    <tr>\n",
       "      <th>4</th>\n",
       "      <td>denied</td>\n",
       "      <td>deni</td>\n",
       "      <td>deni</td>\n",
       "      <td>deny</td>\n",
       "      <td>denied</td>\n",
       "    </tr>\n",
       "    <tr>\n",
       "      <th>5</th>\n",
       "      <td>died</td>\n",
       "      <td>die</td>\n",
       "      <td>die</td>\n",
       "      <td>died</td>\n",
       "      <td>died</td>\n",
       "    </tr>\n",
       "    <tr>\n",
       "      <th>6</th>\n",
       "      <td>agreed</td>\n",
       "      <td>agre</td>\n",
       "      <td>agre</td>\n",
       "      <td>agree</td>\n",
       "      <td>agreed</td>\n",
       "    </tr>\n",
       "    <tr>\n",
       "      <th>7</th>\n",
       "      <td>owned</td>\n",
       "      <td>own</td>\n",
       "      <td>own</td>\n",
       "      <td>own</td>\n",
       "      <td>owned</td>\n",
       "    </tr>\n",
       "    <tr>\n",
       "      <th>8</th>\n",
       "      <td>humbled</td>\n",
       "      <td>humbl</td>\n",
       "      <td>humbl</td>\n",
       "      <td>humbl</td>\n",
       "      <td>humbled</td>\n",
       "    </tr>\n",
       "    <tr>\n",
       "      <th>9</th>\n",
       "      <td>sized</td>\n",
       "      <td>size</td>\n",
       "      <td>size</td>\n",
       "      <td>siz</td>\n",
       "      <td>sized</td>\n",
       "    </tr>\n",
       "    <tr>\n",
       "      <th>10</th>\n",
       "      <td>meeting</td>\n",
       "      <td>meet</td>\n",
       "      <td>meet</td>\n",
       "      <td>meet</td>\n",
       "      <td>meeting</td>\n",
       "    </tr>\n",
       "    <tr>\n",
       "      <th>11</th>\n",
       "      <td>stating</td>\n",
       "      <td>state</td>\n",
       "      <td>state</td>\n",
       "      <td>stat</td>\n",
       "      <td>stating</td>\n",
       "    </tr>\n",
       "    <tr>\n",
       "      <th>12</th>\n",
       "      <td>siezing</td>\n",
       "      <td>siez</td>\n",
       "      <td>siez</td>\n",
       "      <td>siez</td>\n",
       "      <td>siezing</td>\n",
       "    </tr>\n",
       "    <tr>\n",
       "      <th>13</th>\n",
       "      <td>itemization</td>\n",
       "      <td>item</td>\n",
       "      <td>item</td>\n",
       "      <td>item</td>\n",
       "      <td>itemization</td>\n",
       "    </tr>\n",
       "    <tr>\n",
       "      <th>14</th>\n",
       "      <td>sensational</td>\n",
       "      <td>sensat</td>\n",
       "      <td>sensat</td>\n",
       "      <td>sens</td>\n",
       "      <td>sensational</td>\n",
       "    </tr>\n",
       "    <tr>\n",
       "      <th>15</th>\n",
       "      <td>traditional</td>\n",
       "      <td>tradit</td>\n",
       "      <td>tradit</td>\n",
       "      <td>tradit</td>\n",
       "      <td>traditional</td>\n",
       "    </tr>\n",
       "    <tr>\n",
       "      <th>16</th>\n",
       "      <td>reference</td>\n",
       "      <td>refer</td>\n",
       "      <td>refer</td>\n",
       "      <td>ref</td>\n",
       "      <td>reference</td>\n",
       "    </tr>\n",
       "    <tr>\n",
       "      <th>17</th>\n",
       "      <td>colonizer</td>\n",
       "      <td>colon</td>\n",
       "      <td>colon</td>\n",
       "      <td>colon</td>\n",
       "      <td>colonizer</td>\n",
       "    </tr>\n",
       "    <tr>\n",
       "      <th>18</th>\n",
       "      <td>plotted</td>\n",
       "      <td>plot</td>\n",
       "      <td>plot</td>\n",
       "      <td>plot</td>\n",
       "      <td>plotted</td>\n",
       "    </tr>\n",
       "    <tr>\n",
       "      <th>19</th>\n",
       "      <td>having</td>\n",
       "      <td>have</td>\n",
       "      <td>have</td>\n",
       "      <td>hav</td>\n",
       "      <td>having</td>\n",
       "    </tr>\n",
       "    <tr>\n",
       "      <th>20</th>\n",
       "      <td>generously</td>\n",
       "      <td>gener</td>\n",
       "      <td>generous</td>\n",
       "      <td>gen</td>\n",
       "      <td>generously</td>\n",
       "    </tr>\n",
       "    <tr>\n",
       "      <th>21</th>\n",
       "      <td>owed</td>\n",
       "      <td>owe</td>\n",
       "      <td>owe</td>\n",
       "      <td>ow</td>\n",
       "      <td>owed</td>\n",
       "    </tr>\n",
       "    <tr>\n",
       "      <th>22</th>\n",
       "      <td>ear</td>\n",
       "      <td>ear</td>\n",
       "      <td>ear</td>\n",
       "      <td>ear</td>\n",
       "      <td>ear</td>\n",
       "    </tr>\n",
       "    <tr>\n",
       "      <th>23</th>\n",
       "      <td>crying</td>\n",
       "      <td>cri</td>\n",
       "      <td>cri</td>\n",
       "      <td>cry</td>\n",
       "      <td>cry</td>\n",
       "    </tr>\n",
       "    <tr>\n",
       "      <th>24</th>\n",
       "      <td>she</td>\n",
       "      <td>she</td>\n",
       "      <td>she</td>\n",
       "      <td>she</td>\n",
       "      <td>she</td>\n",
       "    </tr>\n",
       "    <tr>\n",
       "      <th>25</th>\n",
       "      <td>her</td>\n",
       "      <td>her</td>\n",
       "      <td>her</td>\n",
       "      <td>her</td>\n",
       "      <td>her</td>\n",
       "    </tr>\n",
       "    <tr>\n",
       "      <th>26</th>\n",
       "      <td>he</td>\n",
       "      <td>he</td>\n",
       "      <td>he</td>\n",
       "      <td>he</td>\n",
       "      <td>he</td>\n",
       "    </tr>\n",
       "    <tr>\n",
       "      <th>27</th>\n",
       "      <td>his</td>\n",
       "      <td>hi</td>\n",
       "      <td>his</td>\n",
       "      <td>his</td>\n",
       "      <td>his</td>\n",
       "    </tr>\n",
       "    <tr>\n",
       "      <th>28</th>\n",
       "      <td>they</td>\n",
       "      <td>they</td>\n",
       "      <td>they</td>\n",
       "      <td>they</td>\n",
       "      <td>they</td>\n",
       "    </tr>\n",
       "    <tr>\n",
       "      <th>29</th>\n",
       "      <td>thiers</td>\n",
       "      <td>thier</td>\n",
       "      <td>thier</td>\n",
       "      <td>thi</td>\n",
       "      <td>thiers</td>\n",
       "    </tr>\n",
       "    <tr>\n",
       "      <th>30</th>\n",
       "      <td>mine</td>\n",
       "      <td>mine</td>\n",
       "      <td>mine</td>\n",
       "      <td>min</td>\n",
       "      <td>mine</td>\n",
       "    </tr>\n",
       "  </tbody>\n",
       "</table>\n",
       "</div>"
      ],
      "text/plain": [
       "           Orig  Porter  Snowball Lancaster WordNetLemmatizer\n",
       "0      caresses  caress    caress    caress            caress\n",
       "1         flies     fli       fli       fli               fly\n",
       "2          dies     die       die       die                dy\n",
       "3         mules    mule      mule       mul              mule\n",
       "4        denied    deni      deni      deny            denied\n",
       "5          died     die       die      died              died\n",
       "6        agreed    agre      agre     agree            agreed\n",
       "7         owned     own       own       own             owned\n",
       "8       humbled   humbl     humbl     humbl           humbled\n",
       "9         sized    size      size       siz             sized\n",
       "10      meeting    meet      meet      meet           meeting\n",
       "11      stating   state     state      stat           stating\n",
       "12      siezing    siez      siez      siez           siezing\n",
       "13  itemization    item      item      item       itemization\n",
       "14  sensational  sensat    sensat      sens       sensational\n",
       "15  traditional  tradit    tradit    tradit       traditional\n",
       "16    reference   refer     refer       ref         reference\n",
       "17    colonizer   colon     colon     colon         colonizer\n",
       "18      plotted    plot      plot      plot           plotted\n",
       "19       having    have      have       hav            having\n",
       "20   generously   gener  generous       gen        generously\n",
       "21         owed     owe       owe        ow              owed\n",
       "22          ear     ear       ear       ear               ear\n",
       "23       crying     cri       cri       cry               cry\n",
       "24          she     she       she       she               she\n",
       "25          her     her       her       her               her\n",
       "26           he      he        he        he                he\n",
       "27          his      hi       his       his               his\n",
       "28         they    they      they      they              they\n",
       "29       thiers   thier     thier       thi            thiers\n",
       "30         mine    mine      mine       min              mine"
      ]
     },
     "execution_count": 151,
     "metadata": {},
     "output_type": "execute_result"
    }
   ],
   "source": [
    "from nltk.stem.porter import PorterStemmer\n",
    "from nltk.stem.snowball import SnowballStemmer\n",
    "from nltk.stem.lancaster import LancasterStemmer\n",
    "from nltk.stem import WordNetLemmatizer\n",
    "\n",
    "\n",
    "words = ['caresses', 'flies', 'dies', 'mules', 'denied',\n",
    "            'died', 'agreed', 'owned', 'humbled', 'sized',\n",
    "            'meeting', 'stating', 'siezing', 'itemization',\n",
    "            'sensational', 'traditional', 'reference', 'colonizer',\n",
    "            'plotted', 'having', 'generously', 'owed', 'ear', 'crying',\n",
    "            'she', 'her', 'he', 'his', 'they', 'thiers', 'mine']\n",
    "\n",
    "res = pd.DataFrame()\n",
    "res = res.assign(Orig=words)\n",
    "\n",
    "stemmer = PorterStemmer()\n",
    "res = res.assign(Porter=[stemmer.stem(w) for w in words])\n",
    "\n",
    "stemmer = SnowballStemmer('english')\n",
    "res = res.assign(Snowball=[stemmer.stem(w) for w in words])\n",
    "\n",
    "stemmer = LancasterStemmer()\n",
    "res = res.assign(Lancaster=[stemmer.stem(w) for w in words])\n",
    "\n",
    "lemmer = WordNetLemmatizer()\n",
    "res = res.assign(WordNetLemmatizer=[lemmer.lemmatize(w) for w in words])\n",
    "\n",
    "res"
   ]
  },
  {
   "cell_type": "markdown",
   "metadata": {},
   "source": [
    "# Spell Checking"
   ]
  },
  {
   "cell_type": "code",
   "execution_count": 163,
   "metadata": {},
   "outputs": [
    {
     "name": "stdout",
     "output_type": "stream",
     "text": [
      "[('car', 0.5), ('czar', 0.42857142857142855), ('saar', 0.07142857142857142)]\n",
      "[('message', 0.6216216216216216), ('massage', 0.3783783783783784)]\n",
      "[('service', 0.9253112033195021), ('survive', 0.07468879668049792)]\n",
      "[('the', 0.8653201565642368), ('he', 0.13408515883485067), ('ate', 0.00022706139307570876), ('hate', 0.0002162489457863893), ('hue', 0.00012974936747183358), ('te', 1.0812447289319465e-05), ('htm', 1.0812447289319465e-05)]\n",
      "[('whisky', 0.9333333333333333), ('risky', 0.06666666666666667)]\n",
      "Wall time: 3.97 ms\n"
     ]
    }
   ],
   "source": [
    "%%time\n",
    "\n",
    "from pattern.en import suggest\n",
    "\n",
    "print(suggest(u'caar'))\n",
    "print(suggest(u'mussage'))\n",
    "print(suggest(u'survice'))\n",
    "print(suggest(u'hte'))\n",
    "print(suggest(u\"wisky\"))"
   ]
  },
  {
   "cell_type": "markdown",
   "metadata": {},
   "source": [
    "# Stopping"
   ]
  },
  {
   "cell_type": "code",
   "execution_count": 166,
   "metadata": {},
   "outputs": [
    {
     "data": {
      "text/plain": [
       "['name', 'steve', ',', 'good', 'chef', '.']"
      ]
     },
     "execution_count": 166,
     "metadata": {},
     "output_type": "execute_result"
    }
   ],
   "source": [
    "from nltk.corpus import stopwords\n",
    "tokens = nltk.word_tokenize(\"My name is Steve, and I am a good chef.\".lower())\n",
    "[t for t in tokens if t not in stopwords.words('english')]"
   ]
  },
  {
   "cell_type": "markdown",
   "metadata": {},
   "source": [
    "# Removing Rare Words"
   ]
  },
  {
   "cell_type": "code",
   "execution_count": null,
   "metadata": {},
   "outputs": [],
   "source": []
  },
  {
   "cell_type": "markdown",
   "metadata": {},
   "source": [
    "# All-in-one"
   ]
  },
  {
   "cell_type": "code",
   "execution_count": null,
   "metadata": {},
   "outputs": [],
   "source": []
  },
  {
   "cell_type": "markdown",
   "metadata": {},
   "source": [
    "# Fuzzy Matching"
   ]
  },
  {
   "cell_type": "code",
   "execution_count": null,
   "metadata": {},
   "outputs": [],
   "source": []
  },
  {
   "cell_type": "markdown",
   "metadata": {},
   "source": [
    "# Vectorization"
   ]
  },
  {
   "cell_type": "code",
   "execution_count": null,
   "metadata": {},
   "outputs": [],
   "source": []
  },
  {
   "cell_type": "code",
   "execution_count": null,
   "metadata": {},
   "outputs": [],
   "source": []
  },
  {
   "cell_type": "code",
   "execution_count": null,
   "metadata": {},
   "outputs": [],
   "source": []
  },
  {
   "cell_type": "markdown",
   "metadata": {},
   "source": [
    "# Topic Modeling"
   ]
  },
  {
   "cell_type": "code",
   "execution_count": 29,
   "metadata": {},
   "outputs": [
    {
     "name": "stdout",
     "output_type": "stream",
     "text": [
      "Wall time: 0 ns\n"
     ]
    }
   ],
   "source": [
    "%%time\n",
    "in_dir = \"C:/Users/st50/Documents/sandbox/data\"\n",
    "in_dir"
   ]
  },
  {
   "cell_type": "code",
   "execution_count": 88,
   "metadata": {},
   "outputs": [
    {
     "name": "stdout",
     "output_type": "stream",
     "text": [
      "<class 'pandas.core.frame.DataFrame'>\n",
      "Int64Index: 7882 entries, 0 to 7987\n",
      "Data columns (total 8 columns):\n",
      "status         7882 non-null object\n",
      "sector         7882 non-null object\n",
      "story          7882 non-null object\n",
      "country        7882 non-null object\n",
      "gender         7882 non-null object\n",
      "loan_amount    7882 non-null int32\n",
      "nonpayment     7882 non-null object\n",
      "length         7882 non-null int64\n",
      "dtypes: int32(1), int64(1), object(6)\n",
      "memory usage: 523.4+ KB\n",
      "Wall time: 156 ms\n"
     ]
    }
   ],
   "source": [
    "%%time\n",
    "in_dir = \"C:/Users/st50/Documents/sandbox/data\"\n",
    "in_dir\n",
    "\n",
    "kiva_df=pd.read_csv(os.path.join(in_dir, \"kiva.csv\"))\n",
    "\n",
    "kiva_df.dropna(inplace=True)\n",
    "kiva_df['loan_amount'] = kiva_df['loan_amount'].astype('int')\n",
    "\n",
    "kiva_df.rename(columns={'en':'story'}, inplace=True)\n",
    "kiva_df['length'] = kiva_df['story'].apply(len)\n",
    "\n",
    "kiva_df.info()"
   ]
  },
  {
   "cell_type": "code",
   "execution_count": 89,
   "metadata": {},
   "outputs": [
    {
     "data": {
      "text/html": [
       "<div>\n",
       "<style scoped>\n",
       "    .dataframe tbody tr th:only-of-type {\n",
       "        vertical-align: middle;\n",
       "    }\n",
       "\n",
       "    .dataframe tbody tr th {\n",
       "        vertical-align: top;\n",
       "    }\n",
       "\n",
       "    .dataframe thead th {\n",
       "        text-align: right;\n",
       "    }\n",
       "</style>\n",
       "<table border=\"1\" class=\"dataframe\">\n",
       "  <thead>\n",
       "    <tr style=\"text-align: right;\">\n",
       "      <th></th>\n",
       "      <th>status</th>\n",
       "      <th>sector</th>\n",
       "      <th>story</th>\n",
       "      <th>country</th>\n",
       "      <th>gender</th>\n",
       "      <th>loan_amount</th>\n",
       "      <th>nonpayment</th>\n",
       "      <th>length</th>\n",
       "    </tr>\n",
       "  </thead>\n",
       "  <tbody>\n",
       "    <tr>\n",
       "      <th>0</th>\n",
       "      <td>defaulted</td>\n",
       "      <td>Agriculture</td>\n",
       "      <td>&lt;i&gt;This description is written by Rowland Amul...</td>\n",
       "      <td>Kenya</td>\n",
       "      <td>M</td>\n",
       "      <td>500</td>\n",
       "      <td>lender</td>\n",
       "      <td>897</td>\n",
       "    </tr>\n",
       "    <tr>\n",
       "      <th>1</th>\n",
       "      <td>defaulted</td>\n",
       "      <td>Food</td>\n",
       "      <td>&lt;i&gt;This description is written by Rowland Amul...</td>\n",
       "      <td>Kenya</td>\n",
       "      <td>F</td>\n",
       "      <td>500</td>\n",
       "      <td>lender</td>\n",
       "      <td>1279</td>\n",
       "    </tr>\n",
       "    <tr>\n",
       "      <th>2</th>\n",
       "      <td>defaulted</td>\n",
       "      <td>Food</td>\n",
       "      <td>&lt;i&gt;This description was written by Richard Maz...</td>\n",
       "      <td>Kenya</td>\n",
       "      <td>M</td>\n",
       "      <td>500</td>\n",
       "      <td>lender</td>\n",
       "      <td>897</td>\n",
       "    </tr>\n",
       "    <tr>\n",
       "      <th>3</th>\n",
       "      <td>defaulted</td>\n",
       "      <td>Services</td>\n",
       "      <td>&lt;i&gt;This description was written by Rowland Amu...</td>\n",
       "      <td>Kenya</td>\n",
       "      <td>F</td>\n",
       "      <td>500</td>\n",
       "      <td>lender</td>\n",
       "      <td>737</td>\n",
       "    </tr>\n",
       "    <tr>\n",
       "      <th>4</th>\n",
       "      <td>defaulted</td>\n",
       "      <td>Construction</td>\n",
       "      <td>&lt;i&gt;This description was written by Rowland Amu...</td>\n",
       "      <td>Kenya</td>\n",
       "      <td>M</td>\n",
       "      <td>500</td>\n",
       "      <td>lender</td>\n",
       "      <td>798</td>\n",
       "    </tr>\n",
       "  </tbody>\n",
       "</table>\n",
       "</div>"
      ],
      "text/plain": [
       "      status        sector                                              story  \\\n",
       "0  defaulted   Agriculture  <i>This description is written by Rowland Amul...   \n",
       "1  defaulted          Food  <i>This description is written by Rowland Amul...   \n",
       "2  defaulted          Food  <i>This description was written by Richard Maz...   \n",
       "3  defaulted      Services  <i>This description was written by Rowland Amu...   \n",
       "4  defaulted  Construction  <i>This description was written by Rowland Amu...   \n",
       "\n",
       "  country gender  loan_amount nonpayment  length  \n",
       "0   Kenya      M          500     lender     897  \n",
       "1   Kenya      F          500     lender    1279  \n",
       "2   Kenya      M          500     lender     897  \n",
       "3   Kenya      F          500     lender     737  \n",
       "4   Kenya      M          500     lender     798  "
      ]
     },
     "execution_count": 89,
     "metadata": {},
     "output_type": "execute_result"
    },
    {
     "data": {
      "text/html": [
       "<div>\n",
       "<style scoped>\n",
       "    .dataframe tbody tr th:only-of-type {\n",
       "        vertical-align: middle;\n",
       "    }\n",
       "\n",
       "    .dataframe tbody tr th {\n",
       "        vertical-align: top;\n",
       "    }\n",
       "\n",
       "    .dataframe thead th {\n",
       "        text-align: right;\n",
       "    }\n",
       "</style>\n",
       "<table border=\"1\" class=\"dataframe\">\n",
       "  <thead>\n",
       "    <tr style=\"text-align: right;\">\n",
       "      <th></th>\n",
       "      <th>loan_amount</th>\n",
       "      <th>length</th>\n",
       "    </tr>\n",
       "  </thead>\n",
       "  <tbody>\n",
       "    <tr>\n",
       "      <th>count</th>\n",
       "      <td>7882.000000</td>\n",
       "      <td>7882.000000</td>\n",
       "    </tr>\n",
       "    <tr>\n",
       "      <th>mean</th>\n",
       "      <td>708.324029</td>\n",
       "      <td>1037.417914</td>\n",
       "    </tr>\n",
       "    <tr>\n",
       "      <th>std</th>\n",
       "      <td>588.274723</td>\n",
       "      <td>730.269060</td>\n",
       "    </tr>\n",
       "    <tr>\n",
       "      <th>min</th>\n",
       "      <td>25.000000</td>\n",
       "      <td>87.000000</td>\n",
       "    </tr>\n",
       "    <tr>\n",
       "      <th>25%</th>\n",
       "      <td>350.000000</td>\n",
       "      <td>707.000000</td>\n",
       "    </tr>\n",
       "    <tr>\n",
       "      <th>50%</th>\n",
       "      <td>575.000000</td>\n",
       "      <td>908.000000</td>\n",
       "    </tr>\n",
       "    <tr>\n",
       "      <th>75%</th>\n",
       "      <td>925.000000</td>\n",
       "      <td>1162.000000</td>\n",
       "    </tr>\n",
       "    <tr>\n",
       "      <th>max</th>\n",
       "      <td>5000.000000</td>\n",
       "      <td>6694.000000</td>\n",
       "    </tr>\n",
       "  </tbody>\n",
       "</table>\n",
       "</div>"
      ],
      "text/plain": [
       "       loan_amount       length\n",
       "count  7882.000000  7882.000000\n",
       "mean    708.324029  1037.417914\n",
       "std     588.274723   730.269060\n",
       "min      25.000000    87.000000\n",
       "25%     350.000000   707.000000\n",
       "50%     575.000000   908.000000\n",
       "75%     925.000000  1162.000000\n",
       "max    5000.000000  6694.000000"
      ]
     },
     "execution_count": 89,
     "metadata": {},
     "output_type": "execute_result"
    }
   ],
   "source": [
    "kiva_df.head()\n",
    "kiva_df.describe()"
   ]
  },
  {
   "cell_type": "markdown",
   "metadata": {},
   "source": [
    "# EDA"
   ]
  },
  {
   "cell_type": "code",
   "execution_count": 90,
   "metadata": {},
   "outputs": [
    {
     "data": {
      "text/plain": [
       "<matplotlib.axes._subplots.AxesSubplot at 0x2480577ef60>"
      ]
     },
     "execution_count": 90,
     "metadata": {},
     "output_type": "execute_result"
    },
    {
     "data": {
      "image/png": "[encoded data removed]",
      "text/plain": [
       "<matplotlib.figure.Figure at 0x2480643f978>"
      ]
     },
     "metadata": {},
     "output_type": "display_data"
    }
   ],
   "source": [
    "%matplotlib inline\n",
    "color = sns.color_palette()\n",
    "\n",
    "kiva_df['length'].plot(bins=50, kind='hist') "
   ]
  },
  {
   "cell_type": "code",
   "execution_count": 31,
   "metadata": {},
   "outputs": [
    {
     "data": {
      "text/plain": [
       "<matplotlib.figure.Figure at 0x2487cc4f4a8>"
      ]
     },
     "execution_count": 31,
     "metadata": {},
     "output_type": "execute_result"
    },
    {
     "data": {
      "text/plain": [
       "<matplotlib.axes._subplots.AxesSubplot at 0x2487cbcbb00>"
      ]
     },
     "execution_count": 31,
     "metadata": {},
     "output_type": "execute_result"
    },
    {
     "data": {
      "text/plain": [
       "Text(0.8,0,'2391')"
      ]
     },
     "execution_count": 31,
     "metadata": {},
     "output_type": "execute_result"
    },
    {
     "data": {
      "text/plain": [
       "Text(0.8,1,'1862')"
      ]
     },
     "execution_count": 31,
     "metadata": {},
     "output_type": "execute_result"
    },
    {
     "data": {
      "text/plain": [
       "Text(0.8,2,'1097')"
      ]
     },
     "execution_count": 31,
     "metadata": {},
     "output_type": "execute_result"
    },
    {
     "data": {
      "text/plain": [
       "Text(0.8,3,'1070')"
      ]
     },
     "execution_count": 31,
     "metadata": {},
     "output_type": "execute_result"
    },
    {
     "data": {
      "text/plain": [
       "Text(0.8,4,'813')"
      ]
     },
     "execution_count": 31,
     "metadata": {},
     "output_type": "execute_result"
    },
    {
     "data": {
      "text/plain": [
       "Text(0.8,5,'156')"
      ]
     },
     "execution_count": 31,
     "metadata": {},
     "output_type": "execute_result"
    },
    {
     "data": {
      "text/plain": [
       "Text(0.8,6,'143')"
      ]
     },
     "execution_count": 31,
     "metadata": {},
     "output_type": "execute_result"
    },
    {
     "data": {
      "text/plain": [
       "Text(0.8,7,'141')"
      ]
     },
     "execution_count": 31,
     "metadata": {},
     "output_type": "execute_result"
    },
    {
     "data": {
      "text/plain": [
       "Text(0.8,8,'87')"
      ]
     },
     "execution_count": 31,
     "metadata": {},
     "output_type": "execute_result"
    },
    {
     "data": {
      "text/plain": [
       "Text(0.8,9,'48')"
      ]
     },
     "execution_count": 31,
     "metadata": {},
     "output_type": "execute_result"
    },
    {
     "data": {
      "text/plain": [
       "Text(0.8,10,'35')"
      ]
     },
     "execution_count": 31,
     "metadata": {},
     "output_type": "execute_result"
    },
    {
     "data": {
      "text/plain": [
       "Text(0.8,11,'18')"
      ]
     },
     "execution_count": 31,
     "metadata": {},
     "output_type": "execute_result"
    },
    {
     "data": {
      "text/plain": [
       "Text(0.8,12,'14')"
      ]
     },
     "execution_count": 31,
     "metadata": {},
     "output_type": "execute_result"
    },
    {
     "data": {
      "text/plain": [
       "Text(0.8,13,'4')"
      ]
     },
     "execution_count": 31,
     "metadata": {},
     "output_type": "execute_result"
    },
    {
     "data": {
      "text/plain": [
       "Text(0.8,14,'3')"
      ]
     },
     "execution_count": 31,
     "metadata": {},
     "output_type": "execute_result"
    },
    {
     "data": {
      "text/plain": [
       "(array([   0.,  500., 1000., 1500., 2000., 2500., 3000.]),\n",
       " <a list of 7 Text xticklabel objects>)"
      ]
     },
     "execution_count": 31,
     "metadata": {},
     "output_type": "execute_result"
    },
    {
     "data": {
      "text/plain": [
       "Text(0.5,0,'Number of loans were given')"
      ]
     },
     "execution_count": 31,
     "metadata": {},
     "output_type": "execute_result"
    },
    {
     "data": {
      "text/plain": [
       "Text(0,0.5,'Sector Name')"
      ]
     },
     "execution_count": 31,
     "metadata": {},
     "output_type": "execute_result"
    },
    {
     "data": {
      "text/plain": [
       "Text(0.5,1,'Top sectors in which more loans were given')"
      ]
     },
     "execution_count": 31,
     "metadata": {},
     "output_type": "execute_result"
    },
    {
     "data": {
      "image/png": "[encoded data removed]",
      "text/plain": [
       "<matplotlib.figure.Figure at 0x2487cc4f4a8>"
      ]
     },
     "metadata": {},
     "output_type": "display_data"
    }
   ],
   "source": [
    "plt.figure(figsize=(15,8))\n",
    "sector_name = kiva_df['sector'].value_counts()\n",
    "sns.barplot(sector_name.values, sector_name.index)\n",
    "for i, v in enumerate(sector_name.values):\n",
    "    plt.text(0.8,i,v,color='k',fontsize=19)\n",
    "plt.xticks(rotation='vertical')\n",
    "plt.xlabel('Number of loans were given')\n",
    "plt.ylabel('Sector Name')\n",
    "plt.title(\"Top sectors in which more loans were given\")\n",
    "plt.show()\n",
    "#Food is in the top sectors"
   ]
  },
  {
   "cell_type": "markdown",
   "metadata": {},
   "source": []
  },
  {
   "cell_type": "code",
   "execution_count": 33,
   "metadata": {},
   "outputs": [
    {
     "data": {
      "text/plain": [
       "<matplotlib.figure.Figure at 0x2487cb1b1d0>"
      ]
     },
     "execution_count": 33,
     "metadata": {},
     "output_type": "execute_result"
    },
    {
     "data": {
      "text/plain": [
       "<matplotlib.axes._subplots.AxesSubplot at 0x2487cb1b470>"
      ]
     },
     "execution_count": 33,
     "metadata": {},
     "output_type": "execute_result"
    },
    {
     "data": {
      "image/png": "[encoded data removed]",
      "text/plain": [
       "<matplotlib.figure.Figure at 0x2487cb1b1d0>"
      ]
     },
     "metadata": {},
     "output_type": "display_data"
    },
    {
     "data": {
      "text/plain": [
       "<matplotlib.figure.Figure at 0x2487cf07cf8>"
      ]
     },
     "execution_count": 33,
     "metadata": {},
     "output_type": "execute_result"
    },
    {
     "data": {
      "text/plain": [
       "<matplotlib.collections.PathCollection at 0x2487cd11a90>"
      ]
     },
     "execution_count": 33,
     "metadata": {},
     "output_type": "execute_result"
    },
    {
     "data": {
      "text/plain": [
       "Text(0.5,0,'index')"
      ]
     },
     "execution_count": 33,
     "metadata": {},
     "output_type": "execute_result"
    },
    {
     "data": {
      "text/plain": [
       "Text(0,0.5,'loan_amount')"
      ]
     },
     "execution_count": 33,
     "metadata": {},
     "output_type": "execute_result"
    },
    {
     "data": {
      "text/plain": [
       "Text(0.5,1,'Loan Amount Distribution')"
      ]
     },
     "execution_count": 33,
     "metadata": {},
     "output_type": "execute_result"
    },
    {
     "data": {
      "image/png": "[encoded data removed]",
      "text/plain": [
       "<matplotlib.figure.Figure at 0x2487cf07cf8>"
      ]
     },
     "metadata": {},
     "output_type": "display_data"
    }
   ],
   "source": [
    "plt.figure(figsize = (12, 8))\n",
    "\n",
    "sns.distplot(kiva['loan_amount'])\n",
    "plt.show() \n",
    "\n",
    "\n",
    "plt.figure(figsize = (12, 8))\n",
    "plt.scatter(range(kiva.shape[0]), np.sort(kiva.loan_amount.values))\n",
    "plt.xlabel('index', fontsize=12)\n",
    "plt.ylabel('loan_amount', fontsize=12)\n",
    "plt.title(\"Loan Amount Distribution\")\n",
    "plt.show()"
   ]
  },
  {
   "cell_type": "markdown",
   "metadata": {},
   "source": [
    "# Model Development"
   ]
  },
  {
   "cell_type": "code",
   "execution_count": 34,
   "metadata": {},
   "outputs": [
    {
     "data": {
      "text/plain": [
       "array([0, 0, 0, ..., 1, 1, 1], dtype=int64)"
      ]
     },
     "execution_count": 34,
     "metadata": {},
     "output_type": "execute_result"
    }
   ],
   "source": [
    "from sklearn.feature_extraction.text import TfidfVectorizer\n",
    "from sklearn.feature_extraction import DictVectorizer\n",
    "from scipy.sparse import hstack\n",
    "from sklearn.preprocessing import LabelEncoder\n",
    "labelencoder_0 = LabelEncoder() #independent variable encoder\n",
    "encoder = LabelEncoder()\n",
    "encoder.fit_transform(kiva_df['status'])"
   ]
  },
  {
   "cell_type": "code",
   "execution_count": 35,
   "metadata": {},
   "outputs": [],
   "source": [
    "def review_to_words(raw_review):\n",
    "    review_text = BeautifulSoup(raw_review).get_text()   \n",
    "    letters_only = re.sub(\"[^a-zA-Z]\", \" \", review_text) \n",
    "    words = letters_only.lower().split()                             \n",
    "    stops = set(stopwords.words(\"english\"))                  \n",
    "    meaningful_words = [w for w in words if not w in stops]   \n",
    "    return( \" \".join( meaningful_words ))"
   ]
  },
  {
   "cell_type": "code",
   "execution_count": 36,
   "metadata": {},
   "outputs": [
    {
     "name": "stderr",
     "output_type": "stream",
     "text": [
      "C:\\Users\\st50\\AppData\\Local\\Continuum\\anaconda3\\lib\\site-packages\\bs4\\__init__.py:181: UserWarning: No parser was explicitly specified, so I'm using the best available HTML parser for this system (\"lxml\"). This usually isn't a problem, but if you run this code on another system, or in a different virtual environment, it may use a different parser and behave differently.\n",
      "\n",
      "The code that caused this warning is on line 193 of the file C:\\Users\\st50\\AppData\\Local\\Continuum\\anaconda3\\lib\\runpy.py. To get rid of this warning, change code that looks like this:\n",
      "\n",
      " BeautifulSoup(YOUR_MARKUP})\n",
      "\n",
      "to this:\n",
      "\n",
      " BeautifulSoup(YOUR_MARKUP, \"lxml\")\n",
      "\n",
      "  markup_type=markup_type))\n"
     ]
    },
    {
     "ename": "LookupError",
     "evalue": "\n**********************************************************************\n  Resource \u001b[93mstopwords\u001b[0m not found.\n  Please use the NLTK Downloader to obtain the resource:\n\n  \u001b[31m>>> import nltk\n  >>> nltk.download('stopwords')\n  \u001b[0m\n  Searched in:\n    - 'C:\\\\Users\\\\st50/nltk_data'\n    - 'C:\\\\nltk_data'\n    - 'D:\\\\nltk_data'\n    - 'E:\\\\nltk_data'\n    - 'C:\\\\Users\\\\st50\\\\AppData\\\\Local\\\\Continuum\\\\anaconda3\\\\nltk_data'\n    - 'C:\\\\Users\\\\st50\\\\AppData\\\\Local\\\\Continuum\\\\anaconda3\\\\lib\\\\nltk_data'\n    - 'C:\\\\Users\\\\st50\\\\AppData\\\\Roaming\\\\nltk_data'\n**********************************************************************\n",
     "output_type": "error",
     "traceback": [
      "\u001b[1;31m---------------------------------------------------------------------------\u001b[0m",
      "\u001b[1;31mLookupError\u001b[0m                               Traceback (most recent call last)",
      "\u001b[1;32m~\\AppData\\Local\\Continuum\\anaconda3\\lib\\site-packages\\nltk\\corpus\\util.py\u001b[0m in \u001b[0;36m__load\u001b[1;34m(self)\u001b[0m\n\u001b[0;32m     79\u001b[0m             \u001b[1;32mexcept\u001b[0m \u001b[0mLookupError\u001b[0m \u001b[1;32mas\u001b[0m \u001b[0me\u001b[0m\u001b[1;33m:\u001b[0m\u001b[1;33m\u001b[0m\u001b[0m\n\u001b[1;32m---> 80\u001b[1;33m                 \u001b[1;32mtry\u001b[0m\u001b[1;33m:\u001b[0m \u001b[0mroot\u001b[0m \u001b[1;33m=\u001b[0m \u001b[0mnltk\u001b[0m\u001b[1;33m.\u001b[0m\u001b[0mdata\u001b[0m\u001b[1;33m.\u001b[0m\u001b[0mfind\u001b[0m\u001b[1;33m(\u001b[0m\u001b[1;34m'{}/{}'\u001b[0m\u001b[1;33m.\u001b[0m\u001b[0mformat\u001b[0m\u001b[1;33m(\u001b[0m\u001b[0mself\u001b[0m\u001b[1;33m.\u001b[0m\u001b[0msubdir\u001b[0m\u001b[1;33m,\u001b[0m \u001b[0mzip_name\u001b[0m\u001b[1;33m)\u001b[0m\u001b[1;33m)\u001b[0m\u001b[1;33m\u001b[0m\u001b[0m\n\u001b[0m\u001b[0;32m     81\u001b[0m                 \u001b[1;32mexcept\u001b[0m \u001b[0mLookupError\u001b[0m\u001b[1;33m:\u001b[0m \u001b[1;32mraise\u001b[0m \u001b[0me\u001b[0m\u001b[1;33m\u001b[0m\u001b[0m\n",
      "\u001b[1;32m~\\AppData\\Local\\Continuum\\anaconda3\\lib\\site-packages\\nltk\\data.py\u001b[0m in \u001b[0;36mfind\u001b[1;34m(resource_name, paths)\u001b[0m\n\u001b[0;32m    672\u001b[0m     \u001b[0mresource_not_found\u001b[0m \u001b[1;33m=\u001b[0m \u001b[1;34m'\\n%s\\n%s\\n%s\\n'\u001b[0m \u001b[1;33m%\u001b[0m \u001b[1;33m(\u001b[0m\u001b[0msep\u001b[0m\u001b[1;33m,\u001b[0m \u001b[0mmsg\u001b[0m\u001b[1;33m,\u001b[0m \u001b[0msep\u001b[0m\u001b[1;33m)\u001b[0m\u001b[1;33m\u001b[0m\u001b[0m\n\u001b[1;32m--> 673\u001b[1;33m     \u001b[1;32mraise\u001b[0m \u001b[0mLookupError\u001b[0m\u001b[1;33m(\u001b[0m\u001b[0mresource_not_found\u001b[0m\u001b[1;33m)\u001b[0m\u001b[1;33m\u001b[0m\u001b[0m\n\u001b[0m\u001b[0;32m    674\u001b[0m \u001b[1;33m\u001b[0m\u001b[0m\n",
      "\u001b[1;31mLookupError\u001b[0m: \n**********************************************************************\n  Resource \u001b[93mstopwords\u001b[0m not found.\n  Please use the NLTK Downloader to obtain the resource:\n\n  \u001b[31m>>> import nltk\n  >>> nltk.download('stopwords')\n  \u001b[0m\n  Searched in:\n    - 'C:\\\\Users\\\\st50/nltk_data'\n    - 'C:\\\\nltk_data'\n    - 'D:\\\\nltk_data'\n    - 'E:\\\\nltk_data'\n    - 'C:\\\\Users\\\\st50\\\\AppData\\\\Local\\\\Continuum\\\\anaconda3\\\\nltk_data'\n    - 'C:\\\\Users\\\\st50\\\\AppData\\\\Local\\\\Continuum\\\\anaconda3\\\\lib\\\\nltk_data'\n    - 'C:\\\\Users\\\\st50\\\\AppData\\\\Roaming\\\\nltk_data'\n**********************************************************************\n",
      "\nDuring handling of the above exception, another exception occurred:\n",
      "\u001b[1;31mLookupError\u001b[0m                               Traceback (most recent call last)",
      "\u001b[1;32m<ipython-input-36-31c8c8d4403e>\u001b[0m in \u001b[0;36m<module>\u001b[1;34m()\u001b[0m\n\u001b[1;32m----> 1\u001b[1;33m \u001b[0mkiva_df\u001b[0m\u001b[1;33m[\u001b[0m\u001b[1;34m'story'\u001b[0m\u001b[1;33m]\u001b[0m\u001b[1;33m=\u001b[0m\u001b[0mkiva_df\u001b[0m\u001b[1;33m[\u001b[0m\u001b[1;34m'story'\u001b[0m\u001b[1;33m]\u001b[0m\u001b[1;33m.\u001b[0m\u001b[0mapply\u001b[0m\u001b[1;33m(\u001b[0m\u001b[0mreview_to_words\u001b[0m\u001b[1;33m)\u001b[0m\u001b[1;33m\u001b[0m\u001b[0m\n\u001b[0m",
      "\u001b[1;32m~\\AppData\\Local\\Continuum\\anaconda3\\lib\\site-packages\\pandas\\core\\series.py\u001b[0m in \u001b[0;36mapply\u001b[1;34m(self, func, convert_dtype, args, **kwds)\u001b[0m\n\u001b[0;32m   2549\u001b[0m             \u001b[1;32melse\u001b[0m\u001b[1;33m:\u001b[0m\u001b[1;33m\u001b[0m\u001b[0m\n\u001b[0;32m   2550\u001b[0m                 \u001b[0mvalues\u001b[0m \u001b[1;33m=\u001b[0m \u001b[0mself\u001b[0m\u001b[1;33m.\u001b[0m\u001b[0masobject\u001b[0m\u001b[1;33m\u001b[0m\u001b[0m\n\u001b[1;32m-> 2551\u001b[1;33m                 \u001b[0mmapped\u001b[0m \u001b[1;33m=\u001b[0m \u001b[0mlib\u001b[0m\u001b[1;33m.\u001b[0m\u001b[0mmap_infer\u001b[0m\u001b[1;33m(\u001b[0m\u001b[0mvalues\u001b[0m\u001b[1;33m,\u001b[0m \u001b[0mf\u001b[0m\u001b[1;33m,\u001b[0m \u001b[0mconvert\u001b[0m\u001b[1;33m=\u001b[0m\u001b[0mconvert_dtype\u001b[0m\u001b[1;33m)\u001b[0m\u001b[1;33m\u001b[0m\u001b[0m\n\u001b[0m\u001b[0;32m   2552\u001b[0m \u001b[1;33m\u001b[0m\u001b[0m\n\u001b[0;32m   2553\u001b[0m         \u001b[1;32mif\u001b[0m \u001b[0mlen\u001b[0m\u001b[1;33m(\u001b[0m\u001b[0mmapped\u001b[0m\u001b[1;33m)\u001b[0m \u001b[1;32mand\u001b[0m \u001b[0misinstance\u001b[0m\u001b[1;33m(\u001b[0m\u001b[0mmapped\u001b[0m\u001b[1;33m[\u001b[0m\u001b[1;36m0\u001b[0m\u001b[1;33m]\u001b[0m\u001b[1;33m,\u001b[0m \u001b[0mSeries\u001b[0m\u001b[1;33m)\u001b[0m\u001b[1;33m:\u001b[0m\u001b[1;33m\u001b[0m\u001b[0m\n",
      "\u001b[1;32mpandas/_libs/src/inference.pyx\u001b[0m in \u001b[0;36mpandas._libs.lib.map_infer\u001b[1;34m()\u001b[0m\n",
      "\u001b[1;32m<ipython-input-35-66940acbab4b>\u001b[0m in \u001b[0;36mreview_to_words\u001b[1;34m(raw_review)\u001b[0m\n\u001b[0;32m      3\u001b[0m     \u001b[0mletters_only\u001b[0m \u001b[1;33m=\u001b[0m \u001b[0mre\u001b[0m\u001b[1;33m.\u001b[0m\u001b[0msub\u001b[0m\u001b[1;33m(\u001b[0m\u001b[1;34m\"[^a-zA-Z]\"\u001b[0m\u001b[1;33m,\u001b[0m \u001b[1;34m\" \"\u001b[0m\u001b[1;33m,\u001b[0m \u001b[0mreview_text\u001b[0m\u001b[1;33m)\u001b[0m\u001b[1;33m\u001b[0m\u001b[0m\n\u001b[0;32m      4\u001b[0m     \u001b[0mwords\u001b[0m \u001b[1;33m=\u001b[0m \u001b[0mletters_only\u001b[0m\u001b[1;33m.\u001b[0m\u001b[0mlower\u001b[0m\u001b[1;33m(\u001b[0m\u001b[1;33m)\u001b[0m\u001b[1;33m.\u001b[0m\u001b[0msplit\u001b[0m\u001b[1;33m(\u001b[0m\u001b[1;33m)\u001b[0m\u001b[1;33m\u001b[0m\u001b[0m\n\u001b[1;32m----> 5\u001b[1;33m     \u001b[0mstops\u001b[0m \u001b[1;33m=\u001b[0m \u001b[0mset\u001b[0m\u001b[1;33m(\u001b[0m\u001b[0mstopwords\u001b[0m\u001b[1;33m.\u001b[0m\u001b[0mwords\u001b[0m\u001b[1;33m(\u001b[0m\u001b[1;34m\"english\"\u001b[0m\u001b[1;33m)\u001b[0m\u001b[1;33m)\u001b[0m\u001b[1;33m\u001b[0m\u001b[0m\n\u001b[0m\u001b[0;32m      6\u001b[0m     \u001b[0mmeaningful_words\u001b[0m \u001b[1;33m=\u001b[0m \u001b[1;33m[\u001b[0m\u001b[0mw\u001b[0m \u001b[1;32mfor\u001b[0m \u001b[0mw\u001b[0m \u001b[1;32min\u001b[0m \u001b[0mwords\u001b[0m \u001b[1;32mif\u001b[0m \u001b[1;32mnot\u001b[0m \u001b[0mw\u001b[0m \u001b[1;32min\u001b[0m \u001b[0mstops\u001b[0m\u001b[1;33m]\u001b[0m\u001b[1;33m\u001b[0m\u001b[0m\n\u001b[0;32m      7\u001b[0m     \u001b[1;32mreturn\u001b[0m\u001b[1;33m(\u001b[0m \u001b[1;34m\" \"\u001b[0m\u001b[1;33m.\u001b[0m\u001b[0mjoin\u001b[0m\u001b[1;33m(\u001b[0m \u001b[0mmeaningful_words\u001b[0m \u001b[1;33m)\u001b[0m\u001b[1;33m)\u001b[0m\u001b[1;33m\u001b[0m\u001b[0m\n",
      "\u001b[1;32m~\\AppData\\Local\\Continuum\\anaconda3\\lib\\site-packages\\nltk\\corpus\\util.py\u001b[0m in \u001b[0;36m__getattr__\u001b[1;34m(self, attr)\u001b[0m\n\u001b[0;32m    114\u001b[0m             \u001b[1;32mraise\u001b[0m \u001b[0mAttributeError\u001b[0m\u001b[1;33m(\u001b[0m\u001b[1;34m\"LazyCorpusLoader object has no attribute '__bases__'\"\u001b[0m\u001b[1;33m)\u001b[0m\u001b[1;33m\u001b[0m\u001b[0m\n\u001b[0;32m    115\u001b[0m \u001b[1;33m\u001b[0m\u001b[0m\n\u001b[1;32m--> 116\u001b[1;33m         \u001b[0mself\u001b[0m\u001b[1;33m.\u001b[0m\u001b[0m__load\u001b[0m\u001b[1;33m(\u001b[0m\u001b[1;33m)\u001b[0m\u001b[1;33m\u001b[0m\u001b[0m\n\u001b[0m\u001b[0;32m    117\u001b[0m         \u001b[1;31m# This looks circular, but its not, since __load() changes our\u001b[0m\u001b[1;33m\u001b[0m\u001b[1;33m\u001b[0m\u001b[0m\n\u001b[0;32m    118\u001b[0m         \u001b[1;31m# __class__ to something new:\u001b[0m\u001b[1;33m\u001b[0m\u001b[1;33m\u001b[0m\u001b[0m\n",
      "\u001b[1;32m~\\AppData\\Local\\Continuum\\anaconda3\\lib\\site-packages\\nltk\\corpus\\util.py\u001b[0m in \u001b[0;36m__load\u001b[1;34m(self)\u001b[0m\n\u001b[0;32m     79\u001b[0m             \u001b[1;32mexcept\u001b[0m \u001b[0mLookupError\u001b[0m \u001b[1;32mas\u001b[0m \u001b[0me\u001b[0m\u001b[1;33m:\u001b[0m\u001b[1;33m\u001b[0m\u001b[0m\n\u001b[0;32m     80\u001b[0m                 \u001b[1;32mtry\u001b[0m\u001b[1;33m:\u001b[0m \u001b[0mroot\u001b[0m \u001b[1;33m=\u001b[0m \u001b[0mnltk\u001b[0m\u001b[1;33m.\u001b[0m\u001b[0mdata\u001b[0m\u001b[1;33m.\u001b[0m\u001b[0mfind\u001b[0m\u001b[1;33m(\u001b[0m\u001b[1;34m'{}/{}'\u001b[0m\u001b[1;33m.\u001b[0m\u001b[0mformat\u001b[0m\u001b[1;33m(\u001b[0m\u001b[0mself\u001b[0m\u001b[1;33m.\u001b[0m\u001b[0msubdir\u001b[0m\u001b[1;33m,\u001b[0m \u001b[0mzip_name\u001b[0m\u001b[1;33m)\u001b[0m\u001b[1;33m)\u001b[0m\u001b[1;33m\u001b[0m\u001b[0m\n\u001b[1;32m---> 81\u001b[1;33m                 \u001b[1;32mexcept\u001b[0m \u001b[0mLookupError\u001b[0m\u001b[1;33m:\u001b[0m \u001b[1;32mraise\u001b[0m \u001b[0me\u001b[0m\u001b[1;33m\u001b[0m\u001b[0m\n\u001b[0m\u001b[0;32m     82\u001b[0m \u001b[1;33m\u001b[0m\u001b[0m\n\u001b[0;32m     83\u001b[0m         \u001b[1;31m# Load the corpus.\u001b[0m\u001b[1;33m\u001b[0m\u001b[1;33m\u001b[0m\u001b[0m\n",
      "\u001b[1;32m~\\AppData\\Local\\Continuum\\anaconda3\\lib\\site-packages\\nltk\\corpus\\util.py\u001b[0m in \u001b[0;36m__load\u001b[1;34m(self)\u001b[0m\n\u001b[0;32m     76\u001b[0m         \u001b[1;32melse\u001b[0m\u001b[1;33m:\u001b[0m\u001b[1;33m\u001b[0m\u001b[0m\n\u001b[0;32m     77\u001b[0m             \u001b[1;32mtry\u001b[0m\u001b[1;33m:\u001b[0m\u001b[1;33m\u001b[0m\u001b[0m\n\u001b[1;32m---> 78\u001b[1;33m                 \u001b[0mroot\u001b[0m \u001b[1;33m=\u001b[0m \u001b[0mnltk\u001b[0m\u001b[1;33m.\u001b[0m\u001b[0mdata\u001b[0m\u001b[1;33m.\u001b[0m\u001b[0mfind\u001b[0m\u001b[1;33m(\u001b[0m\u001b[1;34m'{}/{}'\u001b[0m\u001b[1;33m.\u001b[0m\u001b[0mformat\u001b[0m\u001b[1;33m(\u001b[0m\u001b[0mself\u001b[0m\u001b[1;33m.\u001b[0m\u001b[0msubdir\u001b[0m\u001b[1;33m,\u001b[0m \u001b[0mself\u001b[0m\u001b[1;33m.\u001b[0m\u001b[0m__name\u001b[0m\u001b[1;33m)\u001b[0m\u001b[1;33m)\u001b[0m\u001b[1;33m\u001b[0m\u001b[0m\n\u001b[0m\u001b[0;32m     79\u001b[0m             \u001b[1;32mexcept\u001b[0m \u001b[0mLookupError\u001b[0m \u001b[1;32mas\u001b[0m \u001b[0me\u001b[0m\u001b[1;33m:\u001b[0m\u001b[1;33m\u001b[0m\u001b[0m\n\u001b[0;32m     80\u001b[0m                 \u001b[1;32mtry\u001b[0m\u001b[1;33m:\u001b[0m \u001b[0mroot\u001b[0m \u001b[1;33m=\u001b[0m \u001b[0mnltk\u001b[0m\u001b[1;33m.\u001b[0m\u001b[0mdata\u001b[0m\u001b[1;33m.\u001b[0m\u001b[0mfind\u001b[0m\u001b[1;33m(\u001b[0m\u001b[1;34m'{}/{}'\u001b[0m\u001b[1;33m.\u001b[0m\u001b[0mformat\u001b[0m\u001b[1;33m(\u001b[0m\u001b[0mself\u001b[0m\u001b[1;33m.\u001b[0m\u001b[0msubdir\u001b[0m\u001b[1;33m,\u001b[0m \u001b[0mzip_name\u001b[0m\u001b[1;33m)\u001b[0m\u001b[1;33m)\u001b[0m\u001b[1;33m\u001b[0m\u001b[0m\n",
      "\u001b[1;32m~\\AppData\\Local\\Continuum\\anaconda3\\lib\\site-packages\\nltk\\data.py\u001b[0m in \u001b[0;36mfind\u001b[1;34m(resource_name, paths)\u001b[0m\n\u001b[0;32m    671\u001b[0m     \u001b[0msep\u001b[0m \u001b[1;33m=\u001b[0m \u001b[1;34m'*'\u001b[0m \u001b[1;33m*\u001b[0m \u001b[1;36m70\u001b[0m\u001b[1;33m\u001b[0m\u001b[0m\n\u001b[0;32m    672\u001b[0m     \u001b[0mresource_not_found\u001b[0m \u001b[1;33m=\u001b[0m \u001b[1;34m'\\n%s\\n%s\\n%s\\n'\u001b[0m \u001b[1;33m%\u001b[0m \u001b[1;33m(\u001b[0m\u001b[0msep\u001b[0m\u001b[1;33m,\u001b[0m \u001b[0mmsg\u001b[0m\u001b[1;33m,\u001b[0m \u001b[0msep\u001b[0m\u001b[1;33m)\u001b[0m\u001b[1;33m\u001b[0m\u001b[0m\n\u001b[1;32m--> 673\u001b[1;33m     \u001b[1;32mraise\u001b[0m \u001b[0mLookupError\u001b[0m\u001b[1;33m(\u001b[0m\u001b[0mresource_not_found\u001b[0m\u001b[1;33m)\u001b[0m\u001b[1;33m\u001b[0m\u001b[0m\n\u001b[0m\u001b[0;32m    674\u001b[0m \u001b[1;33m\u001b[0m\u001b[0m\n\u001b[0;32m    675\u001b[0m \u001b[1;33m\u001b[0m\u001b[0m\n",
      "\u001b[1;31mLookupError\u001b[0m: \n**********************************************************************\n  Resource \u001b[93mstopwords\u001b[0m not found.\n  Please use the NLTK Downloader to obtain the resource:\n\n  \u001b[31m>>> import nltk\n  >>> nltk.download('stopwords')\n  \u001b[0m\n  Searched in:\n    - 'C:\\\\Users\\\\st50/nltk_data'\n    - 'C:\\\\nltk_data'\n    - 'D:\\\\nltk_data'\n    - 'E:\\\\nltk_data'\n    - 'C:\\\\Users\\\\st50\\\\AppData\\\\Local\\\\Continuum\\\\anaconda3\\\\nltk_data'\n    - 'C:\\\\Users\\\\st50\\\\AppData\\\\Local\\\\Continuum\\\\anaconda3\\\\lib\\\\nltk_data'\n    - 'C:\\\\Users\\\\st50\\\\AppData\\\\Roaming\\\\nltk_data'\n**********************************************************************\n"
     ]
    }
   ],
   "source": [
    "kiva_df['story']=kiva_df['story'].apply(review_to_words)\n",
    "nltk.download('stopwords')"
   ]
  },
  {
   "cell_type": "code",
   "execution_count": 37,
   "metadata": {},
   "outputs": [
    {
     "name": "stdout",
     "output_type": "stream",
     "text": [
      "[nltk_data] Downloading package stopwords to\n",
      "[nltk_data]     C:\\Users\\st50\\AppData\\Roaming\\nltk_data...\n",
      "[nltk_data]   Unzipping corpora\\stopwords.zip.\n"
     ]
    },
    {
     "data": {
      "text/plain": [
       "True"
      ]
     },
     "execution_count": 37,
     "metadata": {},
     "output_type": "execute_result"
    }
   ],
   "source": []
  },
  {
   "cell_type": "code",
   "execution_count": null,
   "metadata": {},
   "outputs": [],
   "source": [
    "target_column = 'status'\n",
    "feature_columns = ['sector', 'story', 'country', 'gender','loan_amount','nonpayment','length']\n",
    "X = kiva_df[feature_columns]\n",
    "y = kiva_df[target_column]\n",
    "#X = np.array(X)\n",
    "#y = np.array(y)\n",
    "print(X.shape)\n",
    "print(y.shape)"
   ]
  },
  {
   "cell_type": "code",
   "execution_count": null,
   "metadata": {},
   "outputs": [],
   "source": [
    "from sklearn.model_selection import train_test_split\n",
    "X_train, X_test, y_train, y_test = train_test_split(X, y, test_size=0.2, random_state=0)\n",
    "print(len(X_train), len(X_test), len(y_train) ,len(y_test))\n",
    "X_train.shape, X_test.shape, y_train.shape, y_test.shape"
   ]
  },
  {
   "cell_type": "code",
   "execution_count": null,
   "metadata": {},
   "outputs": [],
   "source": [
    "vectorizer = TfidfVectorizer(min_df=5)\n",
    "X_tfidf = vectorizer.fit_transform(X_train['story']) "
   ]
  },
  {
   "cell_type": "code",
   "execution_count": null,
   "metadata": {},
   "outputs": [],
   "source": [
    "enc = DictVectorizer()\n",
    "X_train_categ = enc.fit_transform(X_train[['sector','country', 'gender','loan_amount','nonpayment','length']].to_dict('records'))\n",
    "X = hstack([X_tfidf,X_train_categ])"
   ]
  },
  {
   "cell_type": "code",
   "execution_count": null,
   "metadata": {},
   "outputs": [],
   "source": [
    "classifier=tree.DecisionTreeClassifier()\n",
    "model=classifier.fit(X,y_train)"
   ]
  },
  {
   "cell_type": "code",
   "execution_count": null,
   "metadata": {},
   "outputs": [],
   "source": [
    "X_tfidf_t = vectorizer.transform(X_test['story']) \n",
    "X_test_categ = enc.transform(X_test[['sector','country', 'gender','loan_amount','nonpayment','length']].to_dict('records'))\n",
    "X_t = hstack([X_tfidf_t,X_test_categ])"
   ]
  },
  {
   "cell_type": "code",
   "execution_count": null,
   "metadata": {},
   "outputs": [],
   "source": [
    "rslt = model.predict(X_t)"
   ]
  },
  {
   "cell_type": "code",
   "execution_count": null,
   "metadata": {},
   "outputs": [],
   "source": [
    "from sklearn.metrics import accuracy_score\n",
    "accuracy_score(y_test, rslt)"
   ]
  },
  {
   "cell_type": "markdown",
   "metadata": {},
   "source": [
    "# Topic Modeling"
   ]
  },
  {
   "cell_type": "code",
   "execution_count": null,
   "metadata": {},
   "outputs": [],
   "source": []
  },
  {
   "cell_type": "code",
   "execution_count": null,
   "metadata": {},
   "outputs": [],
   "source": []
  },
  {
   "cell_type": "code",
   "execution_count": 72,
   "metadata": {},
   "outputs": [
    {
     "name": "stdout",
     "output_type": "stream",
     "text": [
      "(7882, 1000)\n",
      "(7882, 1000)\n",
      "Wall time: 13.7 s\n"
     ]
    }
   ],
   "source": [
    "%%time\n",
    "\n",
    "from sklearn.feature_extraction.text import TfidfVectorizer, CountVectorizer\n",
    "\n",
    "no_features = 1000\n",
    "\n",
    "# LDA can only use raw term counts for LDA because it is a probabilistic graphical model\n",
    "tf_vectorizer = CountVectorizer(max_df=0.95, min_df=2, max_features=no_features, \n",
    "                                stop_words=['english', 'spanish'], strip_accents='unicode', lowercase=True, ngram_range=[1,3])\n",
    "dtm_tf = tf_vectorizer.fit_transform(kiva_df['story'])\n",
    "print(dtm_tf.shape)\n",
    "\n",
    "tfidf_vectorizer = TfidfVectorizer(max_df=0.95, min_df=2, max_features=no_features, \n",
    "                                stop_words=['english', 'spanish'], strip_accents='unicode', lowercase=True, ngram_range=[1,3])\n",
    "dtm_tfidf = tfidf_vectorizer.fit_transform(kiva_df['story'])\n",
    "print(dtm_tfidf.shape)"
   ]
  },
  {
   "cell_type": "code",
   "execution_count": 69,
   "metadata": {},
   "outputs": [
    {
     "name": "stdout",
     "output_type": "stream",
     "text": [
      "Wall time: 14 s\n"
     ]
    }
   ],
   "source": [
    "%%time\n",
    "from sklearn.decomposition import NMF, LatentDirichletAllocation\n",
    "lda_tfidf = LatentDirichletAllocation(n_components=20, max_iter=10, learning_method='online', learning_offset=50.,random_state=0).fit(dtm_tfidf)\n",
    "#nmf = NMF(n_components=20, random_state=1, alpha=.1, l1_ratio=.5, init='nndsvd').fit(tfidf)"
   ]
  },
  {
   "cell_type": "code",
   "execution_count": 75,
   "metadata": {},
   "outputs": [
    {
     "name": "stdout",
     "output_type": "stream",
     "text": [
      "LDA Topics:\n",
      " Topic 1: she her mifex org she is is www mifex org\n",
      " Topic 2: her she is in business has\n",
      " Topic 3: www mifex mifex org www mifex org she her br\n",
      " Topic 4: she she has and she has her feed\n",
      " Topic 5: font she her dairy is has\n",
      " Topic 6: his he font us is my\n",
      " Topic 7: she her she was is was has\n",
      " Topic 8: mifex org www mifex org www mifex www mifex org\n",
      " Topic 9: she her fruits is in baba\n",
      " Topic 10: she her is in she has baba\n",
      " Topic 11: she farmers is her www mifex was\n",
      " Topic 12: she her farmers is baba rice\n",
      " Topic 13: h4 rice personal information description of the personal\n",
      " Topic 14: she her is in mary has\n",
      " Topic 15: she her she has dairy group cow\n",
      " Topic 16: she her br is in not\n",
      " Topic 17: his he in is his business business\n",
      " Topic 18: she us her is in are\n",
      " Topic 19: she www mifex org mifex org www mifex she is her\n",
      " Topic 20: span su de span span que en\n"
     ]
    }
   ],
   "source": [
    "def display_topics(model, feature_names, no_top_words):\n",
    "    for topic_idx, topic in enumerate(model.components_):\n",
    "        print(\" Topic {:d}: \".format(topic_idx+1), end = '')\n",
    "        print(\" \".join([feature_names[i]\n",
    "                        for i in topic.argsort()[:-no_top_words - 1:-1]]))\n",
    "\n",
    "no_top_words = 6\n",
    "print(\"LDA Topics:\")\n",
    "display_topics(lda_tfidf, tfidf_vectorizer.get_feature_names(), no_top_words)\n",
    "\n",
    "#print(\"NMF Topics:\")\n",
    "#display_topics(nmf, tf_feature_names, no_top_words)"
   ]
  },
  {
   "cell_type": "code",
   "execution_count": 74,
   "metadata": {},
   "outputs": [
    {
     "data": {
      "text/html": [
       "\n",
       "<link rel=\"stylesheet\" type=\"text/css\" href=\"https://cdn.rawgit.com/bmabey/pyLDAvis/files/ldavis.v1.0.0.css\">\n",
       "\n",
       "\n",
       "<div id=\"ldavis_el69882508294671960722396467\"></div>\n",
       "<script type=\"text/javascript\">\n",
       "\n",
       "var ldavis_el69882508294671960722396467_data = {\"mdsDat\": {\"Freq\": [63.595754779873396, 17.655378598631685, 5.7799445842103445, 4.398148210426695, 0.9947453648464409, 0.5660694841641697, 0.5007113555605184, 0.5007113555605184, 0.5007113555605184, 0.5007113555605184, 0.5007113555605184, 0.5007113555605184, 0.5007113555605184, 0.5007113555605184, 0.5007113555605184, 0.5007113555605184, 0.5007113555605184, 0.5007113555605184, 0.5007113555605184, 0.5007113555605184], \"cluster\": [1, 1, 1, 1, 1, 1, 1, 1, 1, 1, 1, 1, 1, 1, 1, 1, 1, 1, 1, 1], \"topics\": [1, 2, 3, 4, 5, 6, 7, 8, 9, 10, 11, 12, 13, 14, 15, 16, 17, 18, 19, 20], \"x\": [-39.672428131103516, -257.04364013671875, 14.980900764465332, 349.5540466308594, -152.87567138671875, -150.68222045898438, 97.34661102294922, -11.086870193481445, -294.65692138671875, 208.9676055908203, 255.61184692382812, 182.72769165039062, 242.10206604003906, 84.6722640991211, 43.81886291503906, -163.25387573242188, 137.79681396484375, -55.74895095825195, -130.56248474121094, -315.23956298828125], \"y\": [156.47470092773438, -172.60818481445312, 314.6821594238281, 15.546759605407715, -49.60184860229492, 280.4111633300781, 152.0247039794922, 7.907200813293457, 178.57945251464844, -249.38906860351562, 144.3877716064453, 296.5669860839844, -95.9447250366211, -121.04180145263672, -286.69873046875, 91.87334442138672, 16.722646713256836, -151.13272094726562, -293.95721435546875, -3.581282377243042]}, \"tinfo\": {\"Category\": [\"Default\", \"Default\", \"Default\", \"Default\", \"Default\", \"Default\", \"Default\", \"Default\", \"Default\", \"Default\", \"Default\", \"Default\", \"Default\", \"Default\", \"Default\", \"Default\", \"Default\", \"Default\", \"Default\", \"Default\", \"Default\", \"Default\", \"Default\", \"Default\", \"Default\", \"Default\", \"Default\", \"Default\", \"Default\", \"Default\", \"Topic1\", \"Topic1\", \"Topic1\", \"Topic1\", \"Topic1\", \"Topic1\", \"Topic1\", \"Topic1\", \"Topic1\", \"Topic1\", \"Topic1\", \"Topic1\", \"Topic1\", \"Topic1\", \"Topic1\", \"Topic1\", \"Topic1\", \"Topic1\", \"Topic1\", \"Topic1\", \"Topic1\", \"Topic1\", \"Topic1\", \"Topic1\", \"Topic1\", \"Topic1\", \"Topic1\", \"Topic1\", \"Topic1\", \"Topic1\", \"Topic1\", \"Topic1\", \"Topic1\", \"Topic1\", \"Topic1\", \"Topic1\", \"Topic1\", \"Topic1\", \"Topic1\", \"Topic1\", \"Topic1\", \"Topic1\", \"Topic1\", \"Topic1\", \"Topic1\", \"Topic1\", \"Topic1\", \"Topic1\", \"Topic1\", \"Topic1\", \"Topic1\", \"Topic2\", \"Topic2\", \"Topic2\", \"Topic2\", \"Topic2\", \"Topic2\", \"Topic2\", \"Topic2\", \"Topic2\", \"Topic2\", \"Topic2\", \"Topic2\", \"Topic2\", \"Topic2\", \"Topic2\", \"Topic2\", \"Topic2\", \"Topic2\", \"Topic2\", \"Topic2\", \"Topic2\", \"Topic2\", \"Topic2\", \"Topic2\", \"Topic2\", \"Topic2\", \"Topic2\", \"Topic2\", \"Topic2\", \"Topic2\", \"Topic2\", \"Topic2\", \"Topic2\", \"Topic2\", \"Topic2\", \"Topic2\", \"Topic2\", \"Topic2\", \"Topic2\", \"Topic2\", \"Topic2\", \"Topic2\", \"Topic2\", \"Topic2\", \"Topic2\", \"Topic2\", \"Topic2\", \"Topic2\", \"Topic2\", \"Topic2\", \"Topic2\", \"Topic3\", \"Topic3\", \"Topic3\", \"Topic3\", \"Topic3\", \"Topic3\", \"Topic3\", \"Topic3\", \"Topic3\", \"Topic3\", \"Topic3\", \"Topic3\", \"Topic3\", \"Topic3\", \"Topic3\", \"Topic3\", \"Topic3\", \"Topic3\", \"Topic3\", \"Topic3\", \"Topic3\", \"Topic3\", \"Topic3\", \"Topic3\", \"Topic3\", \"Topic3\", \"Topic3\", \"Topic3\", \"Topic3\", \"Topic3\", \"Topic3\", \"Topic3\", \"Topic3\", \"Topic3\", \"Topic3\", \"Topic3\", \"Topic3\", \"Topic3\", \"Topic4\", \"Topic4\", \"Topic4\", \"Topic4\", \"Topic4\", \"Topic4\", \"Topic4\", \"Topic4\", \"Topic4\", \"Topic4\", \"Topic4\", \"Topic4\", \"Topic4\", \"Topic4\", \"Topic4\", \"Topic4\", \"Topic4\", \"Topic4\", \"Topic4\", \"Topic4\", \"Topic4\", \"Topic4\", \"Topic4\", \"Topic4\", \"Topic4\", \"Topic4\", \"Topic4\", \"Topic4\", \"Topic4\", \"Topic4\", \"Topic4\", \"Topic4\", \"Topic4\", \"Topic4\", \"Topic4\", \"Topic4\", \"Topic4\", \"Topic4\", \"Topic4\", \"Topic4\", \"Topic4\", \"Topic4\", \"Topic4\", \"Topic4\", \"Topic4\", \"Topic4\", \"Topic5\", \"Topic5\", \"Topic5\", \"Topic5\", \"Topic5\", \"Topic5\", \"Topic5\", \"Topic5\", \"Topic5\", \"Topic5\", \"Topic5\", \"Topic5\", \"Topic5\", \"Topic5\", \"Topic5\", \"Topic5\", \"Topic5\", \"Topic5\", \"Topic5\", \"Topic5\", \"Topic5\", \"Topic5\", \"Topic5\", \"Topic5\", \"Topic5\", \"Topic5\", \"Topic5\", \"Topic5\", \"Topic5\", \"Topic5\", \"Topic5\", \"Topic6\", \"Topic6\", \"Topic6\", \"Topic6\", \"Topic6\", \"Topic6\", \"Topic6\", \"Topic6\", \"Topic6\", \"Topic6\", \"Topic6\", \"Topic6\", \"Topic6\", \"Topic6\", \"Topic6\", \"Topic6\", \"Topic6\", \"Topic6\", \"Topic6\", \"Topic6\", \"Topic6\", \"Topic6\", \"Topic6\", \"Topic6\", \"Topic6\", \"Topic6\", \"Topic6\", \"Topic6\", \"Topic6\", \"Topic6\", \"Topic6\", \"Topic6\", \"Topic6\", \"Topic6\", \"Topic6\", \"Topic6\", \"Topic6\", \"Topic6\", \"Topic6\", \"Topic6\", \"Topic6\", \"Topic6\", \"Topic6\", \"Topic6\", \"Topic6\", \"Topic6\", \"Topic6\", \"Topic6\", \"Topic6\", \"Topic6\", \"Topic6\", \"Topic6\", \"Topic6\", \"Topic6\", \"Topic6\", \"Topic6\", \"Topic6\", \"Topic6\", \"Topic6\", \"Topic7\", \"Topic7\", \"Topic7\", \"Topic7\", \"Topic7\", \"Topic7\", \"Topic7\", \"Topic7\", \"Topic7\", \"Topic7\", \"Topic7\", \"Topic7\", \"Topic7\", \"Topic7\", \"Topic7\", \"Topic7\", \"Topic7\", \"Topic7\", \"Topic7\", \"Topic7\", \"Topic7\", \"Topic7\", \"Topic7\", \"Topic7\", \"Topic7\", \"Topic7\", \"Topic7\", \"Topic7\", \"Topic7\", \"Topic7\", \"Topic7\", \"Topic7\", \"Topic7\", \"Topic7\", \"Topic7\", \"Topic7\", \"Topic7\", \"Topic7\", \"Topic7\", \"Topic7\", \"Topic7\", \"Topic7\", \"Topic7\", \"Topic7\", \"Topic7\", \"Topic7\", \"Topic7\", \"Topic7\", \"Topic7\", \"Topic7\", \"Topic7\", \"Topic7\", \"Topic7\", \"Topic7\", \"Topic7\", \"Topic7\", \"Topic7\", \"Topic7\", \"Topic7\", \"Topic7\", \"Topic8\", \"Topic8\", \"Topic8\", \"Topic8\", \"Topic8\", \"Topic8\", \"Topic8\", \"Topic8\", \"Topic8\", \"Topic8\", \"Topic8\", \"Topic8\", \"Topic8\", \"Topic8\", \"Topic8\", \"Topic8\", \"Topic8\", \"Topic8\", \"Topic8\", \"Topic8\", \"Topic8\", \"Topic8\", \"Topic8\", \"Topic8\", \"Topic8\", \"Topic8\", \"Topic8\", \"Topic8\", \"Topic8\", \"Topic8\", \"Topic8\", \"Topic8\", \"Topic8\", \"Topic8\", \"Topic8\", \"Topic8\", \"Topic8\", \"Topic8\", \"Topic8\", \"Topic8\", \"Topic8\", \"Topic8\", \"Topic8\", \"Topic8\", \"Topic8\", \"Topic8\", \"Topic8\", \"Topic8\", \"Topic8\", \"Topic8\", \"Topic8\", \"Topic8\", \"Topic8\", \"Topic8\", \"Topic8\", \"Topic8\", \"Topic8\", \"Topic8\", \"Topic8\", \"Topic8\", \"Topic9\", \"Topic9\", \"Topic9\", \"Topic9\", \"Topic9\", \"Topic9\", \"Topic9\", \"Topic9\", \"Topic9\", \"Topic9\", \"Topic9\", \"Topic9\", \"Topic9\", \"Topic9\", \"Topic9\", \"Topic9\", \"Topic9\", \"Topic9\", \"Topic9\", \"Topic9\", \"Topic9\", \"Topic9\", \"Topic9\", \"Topic9\", \"Topic9\", \"Topic9\", \"Topic9\", \"Topic9\", \"Topic9\", \"Topic9\", \"Topic9\", \"Topic9\", \"Topic9\", \"Topic9\", \"Topic9\", \"Topic9\", \"Topic9\", \"Topic9\", \"Topic9\", \"Topic9\", \"Topic9\", \"Topic9\", \"Topic9\", \"Topic9\", \"Topic9\", \"Topic9\", \"Topic9\", \"Topic9\", \"Topic9\", \"Topic9\", \"Topic9\", \"Topic9\", \"Topic9\", \"Topic9\", \"Topic9\", \"Topic9\", \"Topic9\", \"Topic9\", \"Topic9\", \"Topic9\", \"Topic10\", \"Topic10\", \"Topic10\", \"Topic10\", \"Topic10\", \"Topic10\", \"Topic10\", \"Topic10\", \"Topic10\", \"Topic10\", \"Topic10\", \"Topic10\", \"Topic10\", \"Topic10\", \"Topic10\", \"Topic10\", \"Topic10\", \"Topic10\", \"Topic10\", \"Topic10\", \"Topic10\", \"Topic10\", \"Topic10\", \"Topic10\", \"Topic10\", \"Topic10\", \"Topic10\", \"Topic10\", \"Topic10\", \"Topic10\", \"Topic10\", \"Topic10\", \"Topic10\", \"Topic10\", \"Topic10\", \"Topic10\", \"Topic10\", \"Topic10\", \"Topic10\", \"Topic10\", \"Topic10\", \"Topic10\", \"Topic10\", \"Topic10\", \"Topic10\", \"Topic10\", \"Topic10\", \"Topic10\", \"Topic10\", \"Topic10\", \"Topic10\", \"Topic10\", \"Topic10\", \"Topic10\", \"Topic10\", \"Topic10\", \"Topic10\", \"Topic10\", \"Topic10\", \"Topic10\", \"Topic11\", \"Topic11\", \"Topic11\", \"Topic11\", \"Topic11\", \"Topic11\", \"Topic11\", \"Topic11\", \"Topic11\", \"Topic11\", \"Topic11\", \"Topic11\", \"Topic11\", \"Topic11\", \"Topic11\", \"Topic11\", \"Topic11\", \"Topic11\", \"Topic11\", \"Topic11\", \"Topic11\", \"Topic11\", \"Topic11\", \"Topic11\", \"Topic11\", \"Topic11\", \"Topic11\", \"Topic11\", \"Topic11\", \"Topic11\", \"Topic11\", \"Topic11\", \"Topic11\", \"Topic11\", \"Topic11\", \"Topic11\", \"Topic11\", \"Topic11\", \"Topic11\", \"Topic11\", \"Topic11\", \"Topic11\", \"Topic11\", \"Topic11\", \"Topic11\", \"Topic11\", \"Topic11\", \"Topic11\", \"Topic11\", \"Topic11\", \"Topic11\", \"Topic11\", \"Topic11\", \"Topic11\", \"Topic11\", \"Topic11\", \"Topic11\", \"Topic11\", \"Topic11\", \"Topic11\", \"Topic12\", \"Topic12\", \"Topic12\", \"Topic12\", \"Topic12\", \"Topic12\", \"Topic12\", \"Topic12\", \"Topic12\", \"Topic12\", \"Topic12\", \"Topic12\", \"Topic12\", \"Topic12\", \"Topic12\", \"Topic12\", \"Topic12\", \"Topic12\", \"Topic12\", \"Topic12\", \"Topic12\", \"Topic12\", \"Topic12\", \"Topic12\", \"Topic12\", \"Topic12\", \"Topic12\", \"Topic12\", \"Topic12\", \"Topic12\", \"Topic12\", \"Topic12\", \"Topic12\", \"Topic12\", \"Topic12\", \"Topic12\", \"Topic12\", \"Topic12\", \"Topic12\", \"Topic12\", \"Topic12\", \"Topic12\", \"Topic12\", \"Topic12\", \"Topic12\", \"Topic12\", \"Topic12\", \"Topic12\", \"Topic12\", \"Topic12\", \"Topic12\", \"Topic12\", \"Topic12\", \"Topic12\", \"Topic12\", \"Topic12\", \"Topic12\", \"Topic12\", \"Topic12\", \"Topic13\", \"Topic13\", \"Topic13\", \"Topic13\", \"Topic13\", \"Topic13\", \"Topic13\", \"Topic13\", \"Topic13\", \"Topic13\", \"Topic13\", \"Topic13\", \"Topic13\", \"Topic13\", \"Topic13\", \"Topic13\", \"Topic13\", \"Topic13\", \"Topic13\", \"Topic13\", \"Topic13\", \"Topic13\", \"Topic13\", \"Topic13\", \"Topic13\", \"Topic13\", \"Topic13\", \"Topic13\", \"Topic13\", \"Topic13\", \"Topic13\", \"Topic13\", \"Topic13\", \"Topic13\", \"Topic13\", \"Topic13\", \"Topic13\", \"Topic13\", \"Topic13\", \"Topic13\", \"Topic13\", \"Topic13\", \"Topic13\", \"Topic13\", \"Topic13\", \"Topic13\", \"Topic13\", \"Topic13\", \"Topic13\", \"Topic13\", \"Topic13\", \"Topic13\", \"Topic13\", \"Topic13\", \"Topic13\", \"Topic13\", \"Topic13\", \"Topic13\", \"Topic13\", \"Topic13\", \"Topic14\", \"Topic14\", \"Topic14\", \"Topic14\", \"Topic14\", \"Topic14\", \"Topic14\", \"Topic14\", \"Topic14\", \"Topic14\", \"Topic14\", \"Topic14\", \"Topic14\", \"Topic14\", \"Topic14\", \"Topic14\", \"Topic14\", \"Topic14\", \"Topic14\", \"Topic14\", \"Topic14\", \"Topic14\", \"Topic14\", \"Topic14\", \"Topic14\", \"Topic14\", \"Topic14\", \"Topic14\", \"Topic14\", \"Topic14\", \"Topic14\", \"Topic14\", \"Topic14\", \"Topic14\", \"Topic14\", \"Topic14\", \"Topic14\", \"Topic14\", \"Topic14\", \"Topic14\", \"Topic14\", \"Topic14\", \"Topic14\", \"Topic14\", \"Topic14\", \"Topic14\", \"Topic14\", \"Topic14\", \"Topic14\", \"Topic14\", \"Topic14\", \"Topic14\", \"Topic14\", \"Topic14\", \"Topic14\", \"Topic14\", \"Topic14\", \"Topic14\", \"Topic15\", \"Topic15\", \"Topic15\", \"Topic15\", \"Topic15\", \"Topic15\", \"Topic15\", \"Topic15\", \"Topic15\", \"Topic15\", \"Topic15\", \"Topic15\", \"Topic15\", \"Topic15\", \"Topic15\", \"Topic15\", \"Topic15\", \"Topic15\", \"Topic15\", \"Topic15\", \"Topic15\", \"Topic15\", \"Topic15\", \"Topic15\", \"Topic15\", \"Topic15\", \"Topic15\", \"Topic15\", \"Topic15\", \"Topic15\", \"Topic15\", \"Topic15\", \"Topic15\", \"Topic15\", \"Topic15\", \"Topic15\", \"Topic15\", \"Topic15\", \"Topic15\", \"Topic15\", \"Topic15\", \"Topic15\", \"Topic15\", \"Topic15\", \"Topic15\", \"Topic15\", \"Topic15\", \"Topic15\", \"Topic15\", \"Topic15\", \"Topic15\", \"Topic15\", \"Topic15\", \"Topic15\", \"Topic15\", \"Topic15\", \"Topic15\", \"Topic15\", \"Topic15\", \"Topic15\", \"Topic16\", \"Topic16\", \"Topic16\", \"Topic16\", \"Topic16\", \"Topic16\", \"Topic16\", \"Topic16\", \"Topic16\", \"Topic16\", \"Topic16\", \"Topic16\", \"Topic16\", \"Topic16\", \"Topic16\", \"Topic16\", \"Topic16\", \"Topic16\", \"Topic16\", \"Topic16\", \"Topic16\", \"Topic16\", \"Topic16\", \"Topic16\", \"Topic16\", \"Topic16\", \"Topic16\", \"Topic16\", \"Topic16\", \"Topic16\", \"Topic16\", \"Topic16\", \"Topic16\", \"Topic16\", \"Topic16\", \"Topic16\", \"Topic16\", \"Topic16\", \"Topic16\", \"Topic16\", \"Topic16\", \"Topic16\", \"Topic16\", \"Topic16\", \"Topic16\", \"Topic16\", \"Topic16\", \"Topic16\", \"Topic16\", \"Topic16\", \"Topic16\", \"Topic16\", \"Topic16\", \"Topic16\", \"Topic16\", \"Topic16\", \"Topic16\", \"Topic16\", \"Topic16\", \"Topic16\", \"Topic17\", \"Topic17\", \"Topic17\", \"Topic17\", \"Topic17\", \"Topic17\", \"Topic17\", \"Topic17\", \"Topic17\", \"Topic17\", \"Topic17\", \"Topic17\", \"Topic17\", \"Topic17\", \"Topic17\", \"Topic17\", \"Topic17\", \"Topic17\", \"Topic17\", \"Topic17\", \"Topic17\", \"Topic17\", \"Topic17\", \"Topic17\", \"Topic17\", \"Topic17\", \"Topic17\", \"Topic17\", \"Topic17\", \"Topic17\", \"Topic17\", \"Topic17\", \"Topic17\", \"Topic17\", \"Topic17\", \"Topic17\", \"Topic17\", \"Topic17\", \"Topic17\", \"Topic17\", \"Topic17\", \"Topic17\", \"Topic17\", \"Topic17\", \"Topic17\", \"Topic17\", \"Topic17\", \"Topic17\", \"Topic17\", \"Topic17\", \"Topic17\", \"Topic17\", \"Topic17\", \"Topic17\", \"Topic17\", \"Topic17\", \"Topic17\", \"Topic17\", \"Topic17\", \"Topic17\", \"Topic18\", \"Topic18\", \"Topic18\", \"Topic18\", \"Topic18\", \"Topic18\", \"Topic18\", \"Topic18\", \"Topic18\", \"Topic18\", \"Topic18\", \"Topic18\", \"Topic18\", \"Topic18\", \"Topic18\", \"Topic18\", \"Topic18\", \"Topic18\", \"Topic18\", \"Topic18\", \"Topic18\", \"Topic18\", \"Topic18\", \"Topic18\", \"Topic18\", \"Topic18\", \"Topic18\", \"Topic18\", \"Topic18\", \"Topic18\", \"Topic18\", \"Topic18\", \"Topic18\", \"Topic18\", \"Topic18\", \"Topic18\", \"Topic18\", \"Topic18\", \"Topic18\", \"Topic18\", \"Topic18\", \"Topic18\", \"Topic18\", \"Topic18\", \"Topic18\", \"Topic18\", \"Topic18\", \"Topic18\", \"Topic18\", \"Topic18\", \"Topic18\", \"Topic18\", \"Topic18\", \"Topic18\", \"Topic18\", \"Topic18\", \"Topic18\", \"Topic18\", \"Topic18\", \"Topic18\", \"Topic19\", \"Topic19\", \"Topic19\", \"Topic19\", \"Topic19\", \"Topic19\", \"Topic19\", \"Topic19\", \"Topic19\", \"Topic19\", \"Topic19\", \"Topic19\", \"Topic19\", \"Topic19\", \"Topic19\", \"Topic19\", \"Topic19\", \"Topic19\", \"Topic19\", \"Topic19\", \"Topic19\", \"Topic19\", \"Topic19\", \"Topic19\", \"Topic19\", \"Topic19\", \"Topic19\", \"Topic19\", \"Topic19\", \"Topic19\", \"Topic19\", \"Topic19\", \"Topic19\", \"Topic19\", \"Topic19\", \"Topic19\", \"Topic19\", \"Topic19\", \"Topic19\", \"Topic19\", \"Topic19\", \"Topic19\", \"Topic19\", \"Topic19\", \"Topic19\", \"Topic19\", \"Topic19\", \"Topic19\", \"Topic19\", \"Topic19\", \"Topic19\", \"Topic19\", \"Topic19\", \"Topic19\", \"Topic19\", \"Topic19\", \"Topic19\", \"Topic19\", \"Topic19\", \"Topic19\", \"Topic20\", \"Topic20\", \"Topic20\", \"Topic20\", \"Topic20\", \"Topic20\", \"Topic20\", \"Topic20\", \"Topic20\", \"Topic20\", \"Topic20\", \"Topic20\", \"Topic20\", \"Topic20\", \"Topic20\", \"Topic20\", \"Topic20\", \"Topic20\", \"Topic20\", \"Topic20\", \"Topic20\", \"Topic20\", \"Topic20\", \"Topic20\", \"Topic20\", \"Topic20\", \"Topic20\", \"Topic20\", \"Topic20\", \"Topic20\", \"Topic20\", \"Topic20\", \"Topic20\", \"Topic20\", \"Topic20\", \"Topic20\", \"Topic20\", \"Topic20\", \"Topic20\", \"Topic20\", \"Topic20\", \"Topic20\", \"Topic20\", \"Topic20\", \"Topic20\", \"Topic20\", \"Topic20\", \"Topic20\", \"Topic20\", \"Topic20\", \"Topic20\", \"Topic20\", \"Topic20\", \"Topic20\", \"Topic20\", \"Topic20\", \"Topic20\", \"Topic20\", \"Topic20\", \"Topic20\"], \"Freq\": [207.0, 536.0, 1187.0, 530.0, 1024.0, 133.0, 217.0, 116.0, 638.0, 644.0, 244.0, 83.0, 219.0, 206.0, 237.0, 419.0, 202.0, 344.0, 258.0, 327.0, 307.0, 234.0, 379.0, 395.0, 288.0, 283.0, 161.0, 154.0, 143.0, 71.0, 1180.4335406373623, 1015.682601320756, 214.37940260917222, 238.09716857891522, 200.49145583548426, 145.87219208744258, 149.16296951604798, 140.34920944415455, 154.54687897035558, 121.86341879453846, 129.36154957358121, 122.36602906760648, 109.33707024368464, 111.26284006499661, 105.00604833417155, 111.19395862959874, 100.16954155735964, 96.56124771859315, 93.4743662918423, 90.8816801784439, 101.71613807409173, 85.25388766044024, 86.18588670045962, 110.36084104112557, 78.51857801074615, 80.50734142063654, 81.04137782135433, 221.31075302497482, 77.13560375538654, 72.90357977152472, 123.21287877876449, 478.12756242063426, 463.5469944933651, 239.40564469727752, 140.3422356505172, 282.99527101424894, 203.16815498851565, 297.8565313792739, 250.96340861431057, 239.79542288661014, 216.66823279173306, 269.3472334377317, 208.18419530284896, 193.1113289793854, 177.31635307337746, 167.36484749888788, 140.2132886226312, 160.66157324698472, 158.47701617121857, 148.29451157343235, 144.44991106926972, 101.85586497871094, 509.0137407100596, 490.2778141516775, 88.42124563864671, 65.19998142622012, 93.45214212290233, 62.4794983764731, 50.90293227552874, 87.47969797125346, 66.66882271415346, 44.037850062134765, 41.78573148556441, 47.182205281556094, 82.31894652154321, 43.48441778159212, 42.91251339632004, 30.570612862268188, 40.50990610453702, 32.160164495640096, 33.60797503120013, 34.76419414825039, 30.61804938214724, 34.350930995774036, 27.42026364328317, 29.696901661025635, 28.70368926681074, 34.65881807615834, 30.49838393185513, 31.297768433950342, 36.757657535528274, 63.45253937740939, 43.44277424971176, 128.24984872167622, 126.27297764571172, 100.17635403544935, 82.87164813126978, 58.90884099743103, 84.80251022237671, 78.94747872850205, 70.54461894430038, 65.18274628502347, 64.54161035236851, 53.72899456500967, 60.519771869843254, 53.4377003364829, 51.529978284211765, 49.96872589210221, 50.19066365327056, 50.60724702679131, 48.19620176706247, 48.221530330514405, 81.4658106043487, 81.46580744163917, 81.46580810349954, 82.43437748894621, 82.42842060080525, 41.8311960887554, 41.75745948929315, 41.751262498116525, 41.75019527016775, 41.7139061424376, 41.70521626361267, 41.68716685788075, 41.67838497441854, 41.67838440533991, 41.678385585663875, 41.678383847761424, 41.67838592899586, 41.67838414438182, 41.67838443961809, 41.678384737102355, 41.67838468875432, 41.67837894732617, 41.67838312146786, 41.678384215267435, 41.67838252572767, 41.55269631312068, 41.552695207087105, 41.55269605802865, 41.55269462351947, 41.384647021218655, 109.31258072498873, 43.2424928405001, 43.24240629387591, 41.82867385877459, 44.11044723016309, 42.81003248567901, 41.84472513100715, 41.791857640972104, 212.35930638334247, 39.38071860148271, 38.974742828905846, 35.65780973949466, 32.01950662435086, 31.372665684297377, 24.769931769625376, 23.53510303569977, 23.244562561042276, 21.420574368853103, 19.249743488990493, 17.735298708130465, 15.051092826027967, 13.698416898980563, 37.01039932569577, 13.528663466693224, 27.0613162556784, 21.975593986082693, 36.68739119809661, 16.984085904129063, 14.314359370639306, 11.192424696489649, 51.21732478385475, 21.22497907438306, 10.136021132757346, 11.987966087117403, 8.839809229104812, 13.55338571123117, 13.467628080981799, 12.526855671978941, 19.05159680582542, 30.81830410578398, 28.412945092340014, 28.41281961339954, 28.34734003361142, 27.830922102868588, 26.455969992130097, 26.08431079686712, 38.7099550312492, 27.304024949478336, 35.86935072406114, 27.03702500630843, 28.67003804323469, 22.364187528519473, 21.943423176366718, 22.07950162419554, 124.88990514978035, 78.1819925570348, 59.289564579731646, 52.640120770373926, 36.42626041783654, 50.13758561254479, 41.38858614190366, 71.4358948417217, 39.37971427619823, 15.191664792572615, 11.047475791411712, 5.028910333554791, 3.4697531012540237, 3.1935637394684773, 2.3419507961069037, 4.727857505593101, 4.6495574212652615, 4.634333474246088, 3.2395424510948216, 1.919880062327155, 2.331563853908691, 2.3314994346694276, 2.157808729033185, 2.310770055469414, 1.7174261803881488, 0.687253878864166, 0.8929131117161431, 0.34912546172241005, 1.3502604987866347, 0.36495248868658553, 0.9627955988186925, 202.11588720817534, 0.19715303116813118, 0.19715419643479454, 0.1971550908780004, 0.19715469613022057, 0.1971546781929784, 0.1971530316084185, 0.19715614915617025, 0.1971583951998115, 0.19715427363065494, 0.1971542114209847, 0.19715430017363977, 0.19715514266249812, 0.19716346060473355, 0.19715435924746555, 0.19715474598338129, 0.1971548307254325, 0.1971552119052681, 0.1971537874391637, 0.1971582254506557, 0.1971539178444799, 0.19715456932376635, 0.19715447052007712, 0.19715431456671442, 0.19715467934708897, 0.19717987648087593, 0.19715658014940773, 0.19715973572619463, 0.19715414926082603, 0.19715373726870253, 0.19740896760338608, 0.1973215656421353, 0.19724699164315743, 0.19724684727329747, 0.19724305644132326, 0.19724014467812415, 0.19723836433640163, 0.19723674686214257, 0.19723121787576586, 0.1972267969016064, 0.1972249482849503, 0.19722347436943166, 0.19721738344211986, 0.19721020136260836, 0.1972095024845815, 0.19720869309544856, 0.19720787064419287, 0.19720705285099543, 0.1972065275064569, 0.19720592003642018, 0.19720408611989124, 0.19720379627293608, 0.19720267382957882, 0.19719952280675082, 0.19719733743088536, 0.1971969917648954, 0.197196142997148, 0.1971954807408071, 0.19719464039272377, 0.3530077351634699, 0.3530059203250361, 0.35300325029039753, 0.35300116455251757, 0.3530042367951405, 0.35300511707730264, 0.35300590804130827, 0.35300424726383794, 0.35300832356253053, 0.3530033986936766, 0.3530030423321724, 0.35300007671698425, 0.3530107084663689, 0.35299898625151793, 0.3530085794304967, 0.3530043445468741, 0.3530015265533977, 0.35300181149411297, 0.35300474468136656, 0.3530046964056054, 0.35300059650718074, 0.3530023045101556, 0.3529974572448928, 0.3530050707663841, 0.3529992001043053, 0.3530009138259028, 0.3530020856646592, 0.3530042041432289, 0.3530013365249309, 0.3530004241163674, 0.35312805162252026, 0.35308200386379834, 0.35305945861348276, 0.3530504149374802, 0.3530455948837244, 0.3530440948804483, 0.35304182363665193, 0.3530394668882516, 0.35303777390339075, 0.3530370945272863, 0.35303542054826315, 0.3530311255810808, 0.35303092658824675, 0.35302988393868057, 0.3530289120507823, 0.3530281697506381, 0.3530267727862091, 0.3530259512302051, 0.3530257531328656, 0.35302569029054515, 0.3530255367561755, 0.35302543190110924, 0.35302527000455153, 0.353024991143335, 0.3530246600929762, 0.3530245153481668, 0.3530226455113982, 0.35302248439548906, 0.35302204380489544, 0.3530218917560728, 0.35300290930214767, 0.35300314668541083, 0.3529978970619861, 0.35300086884585596, 0.35301498992943214, 0.3530011385167899, 0.35300516431321344, 0.35300100926414263, 0.3530038679497744, 0.35299936515418345, 0.3530011919685119, 0.3529980648703488, 0.3530007748731597, 0.35299448384604365, 0.3529996527062978, 0.35300424103365796, 0.3529936498923003, 0.35299499378025884, 0.35299737126758846, 0.35299904758315226, 0.35299502831804924, 0.3529953772027969, 0.3529958962260764, 0.3530220543778477, 0.3530260852792629, 0.35301044199084813, 0.35299776053942417, 0.35300200238625884, 0.35299866946996905, 0.3530029229864127, 0.35311543710232024, 0.35311249177530235, 0.353110620832612, 0.3531063630657229, 0.3530726380633178, 0.35306952194172864, 0.35306316780639324, 0.3530628162030931, 0.35306261975566405, 0.35306057890423315, 0.35305882639434877, 0.3530585691576032, 0.3530570506700036, 0.35305691106773845, 0.35305637296841597, 0.3530561105820797, 0.35305602360086846, 0.35305600505442825, 0.3530557300800829, 0.3530556711721052, 0.353055390635308, 0.3530553135570623, 0.35305500754104746, 0.35305500343551094, 0.3530548809933955, 0.3530548689585463, 0.3530545747841977, 0.3530544662485791, 0.3530540361628865, 0.353053766618341, 0.3530017416031394, 0.3530034233693196, 0.35300067351889736, 0.3530017920842443, 0.35300480394336875, 0.3530017001121309, 0.35300113314255976, 0.3529979818524769, 0.35300222470171994, 0.3530002569112339, 0.3530023683247935, 0.35300495082585215, 0.3530018862558931, 0.353006867221881, 0.3530014339021195, 0.35300327537849885, 0.35300121307071586, 0.35300134292399155, 0.3530016237669654, 0.35300260621468965, 0.35300238846588144, 0.35300404997848234, 0.3530032381622808, 0.35300372435900157, 0.3530026144142588, 0.35300307999070596, 0.35300218475647793, 0.35300279829356124, 0.35300202460469654, 0.3530044278806887, 0.3530519313698989, 0.35303343266477283, 0.3530314785536207, 0.3530259539946515, 0.35302586269511543, 0.35302575706865197, 0.35302083536729884, 0.35302067645765944, 0.35301945541968427, 0.35301807331977497, 0.35301776447030103, 0.35301772590038316, 0.3530175270572444, 0.3530173409239564, 0.35301732630960686, 0.3530172373294206, 0.35301698995060565, 0.35301669297072086, 0.35301622508842934, 0.35301598480715474, 0.3530157243248504, 0.35301541692080624, 0.353015272413008, 0.3530151781732237, 0.35301462737774625, 0.35301448784326395, 0.3530143407722812, 0.35301365912814353, 0.35301362158944116, 0.3530135687047533, 0.35301534957171143, 0.3529809044957196, 0.35298220381520523, 0.3529803572774827, 0.3529871797109514, 0.35298233873686397, 0.35298584981661085, 0.3529811623259481, 0.35299158547725046, 0.35298250481155746, 0.3529837230007298, 0.35298251640219525, 0.3529932606010303, 0.35300035573733324, 0.35298274965923204, 0.35298452209932996, 0.35298154420532524, 0.352980418227036, 0.35298496295637116, 0.35298372020524943, 0.35298354703927776, 0.35298218686805505, 0.35297996824665273, 0.352990755991696, 0.35302310444751284, 0.3529875521551435, 0.3529889482432854, 0.3529834585306616, 0.35298013963463154, 0.3529839715904935, 0.3535897292641653, 0.3535263896643567, 0.3532674001603194, 0.3532613923122642, 0.3532415755450158, 0.35323613396682296, 0.3532278305848655, 0.35318491531706214, 0.35316080245425413, 0.35315146208179093, 0.353141464134376, 0.3531397151157673, 0.35313725762983106, 0.3531362742600003, 0.35312815168309986, 0.3531236398499497, 0.353121273858884, 0.3531174796941057, 0.3531156140144805, 0.3531130820518981, 0.3531023079146036, 0.35309977378697727, 0.35309828383760783, 0.353091406698145, 0.3530913237627372, 0.35309103000044245, 0.353090445983369, 0.3530880600967991, 0.3530853978285116, 0.35308534973765937, 0.35300373487799613, 0.3530015186032812, 0.352999008923473, 0.35301218867891515, 0.35300071450651876, 0.3530019597177475, 0.3529959752410716, 0.3529978778856231, 0.35300019633999397, 0.35300363671584695, 0.3529991831163217, 0.35300256500809146, 0.35299971698068755, 0.3529997405340006, 0.3530029049074181, 0.35300146921683756, 0.3529987277640383, 0.35300217715406906, 0.3529986889329732, 0.35300180581725893, 0.35299853334956566, 0.35299923089761254, 0.352999106949654, 0.3529980019002586, 0.35299858083234825, 0.35300451723546034, 0.3530004407641288, 0.3529987228976089, 0.35299965845294723, 0.3529981827961348, 0.3530942771255654, 0.3530571211554335, 0.35303753568374985, 0.35303609853150464, 0.35303453491513725, 0.3530332639105944, 0.35303086650946347, 0.3530298180935431, 0.3530278556007248, 0.35302646972599916, 0.35302619010065844, 0.3530245403879739, 0.35302442354197267, 0.35302394094871437, 0.35302345175730176, 0.3530220031927658, 0.3530220012378508, 0.3530218926292527, 0.3530208093579535, 0.35302079023122024, 0.35302039999843204, 0.35301855345793137, 0.35301836067047804, 0.3530183202201271, 0.3530180931169625, 0.35301798790925776, 0.3530177244800748, 0.3530173961846188, 0.3530171064843179, 0.35301669521892437, 0.3530023988430912, 0.3530082648707392, 0.3530032761553486, 0.35300206407761103, 0.35301869157036475, 0.35300303436755204, 0.3530108435400444, 0.35300653918882274, 0.3530094698912347, 0.353003027609827, 0.353002832391414, 0.3530033870065814, 0.3530102133133354, 0.35299889551750696, 0.3530020559541814, 0.3530026949456032, 0.352999841324587, 0.3529988458190237, 0.35301234544114773, 0.3530045388596073, 0.3529991221125935, 0.35300492269372014, 0.35300181973916606, 0.35302366822269954, 0.3530025777646471, 0.35300603333649755, 0.35299941464554835, 0.3530078981224033, 0.3530054699941929, 0.35300200052630604, 0.35314643887196445, 0.35307734428530074, 0.35305847601019463, 0.35304791605945873, 0.35304427898726026, 0.35304331015623025, 0.35304153381457276, 0.3530410395010553, 0.35304072278359466, 0.3530353812663935, 0.3530342250582226, 0.3530340704658399, 0.353033467638214, 0.35303213416149004, 0.3530305029558891, 0.3530292594393458, 0.3530288935194568, 0.35302861511818284, 0.3530284150343555, 0.35302735148827574, 0.35302695490097463, 0.3530265421558942, 0.35302616367115447, 0.35302564245927487, 0.3530252609406127, 0.35302517587591564, 0.3530250496912118, 0.35302464229543945, 0.3530246017034059, 0.35299830734823634, 0.3529965763808385, 0.35299988712490576, 0.3530002397059525, 0.35299849514915055, 0.3530029492489742, 0.3530023355516666, 0.3530067861092877, 0.3530004780605197, 0.3529999043464961, 0.35300223567566175, 0.35300245433406224, 0.3530009695158236, 0.35300217541482715, 0.35299791585726736, 0.353004940304256, 0.3530025944828077, 0.3530004232811867, 0.3530002687727587, 0.35299678942131585, 0.3530022094665421, 0.3530002214549798, 0.3529986224471999, 0.35299848007486173, 0.35300722547992164, 0.35300476965648947, 0.3530018083065092, 0.35300121084407315, 0.3530002184372188, 0.3530015367519296, 0.3530697012922172, 0.3530465235162204, 0.3530460102884897, 0.3530444099090922, 0.35304060498215983, 0.35303286213827834, 0.35303117881613183, 0.35302939980590714, 0.3530274119124994, 0.3530266714108498, 0.3530264504247302, 0.35302544064848856, 0.3530252400609993, 0.3530252181474862, 0.3530251088065604, 0.35302492151600023, 0.35302490408487147, 0.35302489406599785, 0.3530247485038016, 0.35302418671671926, 0.35302416721986096, 0.35302406669837233, 0.35302399573925386, 0.35302398422483794, 0.35302370127512694, 0.35302363408338344, 0.35302360355803764, 0.35302341129442466, 0.3530233525355358, 0.3530233480109742, 0.35302371978705943, 0.35300703784395215, 0.35300317213868926, 0.3530030729272077, 0.35301694100482545, 0.3530048461316412, 0.3530115054389767, 0.353001018490823, 0.3530065235890682, 0.3530033035737085, 0.35300186175350934, 0.3530024812874114, 0.3530044991813005, 0.35300907792969816, 0.353007408348042, 0.3530291085040235, 0.35300168481778726, 0.3530032440951674, 0.3530066025151352, 0.3530049664551615, 0.3529974001983577, 0.35300485223321704, 0.3530023508078532, 0.3530215265757778, 0.35299918606836983, 0.35300897879832555, 0.3529997637764641, 0.35300224846193123, 0.35300120850059197, 0.3530033117595472, 0.3530797014400835, 0.35305879863997985, 0.35304483007604615, 0.35304254677544533, 0.3530418104031442, 0.35303940403965933, 0.35303899094170715, 0.353038671170972, 0.35303831530049, 0.3530382368415354, 0.3530367216731746, 0.3530353839501698, 0.35303018198115743, 0.3530293469005035, 0.3530291137614396, 0.3530271376881001, 0.3530269765542769, 0.3530265906340082, 0.3530260191984548, 0.3530257264976008, 0.35302483527587275, 0.3530247985949146, 0.35302331670249154, 0.3530221922409956, 0.353022033017189, 0.3530219204672095, 0.353021748320953, 0.3530215883525082, 0.3530139895278092, 0.3530053405295805, 0.3530042168557696, 0.3530025885022012, 0.3530177485428036, 0.35300671713626686, 0.3530108033613592, 0.3530147326865036, 0.3530076454562286, 0.35300226930825046, 0.353005935505876, 0.35300280740000267, 0.35299926585075575, 0.3530024463024525, 0.3530049962915735, 0.3530161709081825, 0.35300106203259196, 0.3530061286484187, 0.3530123950228807, 0.35300644096110634, 0.35300043189808306, 0.35299864110960394, 0.35300216721556615, 0.3530175887403147, 0.3530007599880101, 0.3530105185049006, 0.3529981002283403, 0.35299957317967506, 0.35300247783067396, 0.3530022460766349, 0.35308616949862504, 0.35306162158113885, 0.3530462384437715, 0.35304421654418044, 0.3530412416534576, 0.3530328592149429, 0.3530327249304339, 0.3530316116844299, 0.35303044224486757, 0.35302997798845415, 0.3530298988312609, 0.35302556500317234, 0.3530254412830661, 0.35302501851432155, 0.3530247665222486, 0.353024152470503, 0.3530238169887381, 0.3530234140499177, 0.35302338491486035, 0.35302328492209833, 0.3530225845981701, 0.3530223385633237, 0.3530218535236975, 0.3530212968860875, 0.3530211612240063, 0.3530211356694896, 0.3530209955354093, 0.3530209065687019, 0.35302045361725465, 0.35302035652237107, 0.3529983244277302, 0.35300272652418485, 0.35300168278999394, 0.3530001539359292, 0.35299679875850787, 0.35299941835346854, 0.3530020370467686, 0.3530042215118844, 0.35299839198157895, 0.352997720421998, 0.3530011915110353, 0.3529994848226705, 0.35300097016479165, 0.35299856258321555, 0.3530021942622555, 0.3529992461022876, 0.35300181773096595, 0.35299747397918124, 0.3529997638819553, 0.3530052884212289, 0.3529973164548106, 0.3529966109366231, 0.3529980164366906, 0.3529958270536529, 0.35300484226750367, 0.3529961987258333, 0.35299930114712047, 0.35299784166973547, 0.3530001773023792, 0.3529958323135333, 0.35311009432065676, 0.3530664842686459, 0.35305596047076226, 0.35305185892993624, 0.35304671564901957, 0.3530452844956201, 0.3530369773735704, 0.353036474492555, 0.35303630789009166, 0.3530355266940894, 0.35303513262906444, 0.3530347113158713, 0.35303246926973825, 0.3530322217687187, 0.3530313286154986, 0.3530306787083575, 0.35302943746265164, 0.35302883588901324, 0.35302693063379464, 0.3530262659318737, 0.3530260987847488, 0.3530258301347644, 0.3530256127762274, 0.3530252773084368, 0.35302384098882894, 0.35302377421763875, 0.35302322842298406, 0.3530219877238648, 0.3530218844523831, 0.35302078859274905, 0.3529983948945721, 0.35299692271450334, 0.35300073075964905, 0.352999468461396, 0.35299677574628446, 0.3529981714046879, 0.35300304995687815, 0.3529986896163763, 0.3529996222242502, 0.3529967967722382, 0.35299939710972866, 0.35300015160271603, 0.3529952451831641, 0.3529991745224164, 0.3529995689719517, 0.3530026272617059, 0.3530018501952066, 0.35299774810989154, 0.35300048001562384, 0.3530019546504656, 0.3529962010805297, 0.3529980954724848, 0.35299485564635974, 0.35299918010205195, 0.35300406121025973, 0.35299903964529056, 0.3529974321976557, 0.35299832432236977, 0.352996811706521, 0.35299810264172976, 0.3531643712912017, 0.35310516703565575, 0.353055185448273, 0.35305168939025494, 0.35304853218620824, 0.3530475471249783, 0.3530467118606232, 0.3530448334127576, 0.3530443827608045, 0.3530382994706379, 0.3530369975950217, 0.35303659230820367, 0.3530364534631598, 0.3530351364801618, 0.3530329049983038, 0.3530319214180399, 0.3530313257873063, 0.3530311153043528, 0.35303087162793956, 0.3530293184571325, 0.3530292682305205, 0.3530292668394943, 0.35302900876975035, 0.353028616264999, 0.3530280694286757, 0.3530273100714206, 0.3530271029536863, 0.3530261054933162, 0.3530250946510993, 0.3530248677850076, 0.3530030969532604, 0.35300357023639867, 0.3530007635320403, 0.35300281112374676, 0.3530026663971893, 0.35300185568444126, 0.352997230251301, 0.3530022873101014, 0.35300869054242323, 0.3529998248040746, 0.353001416071017, 0.35300586220658603, 0.35300045427597226, 0.35300224932539487, 0.3529999560463011, 0.3530003560281114, 0.3530016219806513, 0.353000951530529, 0.3529996267678803, 0.3530030334341198, 0.3530013149466265, 0.35300255386471663, 0.3530020044258879, 0.3530000549602232, 0.3530086548075138, 0.35300067371558136, 0.3530018914635898, 0.3529993861878944, 0.35300079574857973, 0.35300617376527493, 0.3530642493647912, 0.35305676499770305, 0.35304478278407914, 0.3530340343769875, 0.3530291878173767, 0.353027387995894, 0.3530269955534182, 0.3530208997505991, 0.3530207806143926, 0.35302045796437675, 0.3530200766131808, 0.3530196046832569, 0.3530194002276179, 0.35301932261864544, 0.3530185097661871, 0.3530180830906606, 0.35301727246858616, 0.35301720124981406, 0.35301712166487226, 0.35301696729499277, 0.35301694956536533, 0.3530168833335312, 0.3530168445314296, 0.35301645136192755, 0.3530163017303792, 0.3530161883687379, 0.35301606454897533, 0.35301585469736607, 0.35301526917141757, 0.3530149859263844, 0.35300217298590963, 0.3529975717604426, 0.3530009113648129, 0.35299811536301623, 0.3529985160360856, 0.3530039913762137, 0.35299793443795785, 0.35300136382378133, 0.3529972779917007, 0.35300317287382355, 0.3529997679419193, 0.3530000734521642, 0.3530047554210951, 0.35299918106082306, 0.35300424499207067, 0.3530089635403249, 0.3530007927131734, 0.35300168572829904, 0.35300226647206284, 0.3530029022078099, 0.35299740908755034, 0.35299684664206404, 0.35300316613813537, 0.35299728050025575, 0.35301553146042397, 0.35300047098077797, 0.35300008416952994, 0.35299931504592685, 0.3529977611557273, 0.3530024678979485, 0.35306637481373654, 0.35305505489901917, 0.3530441678550224, 0.35303902259433884, 0.35303486745668267, 0.353025821487077, 0.3530251275054909, 0.35302492095139354, 0.3530247662877379, 0.3530247586504229, 0.3530233614146544, 0.35302332106219847, 0.3530232034402461, 0.35302247001259224, 0.35302184106693657, 0.35302129704753754, 0.35302089872654996, 0.35302081832918697, 0.353019636398308, 0.35301961332003423, 0.3530195611785747, 0.3530195004423869, 0.3530189935416884, 0.35301859500931776, 0.3530184128076879, 0.3530182543506829, 0.3530177667406336, 0.3530170216284518, 0.3530169724201072, 0.3530169578083843, 0.35299995135546625, 0.3529994495826946, 0.3529968900001602, 0.3529984112826516, 0.3530008682080124, 0.35299755584565534, 0.35300132428943354, 0.35300254426851874, 0.3529981967887139, 0.3530003153446107, 0.35300296121456043, 0.353001340330271, 0.3530003650659306, 0.3530009770879901, 0.35299796655365345, 0.3529974020724181, 0.3529996429962639, 0.3529971222707729, 0.3530011808990982, 0.35300331032295634, 0.35299982297680055, 0.35299962297049003, 0.35299996738568007, 0.3530017859018525, 0.3530031290207536, 0.35300691174385873, 0.35299673089586353, 0.3529986501109951, 0.35300024393767443, 0.3529994519933437, 0.3530921635250076, 0.35305648487835734, 0.3530380528271733, 0.35303726763489224, 0.35303473991529283, 0.3530340767992184, 0.35303375001355564, 0.3530306479677159, 0.35302781418181894, 0.3530277153415745, 0.3530275170866684, 0.3530242031524396, 0.35302366880932995, 0.35302332292248856, 0.3530233077967207, 0.3530229209704126, 0.3530226716376369, 0.3530224881723016, 0.35302240245445643, 0.353021355649196, 0.3530210779930311, 0.35302103130905205, 0.3530209607300319, 0.35302041122516015, 0.35302038867731256, 0.35302038841077477, 0.353020158487797, 0.35302015542267595, 0.35302005052979846, 0.3530198701603341], \"Term\": [\"font\", \"his\", \"her\", \"he\", \"she\", \"span\", \"h4\", \"de\", \"is\", \"in\", \"she is\", \"su\", \"her business\", \"she has\", \"group\", \"business\", \"of the\", \"with\", \"children\", \"loan\", \"that\", \"in the\", \"has\", \"for\", \"this\", \"will\", \"husband\", \"of her\", \"mifex\", \"la\", \"her\", \"she\", \"her business\", \"she is\", \"she has\", \"her husband\", \"of her\", \"in her\", \"husband\", \"with her\", \"for her\", \"that she\", \"her children\", \"she will\", \"to her\", \"and she\", \"and her\", \"her family\", \"she can\", \"she sells\", \"esperanza\", \"her to\", \"from her\", \"women\", \"her loan\", \"increase her\", \"her own\", \"group\", \"maria\", \"she started\", \"clothing\", \"is\", \"in\", \"that\", \"community\", \"has\", \"children\", \"business\", \"with\", \"loan\", \"this\", \"for\", \"will\", \"from\", \"their\", \"years\", \"sells\", \"in the\", \"as\", \"are\", \"school\", \"his business\", \"his\", \"he\", \"he has\", \"of his\", \"he is\", \"his wife\", \"for his\", \"him\", \"wife\", \"he will\", \"and his\", \"his family\", \"my\", \"that he\", \"in his\", \"he started\", \"with his\", \"he has been\", \"to his\", \"where he\", \"business he\", \"him to\", \"his children\", \"he sells\", \"he also\", \"his own\", \"he was\", \"he can\", \"and he\", \"am\", \"father\", \"in\", \"is\", \"business\", \"with\", \"us\", \"for\", \"has\", \"loan\", \"from\", \"will\", \"able\", \"this\", \"able to\", \"be\", \"years\", \"children\", \"that\", \"school\", \"as\", \"mifex org\", \"www mifex org\", \"www mifex\", \"org\", \"www\", \"mifex offers\", \"and educational\", \"and access\", \"to business training\", \"our services\", \"and access to\", \"for more information\", \"access to business\", \"and educational programs\", \"microinsurance\", \"training and educational\", \"microinsurance and access\", \"and our services\", \"educational programs\", \"programs for\", \"clients microinsurance\", \"clients microinsurance and\", \"programs for more\", \"microinsurance and\", \"educational programs for\", \"services please\", \"our services please\", \"services please visit\", \"please visit\", \"offers its clients\", \"mifex\", \"href\", \"href http\", \"href http www\", \"http\", \"http www\", \"business training and\", \"and our\", \"h4\", \"personal information\", \"description\", \"business description\", \"baba\", \"loan use\", \"h4 loan\", \"communal\", \"h4 loan use\", \"lands\", \"communal bank\", \"santa lucia\", \"the lands\", \"h4 the\", \"personal\", \"the sector\", \"sector\", \"is made\", \"farmers\", \"lucia\", \"the farmers\", \"of rice\", \"rice\", \"made of\", \"machinery\", \"association\", \"farmers in\", \"crops\", \"finance\", \"of the loan\", \"cement\", \"information\", \"from by\", \"translated from by\", \"translated from\", \"translated\", \"volunteer\", \"kiva volunteer\", \"of the\", \"use\", \"in\", \"in the\", \"is\", \"they\", \"by\", \"their\", \"span\", \"su\", \"span span\", \"que\", \"negocio\", \"en\", \"el\", \"de\", \"la\", \"los\", \"class\", \"guayaquil\", \"until\", \"no\", \"was born\", \"kiva volunteer\", \"volunteer\", \"translated\", \"son\", \"strong\", \"from by\", \"translated from by\", \"translated from\", \"kiva\", \"capital\", \"12\", \"local\", \"20\", \"by\", \"10\", \"from\", \"font\", \"farmers in\", \"machinery\", \"h4 the\", \"of rice\", \"the lands\", \"investments\", \"the sector\", \"most of the\", \"association\", \"santa lucia\", \"members of the\", \"known as\", \"form\", \"seeds\", \"communal bank\", \"the farmers\", \"default\", \"making their\", \"part of the\", \"the members of\", \"too\", \"crops\", \"the profits\", \"lands\", \"of land\", \"finance\", \"in many\", \"the people\", \"of the loan\", \"she\", \"her\", \"dairy\", \"is\", \"has\", \"she is\", \"fees\", \"in\", \"group\", \"she has\", \"born\", \"school\", \"milk\", \"are\", \"school fees\", \"cows\", \"and she\", \"raise\", \"income\", \"children\", \"was born\", \"weec\", \"high\", \"been\", \"was\", \"are in\", \"cow\", \"which\", \"for\", \"farmers in\", \"machinery\", \"h4 the\", \"of rice\", \"the lands\", \"investments\", \"the sector\", \"most of the\", \"association\", \"santa lucia\", \"members of the\", \"known as\", \"form\", \"seeds\", \"communal bank\", \"the farmers\", \"default\", \"making their\", \"part of the\", \"the members of\", \"too\", \"crops\", \"the profits\", \"lands\", \"of land\", \"finance\", \"in many\", \"the people\", \"of the loan\", \"that is\", \"she\", \"her\", \"fruits\", \"is\", \"in\", \"baba\", \"has\", \"she has\", \"she is\", \"and she\", \"business\", \"after\", \"fees\", \"was\", \"with\", \"has been\", \"income\", \"her business\", \"she has been\", \"be\", \"group\", \"been\", \"from\", \"farmers\", \"vegetables\", \"in the\", \"believes\", \"get\", \"for\", \"rice\", \"farmers in\", \"machinery\", \"h4 the\", \"of rice\", \"the lands\", \"investments\", \"the sector\", \"most of the\", \"association\", \"santa lucia\", \"members of the\", \"known as\", \"form\", \"seeds\", \"communal bank\", \"the farmers\", \"default\", \"making their\", \"part of the\", \"the members of\", \"too\", \"crops\", \"the profits\", \"lands\", \"of land\", \"finance\", \"in many\", \"the people\", \"of the loan\", \"that is\", \"www mifex\", \"mifex org\", \"www mifex org\", \"she\", \"her\", \"br\", \"in\", \"was\", \"his\", \"please visit href\", \"visit href http\", \"microinsurance and\", \"educational programs\", \"visit href\", \"more information\", \"microinsurance and access\", \"services please visit\", \"to business training\", \"mifex offers\", \"clients microinsurance\", \"is\", \"the family\", \"educational programs for\", \"please visit\", \"and our\", \"programs for more\", \"our services please\", \"mifex org www\", \"microinsurance\", \"programs\", \"farmers in\", \"machinery\", \"h4 the\", \"of rice\", \"the lands\", \"investments\", \"the sector\", \"most of the\", \"association\", \"santa lucia\", \"members of the\", \"known as\", \"form\", \"seeds\", \"communal bank\", \"the farmers\", \"default\", \"making their\", \"part of the\", \"the members of\", \"too\", \"crops\", \"the profits\", \"lands\", \"of land\", \"finance\", \"in many\", \"the people\", \"of the loan\", \"that is\", \"she\", \"she has\", \"and she\", \"has\", \"her\", \"feed\", \"water\", \"to get\", \"she has been\", \"it\", \"has been\", \"get\", \"been\", \"able to\", \"at\", \"is\", \"she will be\", \"higher\", \"her children\", \"she will\", \"believes\", \"will be able\", \"income\", \"school\", \"in primary\", \"able\", \"she is\", \"to repay\", \"due to\", \"children\", \"farmers in\", \"machinery\", \"h4 the\", \"of rice\", \"the lands\", \"investments\", \"the sector\", \"most of the\", \"association\", \"santa lucia\", \"members of the\", \"known as\", \"form\", \"seeds\", \"communal bank\", \"the farmers\", \"default\", \"making their\", \"part of the\", \"the members of\", \"too\", \"crops\", \"the profits\", \"lands\", \"of land\", \"finance\", \"in many\", \"the people\", \"of the loan\", \"that is\", \"his\", \"he\", \"font\", \"us\", \"is\", \"my\", \"in\", \"school\", \"she\", \"parents\", \"care of\", \"has\", \"am\", \"he is\", \"care\", \"will\", \"take\", \"out\", \"her\", \"for\", \"man\", \"br\", \"per\", \"this\", \"year\", \"for his\", \"after\", \"of us\", \"with\", \"income\", \"farmers in\", \"machinery\", \"h4 the\", \"of rice\", \"the lands\", \"investments\", \"the sector\", \"most of the\", \"association\", \"santa lucia\", \"members of the\", \"known as\", \"form\", \"seeds\", \"communal bank\", \"the farmers\", \"default\", \"making their\", \"part of the\", \"the members of\", \"too\", \"crops\", \"the profits\", \"lands\", \"of land\", \"finance\", \"in many\", \"the people\", \"of the loan\", \"that is\", \"she\", \"her\", \"she was\", \"is\", \"was\", \"has\", \"rice\", \"in\", \"she is\", \"college\", \"she has\", \"not\", \"get\", \"to take\", \"take\", \"school she\", \"where she\", \"where\", \"and has\", \"group\", \"rural\", \"husband\", \"school\", \"her family\", \"per\", \"children she\", \"they\", \"loan\", \"for\", \"repay the loan\", \"farmers in\", \"machinery\", \"h4 the\", \"of rice\", \"the lands\", \"investments\", \"the sector\", \"most of the\", \"association\", \"santa lucia\", \"members of the\", \"known as\", \"form\", \"seeds\", \"communal bank\", \"the farmers\", \"default\", \"making their\", \"part of the\", \"the members of\", \"too\", \"crops\", \"the profits\", \"lands\", \"of land\", \"finance\", \"in many\", \"the people\", \"of the loan\", \"that is\", \"she\", \"her\", \"is\", \"in\", \"she has\", \"baba\", \"was\", \"has\", \"group\", \"us\", \"mary\", \"got\", \"she is\", \"with\", \"for\", \"children\", \"usd\", \"area\", \"income\", \"her to\", \"cows\", \"his\", \"will\", \"an\", \"been\", \"two\", \"after\", \"they\", \"his family\", \"farmers in\", \"machinery\", \"h4 the\", \"of rice\", \"the lands\", \"investments\", \"the sector\", \"most of the\", \"association\", \"santa lucia\", \"members of the\", \"known as\", \"form\", \"seeds\", \"communal bank\", \"the farmers\", \"default\", \"making their\", \"part of the\", \"the members of\", \"too\", \"crops\", \"the profits\", \"lands\", \"of land\", \"finance\", \"in many\", \"the people\", \"of the loan\", \"that is\", \"she\", \"www mifex org\", \"mifex org\", \"www mifex\", \"she is\", \"her\", \"and she\", \"is\", \"our services\", \"mifex offers its\", \"http www mifex\", \"please visit\", \"business training and\", \"programs for\", \"org www\", \"its clients microinsurance\", \"salon\", \"and educational programs\", \"mifex org www\", \"our services please\", \"programs for more\", \"for more information\", \"and our services\", \"microinsurance and\", \"mifex offers\", \"visit href\", \"offers its clients\", \"and educational\", \"educational programs for\", \"org www mifex\", \"farmers in\", \"machinery\", \"h4 the\", \"of rice\", \"the lands\", \"investments\", \"the sector\", \"most of the\", \"association\", \"santa lucia\", \"members of the\", \"known as\", \"form\", \"seeds\", \"communal bank\", \"the farmers\", \"default\", \"making their\", \"part of the\", \"the members of\", \"too\", \"crops\", \"the profits\", \"lands\", \"of land\", \"finance\", \"in many\", \"the people\", \"of the loan\", \"that is\", \"she\", \"farmers\", \"is\", \"her\", \"www mifex\", \"was\", \"baba\", \"www mifex org\", \"group\", \"mifex org\", \"in\", \"has\", \"rice\", \"it\", \"rural\", \"women\", \"of the\", \"the group\", \"she was\", \"he\", \"already\", \"small\", \"educational programs for\", \"to the\", \"and educational\", \"offers its\", \"programs\", \"skills\", \"farmers in\", \"machinery\", \"h4 the\", \"of rice\", \"the lands\", \"investments\", \"the sector\", \"most of the\", \"association\", \"santa lucia\", \"members of the\", \"known as\", \"form\", \"seeds\", \"communal bank\", \"the farmers\", \"default\", \"making their\", \"part of the\", \"the members of\", \"too\", \"crops\", \"the profits\", \"lands\", \"of land\", \"finance\", \"in many\", \"the people\", \"of the loan\", \"that is\", \"she\", \"her\", \"farmers\", \"is\", \"baba\", \"rice\", \"by the\", \"my\", \"farming\", \"group\", \"she is\", \"in\", \"production\", \"has\", \"maize\", \"milk\", \"will\", \"the group\", \"school fees\", \"due to\", \"us\", \"purchase\", \"fees\", \"women\", \"and she\", \"due\", \"to repay\", \"will be\", \"pay\", \"the area\", \"farmers in\", \"machinery\", \"h4 the\", \"of rice\", \"the lands\", \"investments\", \"the sector\", \"most of the\", \"association\", \"santa lucia\", \"members of the\", \"known as\", \"form\", \"seeds\", \"communal bank\", \"the farmers\", \"default\", \"making their\", \"part of the\", \"the members of\", \"too\", \"crops\", \"the profits\", \"lands\", \"of land\", \"finance\", \"in many\", \"the people\", \"of the loan\", \"that is\", \"she\", \"her\", \"is\", \"in\", \"mary\", \"has\", \"jane\", \"she is\", \"for\", \"she has\", \"his\", \"farm\", \"children\", \"buying\", \"school\", \"they\", \"milk\", \"work\", \"this\", \"get\", \"an\", \"small\", \"he\", \"in her\", \"them\", \"usd\", \"for the\", \"by\", \"will\", \"with children\", \"farmers in\", \"machinery\", \"h4 the\", \"of rice\", \"the lands\", \"investments\", \"the sector\", \"most of the\", \"association\", \"santa lucia\", \"members of the\", \"known as\", \"form\", \"seeds\", \"communal bank\", \"the farmers\", \"default\", \"making their\", \"part of the\", \"the members of\", \"too\", \"crops\", \"the profits\", \"lands\", \"of land\", \"finance\", \"in many\", \"the people\", \"of the loan\", \"that is\", \"she\", \"her\", \"she has\", \"dairy\", \"group\", \"cow\", \"is\", \"from the\", \"has\", \"in\", \"from\", \"she is\", \"was\", \"she was\", \"shop\", \"she will\", \"with children\", \"with\", \"she has been\", \"in her\", \"making\", \"and she\", \"the group\", \"has been\", \"cows\", \"church\", \"which\", \"young\", \"monthly\", \"buy\", \"farmers in\", \"machinery\", \"h4 the\", \"of rice\", \"the lands\", \"investments\", \"the sector\", \"most of the\", \"association\", \"santa lucia\", \"members of the\", \"known as\", \"form\", \"seeds\", \"communal bank\", \"the farmers\", \"default\", \"making their\", \"part of the\", \"the members of\", \"too\", \"crops\", \"the profits\", \"lands\", \"of land\", \"finance\", \"in many\", \"the people\", \"of the loan\", \"that is\", \"she\", \"her\", \"br\", \"is\", \"in\", \"not\", \"she is\", \"shoes\", \"clothes\", \"loan of usd\", \"received\", \"land\", \"business\", \"child\", \"nairobi\", \"primary school\", \"her business\", \"to meet\", \"this\", \"primary\", \"will\", \"job\", \"of usd\", \"her business she\", \"by\", \"women\", \"where she\", \"does not\", \"she has\", \"usd\", \"farmers in\", \"machinery\", \"h4 the\", \"of rice\", \"the lands\", \"investments\", \"the sector\", \"most of the\", \"association\", \"santa lucia\", \"members of the\", \"known as\", \"form\", \"seeds\", \"communal bank\", \"the farmers\", \"default\", \"making their\", \"part of the\", \"the members of\", \"too\", \"crops\", \"the profits\", \"lands\", \"of land\", \"finance\", \"in many\", \"the people\", \"of the loan\", \"that is\", \"she\", \"us\", \"her\", \"is\", \"in\", \"are\", \"loan of us\", \"business\", \"they\", \"she is\", \"weec\", \"from\", \"husband\", \"of us\", \"local\", \"is very\", \"materials\", \"family\", \"an\", \"buy\", \"sell\", \"to buy\", \"farmers\", \"primary\", \"she will\", \"will\", \"on the\", \"her husband\", \"additional\", \"and has children\", \"farmers in\", \"machinery\", \"h4 the\", \"of rice\", \"the lands\", \"investments\", \"the sector\", \"most of the\", \"association\", \"santa lucia\", \"members of the\", \"known as\", \"form\", \"seeds\", \"communal bank\", \"the farmers\", \"default\", \"making their\", \"part of the\", \"the members of\", \"too\", \"crops\", \"the profits\", \"lands\", \"of land\", \"finance\", \"in many\", \"the people\", \"of the loan\", \"that is\", \"she\", \"her\", \"mifex org\", \"she is\", \"is\", \"www mifex org\", \"www mifex\", \"group\", \"active\", \"source of income\", \"start\", \"where she\", \"got\", \"business\", \"source of\", \"source\", \"services please\", \"where\", \"in\", \"income\", \"and she\", \"to business training\", \"access to business\", \"visit href\", \"educational programs for\", \"weec\", \"for\", \"member of the\", \"very\", \"programs for\"], \"Total\": [207.0, 536.0, 1187.0, 530.0, 1024.0, 133.0, 217.0, 116.0, 638.0, 644.0, 244.0, 83.0, 219.0, 206.0, 237.0, 419.0, 202.0, 344.0, 258.0, 327.0, 307.0, 234.0, 379.0, 395.0, 288.0, 283.0, 161.0, 154.0, 143.0, 71.0, 1187.7262866300803, 1024.43208267375, 219.74095099033218, 244.05693886055013, 206.07792916964652, 151.33431432042673, 154.81226067230907, 145.71118934265397, 161.3451337514618, 127.22537490324913, 135.09097527333796, 127.8369071716693, 114.69937728330048, 116.77943945253502, 110.36753040560987, 117.017524717745, 105.69707507810908, 101.92333519692728, 99.0124545666314, 96.44053705524107, 108.17400904083577, 90.82813236899649, 91.8328202472544, 117.6127965462731, 83.87996816956925, 86.01503768813474, 86.66316512921317, 237.02873109620737, 82.64412832457249, 78.2650594026117, 136.75191033284977, 638.3662714431719, 644.8120779832361, 307.70330216116616, 164.94614875676672, 379.9343787338417, 258.7138686304745, 419.33104140403236, 344.83931675475975, 327.31353487816455, 288.2170750633124, 395.41460250874604, 283.93334311022414, 277.94166742395305, 247.82048816361382, 226.2694538228804, 172.13889703963088, 234.5003056270478, 229.016357507269, 210.2423716605167, 197.96054511005613, 107.33427388545851, 536.6285258038481, 530.9482405321809, 96.28176034225088, 72.09937697790845, 103.45826696147608, 69.64035856187982, 57.48440863751468, 99.06446548006546, 75.53368317511348, 50.102517271742705, 48.424013979500565, 54.683971523244736, 95.60751166156594, 50.68008508698081, 50.17696784625141, 35.92901653861669, 48.118097788618364, 38.28982734412312, 40.106901988991666, 41.62406940806202, 36.73037848220838, 41.62728597862846, 33.373158718535144, 36.37267502082183, 35.353469383488125, 42.745505744297944, 38.34517929721945, 39.76884732573718, 47.606389751324, 84.41891918138582, 60.898571784922574, 644.8120779832361, 638.3662714431719, 419.33104140403236, 344.83931675475975, 163.290443159254, 395.41460250874604, 379.9343787338417, 327.31353487816455, 277.94166742395305, 283.93334311022414, 177.55155246289024, 288.2170750633124, 176.57185031053825, 200.4513963309537, 226.2694538228804, 258.7138686304745, 307.70330216116616, 197.96054511005613, 229.016357507269, 86.82183702120874, 86.82184871200369, 86.82185464235877, 90.62208239169563, 90.62606420401552, 47.187129057789825, 47.113402059305145, 47.10721382941474, 47.106113321857904, 47.06984768769182, 47.06113115413125, 47.04307623521946, 47.03429737780714, 47.03429744486456, 47.03430558385544, 47.0343038493026, 47.03430662275534, 47.03430613764457, 47.03430670993584, 47.034308581176205, 47.034308897355395, 47.03430484288352, 47.0343108061561, 47.03431451562905, 47.034314722721156, 46.908621754512154, 46.90862123126939, 46.90862346638015, 46.908626842567465, 46.7405292031568, 143.74310738528624, 49.34651097032227, 49.346523404354286, 47.4852785680615, 53.16547656249165, 51.19017231171137, 47.67315072743782, 47.98938069196584, 217.7153450073901, 44.7366197084109, 44.73423342037855, 41.0136921091725, 37.37566946896012, 36.72855310236176, 30.125789458087784, 28.891008328998023, 28.600428180761593, 26.77655988742929, 24.60564159610805, 23.091191239977782, 20.407051517421724, 19.05430021620746, 54.259372294054245, 20.81567635236261, 44.16061903647204, 36.86734204429269, 62.01482658501646, 29.16290085051014, 25.073785067704762, 19.60797846653692, 93.72836533844844, 39.09705776305207, 18.692476488598903, 22.34998586980447, 16.608097577408035, 26.511155662631896, 27.205683011259968, 27.858868283255955, 42.943380568336046, 71.4852970074776, 74.8024584651716, 74.80242465029549, 78.49731780255091, 80.29497855467815, 79.8072511616145, 78.73235978980584, 202.9634137214441, 135.47480915379407, 644.8120779832361, 234.5003056270478, 638.3662714431719, 192.6111734912043, 181.9865364514635, 247.82048816361382, 133.25707268710303, 83.51352982530499, 64.6220042997871, 57.97165460209196, 42.98977788782084, 59.879964715076966, 60.62215845041034, 116.33047583402632, 71.04113829374495, 41.96652966490225, 38.964902795839464, 43.15105879473869, 42.59331777899251, 45.03180591193033, 35.22540601960295, 78.73235978980584, 79.8072511616145, 80.29497855467815, 62.28083042912812, 44.41586256890995, 74.8024584651716, 74.80242465029549, 78.49731780255091, 114.35262222396973, 90.73024310936952, 47.36523416343243, 91.17885860534133, 42.23733647596387, 181.9865364514635, 62.19982918070108, 277.94166742395305, 207.36363040563916, 16.608097577408035, 18.692476488598903, 19.05430021620746, 19.60797846653692, 20.407051517421724, 20.687413003609137, 20.81567635236261, 21.01413367688875, 22.34998586980447, 23.091191239977782, 23.166156798162042, 23.241641170976393, 23.388995837909, 24.30276623669073, 24.60564159610805, 25.073785067704762, 25.096257199806264, 25.193687487137275, 25.26705173090588, 25.860793617575855, 26.086174084253688, 26.511155662631896, 26.71680342178241, 26.77655988742929, 27.038757725442135, 27.205683011259968, 27.463523164458746, 27.752387713844865, 27.858868283255955, 1024.43208267375, 1187.7262866300803, 69.38929048500533, 638.3662714431719, 379.9343787338417, 244.05693886055013, 63.450387244913564, 644.8120779832361, 237.02873109620737, 206.07792916964652, 46.161450348445655, 197.96054511005613, 70.76167226722389, 210.2423716605167, 54.602705963825514, 38.71016405598291, 117.017524717745, 31.23623003353169, 138.70030300310125, 258.7138686304745, 35.22540601960295, 36.06491038696701, 68.63771473076132, 166.82895136734052, 143.96863992202614, 61.10397971451494, 41.09277895973134, 158.02756070690563, 395.41460250874604, 16.608097577408035, 18.692476488598903, 19.05430021620746, 19.60797846653692, 20.407051517421724, 20.687413003609137, 20.81567635236261, 21.01413367688875, 22.34998586980447, 23.091191239977782, 23.166156798162042, 23.241641170976393, 23.388995837909, 24.30276623669073, 24.60564159610805, 25.073785067704762, 25.096257199806264, 25.193687487137275, 25.26705173090588, 25.860793617575855, 26.086174084253688, 26.511155662631896, 26.71680342178241, 26.77655988742929, 27.038757725442135, 27.205683011259968, 27.463523164458746, 27.752387713844865, 27.858868283255955, 27.9743439128919, 1024.43208267375, 1187.7262866300803, 42.940825179904635, 638.3662714431719, 644.8120779832361, 37.37566946896012, 379.9343787338417, 206.07792916964652, 244.05693886055013, 117.017524717745, 419.33104140403236, 83.05098278114883, 63.450387244913564, 143.96863992202614, 344.83931675475975, 141.37787064769932, 138.70030300310125, 219.74095099033218, 78.05683394487814, 200.4513963309537, 237.02873109620737, 166.82895136734052, 277.94166742395305, 62.01482658501646, 63.09362050095113, 234.5003056270478, 37.08333061296583, 71.06599461570093, 395.41460250874604, 93.72836533844844, 16.608097577408035, 18.692476488598903, 19.05430021620746, 19.60797846653692, 20.407051517421724, 20.687413003609137, 20.81567635236261, 21.01413367688875, 22.34998586980447, 23.091191239977782, 23.166156798162042, 23.241641170976393, 23.388995837909, 24.30276623669073, 24.60564159610805, 25.073785067704762, 25.096257199806264, 25.193687487137275, 25.26705173090588, 25.860793617575855, 26.086174084253688, 26.511155662631896, 26.71680342178241, 26.77655988742929, 27.038757725442135, 27.205683011259968, 27.463523164458746, 27.752387713844865, 27.858868283255955, 27.9743439128919, 86.82185464235877, 86.82183702120874, 86.82184871200369, 1024.43208267375, 1187.7262866300803, 60.35828453585059, 644.8120779832361, 143.96863992202614, 536.6285258038481, 45.735107305796596, 45.73509588716161, 47.03431451562905, 47.03430670993584, 45.73510957104801, 47.48165309068083, 47.03430662275534, 46.90862346638015, 47.106113321857904, 47.187129057789825, 47.034308897355395, 638.3662714431719, 48.56163877319518, 47.034314722721156, 46.908626842567465, 47.98938069196584, 47.0343108061561, 46.90862123126939, 45.735102264541716, 47.03430558385544, 48.58098153319097, 16.608097577408035, 18.692476488598903, 19.05430021620746, 19.60797846653692, 20.407051517421724, 20.687413003609137, 20.81567635236261, 21.01413367688875, 22.34998586980447, 23.091191239977782, 23.166156798162042, 23.241641170976393, 23.388995837909, 24.30276623669073, 24.60564159610805, 25.073785067704762, 25.096257199806264, 25.193687487137275, 25.26705173090588, 25.860793617575855, 26.086174084253688, 26.511155662631896, 26.71680342178241, 26.77655988742929, 27.038757725442135, 27.205683011259968, 27.463523164458746, 27.752387713844865, 27.858868283255955, 27.9743439128919, 1024.43208267375, 206.07792916964652, 117.017524717745, 379.9343787338417, 1187.7262866300803, 33.17625570337294, 56.49848695372815, 49.801079498310195, 78.05683394487814, 131.03783145349237, 141.37787064769932, 71.06599461570093, 166.82895136734052, 176.57185031053825, 170.9649461953116, 638.3662714431719, 47.47903043436146, 39.64144083888245, 114.69937728330048, 116.77943945253502, 37.08333061296583, 66.19994639701403, 138.70030300310125, 197.96054511005613, 39.70182884824197, 177.55155246289024, 244.05693886055013, 51.20880261336694, 66.68955397027271, 258.7138686304745, 16.608097577408035, 18.692476488598903, 19.05430021620746, 19.60797846653692, 20.407051517421724, 20.687413003609137, 20.81567635236261, 21.01413367688875, 22.34998586980447, 23.091191239977782, 23.166156798162042, 23.241641170976393, 23.388995837909, 24.30276623669073, 24.60564159610805, 25.073785067704762, 25.096257199806264, 25.193687487137275, 25.26705173090588, 25.860793617575855, 26.086174084253688, 26.511155662631896, 26.71680342178241, 26.77655988742929, 27.038757725442135, 27.205683011259968, 27.463523164458746, 27.752387713844865, 27.858868283255955, 27.9743439128919, 536.6285258038481, 530.9482405321809, 207.36363040563916, 163.290443159254, 638.3662714431719, 95.60751166156594, 644.8120779832361, 197.96054511005613, 1024.43208267375, 51.192340614830165, 54.4972820262507, 379.9343787338417, 84.41891918138582, 103.45826696147608, 73.45638517512835, 283.93334311022414, 68.35287540546152, 103.6080702747794, 1187.7262866300803, 395.41460250874604, 43.20080909478425, 60.35828453585059, 45.501778121787375, 288.2170750633124, 124.92464637457283, 57.48440863751468, 83.05098278114883, 56.99709136685673, 344.83931675475975, 138.70030300310125, 16.608097577408035, 18.692476488598903, 19.05430021620746, 19.60797846653692, 20.407051517421724, 20.687413003609137, 20.81567635236261, 21.01413367688875, 22.34998586980447, 23.091191239977782, 23.166156798162042, 23.241641170976393, 23.388995837909, 24.30276623669073, 24.60564159610805, 25.073785067704762, 25.096257199806264, 25.193687487137275, 25.26705173090588, 25.860793617575855, 26.086174084253688, 26.511155662631896, 26.71680342178241, 26.77655988742929, 27.038757725442135, 27.205683011259968, 27.463523164458746, 27.752387713844865, 27.858868283255955, 27.9743439128919, 1024.43208267375, 1187.7262866300803, 64.6447890421877, 638.3662714431719, 143.96863992202614, 379.9343787338417, 93.72836533844844, 644.8120779832361, 244.05693886055013, 48.719685998110386, 206.07792916964652, 117.15895539556419, 71.06599461570093, 50.20231998211486, 68.35287540546152, 49.59312948307552, 80.3524451366479, 115.99769095627974, 103.87137515232457, 237.02873109620737, 46.94436131994447, 161.3451337514618, 197.96054511005613, 101.92333519692728, 45.501778121787375, 69.02358357865116, 192.6111734912043, 327.31353487816455, 395.41460250874604, 41.82313974672003, 16.608097577408035, 18.692476488598903, 19.05430021620746, 19.60797846653692, 20.407051517421724, 20.687413003609137, 20.81567635236261, 21.01413367688875, 22.34998586980447, 23.091191239977782, 23.166156798162042, 23.241641170976393, 23.388995837909, 24.30276623669073, 24.60564159610805, 25.073785067704762, 25.096257199806264, 25.193687487137275, 25.26705173090588, 25.860793617575855, 26.086174084253688, 26.511155662631896, 26.71680342178241, 26.77655988742929, 27.038757725442135, 27.205683011259968, 27.463523164458746, 27.752387713844865, 27.858868283255955, 27.9743439128919, 1024.43208267375, 1187.7262866300803, 638.3662714431719, 644.8120779832361, 206.07792916964652, 37.37566946896012, 143.96863992202614, 379.9343787338417, 237.02873109620737, 163.290443159254, 44.516484952315324, 33.93715723246389, 244.05693886055013, 344.83931675475975, 395.41460250874604, 258.7138686304745, 64.74239947404533, 93.59555920669573, 138.70030300310125, 90.82813236899649, 38.71016405598291, 536.6285258038481, 283.93334311022414, 142.2903943862069, 166.82895136734052, 162.88527044406524, 83.05098278114883, 192.6111734912043, 54.683971523244736, 16.608097577408035, 18.692476488598903, 19.05430021620746, 19.60797846653692, 20.407051517421724, 20.687413003609137, 20.81567635236261, 21.01413367688875, 22.34998586980447, 23.091191239977782, 23.166156798162042, 23.241641170976393, 23.388995837909, 24.30276623669073, 24.60564159610805, 25.073785067704762, 25.096257199806264, 25.193687487137275, 25.26705173090588, 25.860793617575855, 26.086174084253688, 26.511155662631896, 26.71680342178241, 26.77655988742929, 27.038757725442135, 27.205683011259968, 27.463523164458746, 27.752387713844865, 27.858868283255955, 27.9743439128919, 1024.43208267375, 86.82184871200369, 86.82183702120874, 86.82185464235877, 244.05693886055013, 1187.7262866300803, 117.017524717745, 638.3662714431719, 47.06984768769182, 46.74054654143786, 45.7351046395791, 46.908626842567465, 47.67315072743782, 47.034308581176205, 45.73510473342461, 46.740543013005855, 58.70056048286841, 47.03429744486456, 45.735102264541716, 46.90862123126939, 47.0343108061561, 47.04307623521946, 47.03430613764457, 47.03431451562905, 47.187129057789825, 45.73510957104801, 46.7405292031568, 47.113402059305145, 47.034314722721156, 45.735103033299886, 16.608097577408035, 18.692476488598903, 19.05430021620746, 19.60797846653692, 20.407051517421724, 20.687413003609137, 20.81567635236261, 21.01413367688875, 22.34998586980447, 23.091191239977782, 23.166156798162042, 23.241641170976393, 23.388995837909, 24.30276623669073, 24.60564159610805, 25.073785067704762, 25.096257199806264, 25.193687487137275, 25.26705173090588, 25.860793617575855, 26.086174084253688, 26.511155662631896, 26.71680342178241, 26.77655988742929, 27.038757725442135, 27.205683011259968, 27.463523164458746, 27.752387713844865, 27.858868283255955, 27.9743439128919, 1024.43208267375, 62.01482658501646, 638.3662714431719, 1187.7262866300803, 86.82185464235877, 143.96863992202614, 37.37566946896012, 86.82184871200369, 237.02873109620737, 86.82183702120874, 644.8120779832361, 379.9343787338417, 93.72836533844844, 131.03783145349237, 46.94436131994447, 117.6127965462731, 202.9634137214441, 95.69622963007136, 64.6447890421877, 530.9482405321809, 41.005830802104974, 162.42978954773469, 47.034314722721156, 118.0895711980989, 47.113402059305145, 46.74053646678003, 48.58098153319097, 34.17076957722211, 16.608097577408035, 18.692476488598903, 19.05430021620746, 19.60797846653692, 20.407051517421724, 20.687413003609137, 20.81567635236261, 21.01413367688875, 22.34998586980447, 23.091191239977782, 23.166156798162042, 23.241641170976393, 23.388995837909, 24.30276623669073, 24.60564159610805, 25.073785067704762, 25.096257199806264, 25.193687487137275, 25.26705173090588, 25.860793617575855, 26.086174084253688, 26.511155662631896, 26.71680342178241, 26.77655988742929, 27.038757725442135, 27.205683011259968, 27.463523164458746, 27.752387713844865, 27.858868283255955, 27.9743439128919, 1024.43208267375, 1187.7262866300803, 62.01482658501646, 638.3662714431719, 37.37566946896012, 93.72836533844844, 34.57528886178647, 95.60751166156594, 56.558076799214604, 237.02873109620737, 244.05693886055013, 644.8120779832361, 36.379291717344024, 379.9343787338417, 50.26575645702088, 70.76167226722389, 283.93334311022414, 95.69622963007136, 54.602705963825514, 66.68955397027271, 163.290443159254, 129.67786209285006, 63.450387244913564, 117.6127965462731, 117.017524717745, 67.5631850031813, 51.20880261336694, 109.11183001784708, 87.09475501503962, 45.48319284629951, 16.608097577408035, 18.692476488598903, 19.05430021620746, 19.60797846653692, 20.407051517421724, 20.687413003609137, 20.81567635236261, 21.01413367688875, 22.34998586980447, 23.091191239977782, 23.166156798162042, 23.241641170976393, 23.388995837909, 24.30276623669073, 24.60564159610805, 25.073785067704762, 25.096257199806264, 25.193687487137275, 25.26705173090588, 25.860793617575855, 26.086174084253688, 26.511155662631896, 26.71680342178241, 26.77655988742929, 27.038757725442135, 27.205683011259968, 27.463523164458746, 27.752387713844865, 27.858868283255955, 27.9743439128919, 1024.43208267375, 1187.7262866300803, 638.3662714431719, 644.8120779832361, 44.516484952315324, 379.9343787338417, 38.33015746656145, 244.05693886055013, 395.41460250874604, 206.07792916964652, 536.6285258038481, 45.22447340575109, 258.7138686304745, 47.42628842170862, 197.96054511005613, 192.6111734912043, 70.76167226722389, 113.16337898464892, 288.2170750633124, 71.06599461570093, 142.2903943862069, 162.42978954773469, 530.9482405321809, 145.71118934265397, 117.57523373257982, 64.74239947404533, 124.26530430279531, 181.9865364514635, 283.93334311022414, 42.60716182036448, 16.608097577408035, 18.692476488598903, 19.05430021620746, 19.60797846653692, 20.407051517421724, 20.687413003609137, 20.81567635236261, 21.01413367688875, 22.34998586980447, 23.091191239977782, 23.166156798162042, 23.241641170976393, 23.388995837909, 24.30276623669073, 24.60564159610805, 25.073785067704762, 25.096257199806264, 25.193687487137275, 25.26705173090588, 25.860793617575855, 26.086174084253688, 26.511155662631896, 26.71680342178241, 26.77655988742929, 27.038757725442135, 27.205683011259968, 27.463523164458746, 27.752387713844865, 27.858868283255955, 27.9743439128919, 1024.43208267375, 1187.7262866300803, 206.07792916964652, 69.38929048500533, 237.02873109620737, 41.09277895973134, 638.3662714431719, 83.1646918919845, 379.9343787338417, 644.8120779832361, 277.94166742395305, 244.05693886055013, 143.96863992202614, 64.6447890421877, 113.58024561260498, 116.77943945253502, 42.60716182036448, 344.83931675475975, 78.05683394487814, 145.71118934265397, 61.74587250946265, 117.017524717745, 95.69622963007136, 141.37787064769932, 38.71016405598291, 52.41851870241976, 158.02756070690563, 70.7206214141265, 37.38703778417295, 179.0378867419024, 16.608097577408035, 18.692476488598903, 19.05430021620746, 19.60797846653692, 20.407051517421724, 20.687413003609137, 20.81567635236261, 21.01413367688875, 22.34998586980447, 23.091191239977782, 23.166156798162042, 23.241641170976393, 23.388995837909, 24.30276623669073, 24.60564159610805, 25.073785067704762, 25.096257199806264, 25.193687487137275, 25.26705173090588, 25.860793617575855, 26.086174084253688, 26.511155662631896, 26.71680342178241, 26.77655988742929, 27.038757725442135, 27.205683011259968, 27.463523164458746, 27.752387713844865, 27.858868283255955, 27.9743439128919, 1024.43208267375, 1187.7262866300803, 60.35828453585059, 638.3662714431719, 644.8120779832361, 117.15895539556419, 244.05693886055013, 68.38324096929416, 100.98762026296103, 32.83971687808741, 42.54323771236151, 43.42810560938938, 419.33104140403236, 56.97428420560093, 38.802377064367946, 47.137606624461, 219.74095099033218, 49.28359221411725, 288.2170750633124, 57.70138211394563, 283.93334311022414, 43.425229070829815, 38.68009242027912, 44.878517556446766, 181.9865364514635, 117.6127965462731, 80.3524451366479, 33.858780631760524, 206.07792916964652, 64.74239947404533, 16.608097577408035, 18.692476488598903, 19.05430021620746, 19.60797846653692, 20.407051517421724, 20.687413003609137, 20.81567635236261, 21.01413367688875, 22.34998586980447, 23.091191239977782, 23.166156798162042, 23.241641170976393, 23.388995837909, 24.30276623669073, 24.60564159610805, 25.073785067704762, 25.096257199806264, 25.193687487137275, 25.26705173090588, 25.860793617575855, 26.086174084253688, 26.511155662631896, 26.71680342178241, 26.77655988742929, 27.038757725442135, 27.205683011259968, 27.463523164458746, 27.752387713844865, 27.858868283255955, 27.9743439128919, 1024.43208267375, 163.290443159254, 1187.7262866300803, 638.3662714431719, 644.8120779832361, 210.2423716605167, 48.12336905652622, 419.33104140403236, 192.6111734912043, 244.05693886055013, 36.06491038696701, 277.94166742395305, 161.3451337514618, 56.99709136685673, 91.17885860534133, 72.02231313213785, 64.35535817833716, 167.61797461281196, 142.2903943862069, 179.0378867419024, 123.95356317550909, 151.53464182958268, 62.01482658501646, 57.70138211394563, 116.77943945253502, 283.93334311022414, 63.88059676618441, 151.33431432042673, 55.7887949071394, 37.47538812517105, 16.608097577408035, 18.692476488598903, 19.05430021620746, 19.60797846653692, 20.407051517421724, 20.687413003609137, 20.81567635236261, 21.01413367688875, 22.34998586980447, 23.091191239977782, 23.166156798162042, 23.241641170976393, 23.388995837909, 24.30276623669073, 24.60564159610805, 25.073785067704762, 25.096257199806264, 25.193687487137275, 25.26705173090588, 25.860793617575855, 26.086174084253688, 26.511155662631896, 26.71680342178241, 26.77655988742929, 27.038757725442135, 27.205683011259968, 27.463523164458746, 27.752387713844865, 27.858868283255955, 27.9743439128919, 1024.43208267375, 1187.7262866300803, 86.82183702120874, 244.05693886055013, 638.3662714431719, 86.82184871200369, 86.82185464235877, 237.02873109620737, 51.554085367846, 38.11662527312308, 85.00446732367577, 80.3524451366479, 33.93715723246389, 419.33104140403236, 42.249124994154606, 44.46589400120111, 46.908621754512154, 115.99769095627974, 644.8120779832361, 138.70030300310125, 117.017524717745, 47.106113321857904, 47.03429737780714, 45.73510957104801, 47.034314722721156, 36.06491038696701, 395.41460250874604, 40.29693554177624, 139.13111873542886, 47.034308581176205], \"loglift\": [30.0, 29.0, 28.0, 27.0, 26.0, 25.0, 24.0, 23.0, 22.0, 21.0, 20.0, 19.0, 18.0, 17.0, 16.0, 15.0, 14.0, 13.0, 12.0, 11.0, 10.0, 9.0, 8.0, 7.0, 6.0, 5.0, 4.0, 3.0, 2.0, 1.0, 0.4465, 0.444, 0.4279, 0.4279, 0.4251, 0.4159, 0.4154, 0.4151, 0.4096, 0.4096, 0.4093, 0.4089, 0.4047, 0.4042, 0.4028, 0.4016, 0.3989, 0.3986, 0.3951, 0.3933, 0.3911, 0.3893, 0.3892, 0.389, 0.3866, 0.3864, 0.3856, 0.384, 0.3836, 0.3817, 0.3484, 0.1636, 0.1226, 0.2016, 0.2911, 0.1581, 0.2109, 0.1106, 0.1349, 0.1415, 0.1673, 0.0687, 0.1423, 0.0885, 0.1179, 0.1511, 0.2475, 0.0745, 0.0844, 0.1036, 0.1375, 1.6817, 1.6813, 1.6544, 1.649, 1.6335, 1.6324, 1.6256, 1.6125, 1.6098, 1.6093, 1.6051, 1.5867, 1.5866, 1.5845, 1.581, 1.5777, 1.5726, 1.562, 1.5597, 1.5573, 1.554, 1.5521, 1.542, 1.5377, 1.5314, 1.5258, 1.5244, 1.5052, 1.4946, 1.4755, 1.4486, 1.3964, 0.1192, 0.1137, 0.3024, 0.3083, 0.7146, 0.1945, 0.1629, 0.1995, 0.2839, 0.2527, 0.5388, 0.1734, 0.5389, 0.3757, 0.2238, 0.0942, -0.0709, 0.3213, 0.1761, 2.7871, 2.7871, 2.7871, 2.7561, 2.756, 2.7303, 2.7301, 2.7301, 2.7301, 2.73, 2.73, 2.7299, 2.7299, 2.7299, 2.7299, 2.7299, 2.7299, 2.7299, 2.7299, 2.7299, 2.7299, 2.7299, 2.7299, 2.7299, 2.7299, 2.7295, 2.7295, 2.7295, 2.7295, 2.7291, 2.577, 2.7187, 2.7187, 2.7239, 2.6641, 2.672, 2.7204, 2.7125, 3.0991, 2.9965, 2.9862, 2.984, 2.9693, 2.9664, 2.9282, 2.9189, 2.9166, 2.9008, 2.8785, 2.8601, 2.8196, 2.794, 2.7414, 2.6931, 2.6343, 2.6066, 2.599, 2.5834, 2.5634, 2.5633, 2.5197, 2.5131, 2.512, 2.5011, 2.4934, 2.4531, 2.4208, 2.3247, 2.3113, 2.2826, 2.156, 2.156, 2.1055, 2.0644, 2.0199, 2.0193, 1.4671, 1.5222, 0.2349, 0.9637, 0.0209, 0.9708, 1.0085, 0.7059, 4.5456, 4.5445, 4.5243, 4.514, 4.4448, 4.4329, 4.2288, 4.1228, 4.0204, 3.5943, 3.35, 2.4609, 2.1028, 1.9642, 1.8997, 1.7979, 1.7676, 1.7582, 1.6542, 1.4691, 1.1421, 1.1421, 1.0165, 0.7087, 0.6434, 0.3775, -0.0157, -0.1852, -0.2932, -0.5279, -1.0549, 5.1486, 0.7405, 0.6223, 0.6032, 0.5745, 0.5346, 0.5209, 0.5147, 0.5053, 0.4436, 0.411, 0.4077, 0.4045, 0.3982, 0.3599, 0.3475, 0.3286, 0.3277, 0.3238, 0.321, 0.2977, 0.289, 0.2729, 0.2651, 0.2629, 0.2533, 0.247, 0.2376, 0.2271, 0.2233, -3.3802, -3.5285, -0.6888, -2.908, -2.3891, -1.9465, -0.5994, -2.9181, -1.9174, -1.7774, -0.2813, -1.7373, -0.7086, -1.7975, -0.4494, -0.1054, -1.2116, 0.1091, -1.3816, -2.005, -0.0111, -0.0346, -0.6782, -1.5663, -1.4189, -0.5619, -0.1652, -1.5121, -2.4293, 1.4457, 1.3275, 1.3083, 1.2797, 1.2397, 1.2261, 1.2199, 1.2104, 1.1488, 1.1162, 1.1129, 1.1097, 1.1034, 1.065, 1.0527, 1.0338, 1.0329, 1.029, 1.0261, 1.0029, 0.9942, 0.978, 0.9703, 0.9681, 0.9583, 0.9522, 0.9428, 0.9323, 0.9285, 0.9243, -2.6759, -2.824, 0.496, -2.2032, -2.2132, 0.6347, -1.6843, -1.0725, -1.2417, -0.5066, -1.783, -0.1638, 0.1054, -0.7139, -1.5874, -0.6957, -0.6766, -1.1368, -0.1018, -1.0449, -1.2125, -0.8613, -1.3717, 0.1283, 0.1111, -1.2018, 0.6425, -0.0079, -1.7243, -0.2847, 1.4457, 1.3275, 1.3083, 1.2797, 1.2398, 1.2261, 1.2199, 1.2104, 1.1488, 1.1162, 1.1129, 1.1097, 1.1033, 1.065, 1.0526, 1.0338, 1.0329, 1.029, 1.0261, 1.0029, 0.9942, 0.978, 0.9703, 0.9681, 0.9584, 0.9522, 0.9427, 0.9323, 0.9285, 0.9243, -0.2079, -0.2079, -0.2079, -2.676, -2.824, 0.1555, -2.2132, -0.7138, -2.0295, 0.4329, 0.4329, 0.4049, 0.4049, 0.4329, 0.3954, 0.4049, 0.4076, 0.4034, 0.4016, 0.4049, -2.2031, 0.3729, 0.4049, 0.4076, 0.3848, 0.4049, 0.4076, 0.4329, 0.4049, 0.3725, 1.4457, 1.3275, 1.3083, 1.2797, 1.2397, 1.2261, 1.2199, 1.2104, 1.1488, 1.1162, 1.1129, 1.1097, 1.1033, 1.065, 1.0526, 1.0338, 1.0329, 1.029, 1.0261, 1.0029, 0.9942, 0.9781, 0.9703, 0.9681, 0.9583, 0.9522, 0.9428, 0.9323, 0.9285, 0.9243, -2.6761, -1.0726, -0.5066, -1.6843, -2.8241, 0.7538, 0.2215, 0.3476, -0.1018, -0.6198, -0.6958, -0.008, -0.8613, -0.9181, -0.8858, -2.2033, 0.3954, 0.5758, -0.4867, -0.5046, 0.6425, 0.063, -0.6767, -1.0324, 0.5743, -0.9236, -1.2418, 0.3197, 0.0556, -1.3001, 1.4458, 1.3274, 1.3083, 1.2796, 1.2397, 1.226, 1.2199, 1.2104, 1.1488, 1.1161, 1.1129, 1.1096, 1.1033, 1.065, 1.0526, 1.0337, 1.0328, 1.029, 1.0261, 1.0028, 0.9942, 0.978, 0.9703, 0.9681, 0.9584, 0.9521, 0.9427, 0.9322, 0.9284, 0.9243, -2.028, -2.0176, -1.0781, -0.8392, -2.2026, -0.304, -2.2127, -1.0319, -2.6758, 0.3204, 0.2579, -1.684, -0.1798, -0.3832, -0.0407, -1.3928, 0.0313, -0.3847, -2.8239, -1.724, 0.49, 0.1556, 0.4381, -1.4078, -0.5718, 0.2044, -0.1636, 0.2129, -1.5872, -0.6765, 1.4457, 1.3275, 1.3083, 1.2797, 1.2397, 1.2261, 1.2199, 1.2104, 1.1488, 1.1162, 1.1129, 1.1097, 1.1033, 1.065, 1.0526, 1.0338, 1.0329, 1.029, 1.0261, 1.0029, 0.9942, 0.978, 0.9703, 0.9681, 0.9583, 0.9522, 0.9428, 0.9323, 0.9285, 0.9243, -2.676, -2.824, 0.0868, -2.2032, -0.7139, -1.6843, -0.2847, -2.2133, -1.2417, 0.3696, -1.0726, -0.5079, -0.0079, 0.3396, 0.031, 0.3518, -0.1308, -0.4979, -0.3875, -1.2125, 0.4067, -0.8279, -1.0324, -0.3686, 0.4379, 0.0212, -1.005, -1.5353, -1.7243, 0.5222, 1.4457, 1.3275, 1.3083, 1.2797, 1.2398, 1.2261, 1.2199, 1.2104, 1.1488, 1.1162, 1.1129, 1.1097, 1.1034, 1.065, 1.0526, 1.0338, 1.0329, 1.029, 1.0261, 1.0029, 0.9942, 0.9781, 0.9703, 0.9681, 0.9583, 0.9522, 0.9427, 0.9323, 0.9285, 0.9243, -2.6759, -2.824, -2.2031, -2.2132, -1.0725, 0.6347, -0.7139, -1.6843, -1.2125, -0.8398, 0.4598, 0.7312, -1.2417, -1.5874, -1.7242, -1.3, 0.0853, -0.2833, -0.6766, -0.2533, 0.5996, -2.0296, -1.3931, -0.7022, -0.8613, -0.8374, -0.1638, -1.005, 0.2541, 1.4457, 1.3275, 1.3083, 1.2797, 1.2397, 1.2261, 1.2199, 1.2104, 1.1488, 1.1162, 1.1129, 1.1097, 1.1033, 1.065, 1.0526, 1.0338, 1.0329, 1.029, 1.0261, 1.0029, 0.9942, 0.978, 0.9703, 0.9681, 0.9584, 0.9522, 0.9428, 0.9323, 0.9285, 0.9243, -2.6761, -0.2081, -0.2081, -0.2081, -1.2417, -2.8241, -0.5066, -2.2032, 0.4041, 0.4111, 0.4328, 0.4075, 0.3913, 0.4048, 0.4328, 0.4111, 0.1832, 0.4048, 0.4328, 0.4075, 0.4048, 0.4046, 0.4048, 0.4048, 0.4016, 0.4328, 0.4111, 0.4031, 0.4048, 0.4328, 1.4458, 1.3275, 1.3083, 1.2797, 1.2398, 1.2261, 1.2199, 1.2104, 1.1488, 1.1162, 1.1129, 1.1097, 1.1034, 1.065, 1.0527, 1.0339, 1.0329, 1.029, 1.0261, 1.0029, 0.9942, 0.9781, 0.9703, 0.9681, 0.9583, 0.9522, 0.9427, 0.9323, 0.9285, 0.9243, -2.6761, 0.1284, -2.2032, -2.8241, -0.2081, -0.7139, 0.6347, -0.2081, -1.2125, -0.2081, -2.2132, -1.6843, -0.2847, -0.6198, 0.4067, -0.5117, -1.0573, -0.3055, 0.0868, -2.019, 0.542, -0.8346, 0.4048, -0.5158, 0.4031, 0.4111, 0.3724, 0.7243, 1.4458, 1.3275, 1.3083, 1.2797, 1.2398, 1.2261, 1.2199, 1.2105, 1.1488, 1.1162, 1.1129, 1.1097, 1.1033, 1.065, 1.0526, 1.0338, 1.0329, 1.029, 1.0261, 1.0029, 0.9942, 0.978, 0.9703, 0.9681, 0.9583, 0.9522, 0.9427, 0.9323, 0.9285, 0.9243, -2.676, -2.824, 0.1284, -2.2032, 0.6347, -0.2847, 0.7126, -0.3046, 0.2204, -1.2125, -1.2417, -2.2133, 0.6617, -1.6843, 0.3384, -0.0036, -1.3931, -0.3055, 0.2556, 0.0556, -0.8399, -0.6094, 0.1054, -0.5117, -0.5067, 0.0426, 0.3198, -0.4367, -0.2113, 0.4383, 1.4457, 1.3275, 1.3083, 1.2797, 1.2397, 1.2261, 1.2199, 1.2104, 1.1488, 1.1162, 1.1129, 1.1097, 1.1033, 1.065, 1.0526, 1.0338, 1.0329, 1.029, 1.0261, 1.0029, 0.9942, 0.978, 0.9703, 0.9681, 0.9584, 0.9522, 0.9427, 0.9323, 0.9285, 0.9243, -2.676, -2.824, -2.2031, -2.2132, 0.4599, -1.6843, 0.6095, -1.2417, -1.7242, -1.0725, -2.0296, 0.4441, -1.3, 0.3965, -1.0324, -1.005, -0.0036, -0.4731, -1.408, -0.0079, -0.7022, -0.8346, -2.019, -0.7259, -0.5114, 0.0853, -0.5667, -0.9483, -1.3931, 0.5036, 1.4457, 1.3275, 1.3083, 1.2797, 1.2397, 1.2261, 1.2199, 1.2104, 1.1488, 1.1161, 1.1129, 1.1097, 1.1033, 1.065, 1.0526, 1.0338, 1.0329, 1.029, 1.0261, 1.0029, 0.9942, 0.978, 0.9703, 0.9681, 0.9583, 0.9522, 0.9427, 0.9323, 0.9284, 0.9243, -2.6758, -2.8239, -1.0725, 0.016, -1.2124, 0.5399, -2.2032, -0.1651, -1.6843, -2.2132, -1.3717, -1.2417, -0.7139, 0.0868, -0.4768, -0.5046, 0.5037, -1.5874, -0.1017, -0.7259, 0.1327, -0.5066, -0.3055, -0.6957, 0.5996, 0.2964, -0.8071, -0.0031, 0.6344, -0.9319, 1.4457, 1.3275, 1.3083, 1.2797, 1.2397, 1.2261, 1.2199, 1.2104, 1.1488, 1.1162, 1.1129, 1.1097, 1.1033, 1.065, 1.0526, 1.0338, 1.0329, 1.029, 1.0261, 1.0029, 0.9942, 0.9781, 0.9703, 0.9681, 0.9584, 0.9522, 0.9428, 0.9323, 0.9285, 0.9243, -2.6761, -2.824, 0.1554, -2.2032, -2.2133, -0.5078, -1.2417, 0.0305, -0.3593, 0.764, 0.5051, 0.4846, -1.783, 0.2131, 0.5972, 0.4026, -1.1368, 0.3581, -1.4081, 0.2004, -1.3931, 0.4846, 0.6003, 0.4517, -0.9483, -0.5117, -0.1308, 0.7335, -1.0726, 0.0852, 1.4457, 1.3275, 1.3083, 1.2797, 1.2397, 1.2261, 1.2199, 1.2104, 1.1488, 1.1162, 1.1129, 1.1097, 1.1034, 1.065, 1.0526, 1.0338, 1.0329, 1.029, 1.0261, 1.0029, 0.9942, 0.978, 0.9703, 0.9681, 0.9584, 0.9522, 0.9427, 0.9323, 0.9285, 0.9243, -2.6761, -0.8398, -2.8241, -2.2032, -2.2133, -1.0926, 0.3819, -1.783, -1.005, -1.2417, 0.6704, -1.3717, -0.8279, 0.2127, -0.2572, -0.0213, 0.0912, -0.866, -0.7022, -0.9319, -0.5642, -0.7652, 0.1283, 0.2004, -0.5046, -1.3931, 0.0986, -0.7638, 0.2341, 0.632, 1.4457, 1.3275, 1.3083, 1.2797, 1.2397, 1.2261, 1.2199, 1.2104, 1.1488, 1.1162, 1.1129, 1.1097, 1.1033, 1.065, 1.0526, 1.0338, 1.0329, 1.029, 1.0261, 1.0029, 0.9942, 0.978, 0.9703, 0.9681, 0.9583, 0.9522, 0.9427, 0.9323, 0.9285, 0.9243, -2.676, -2.824, -0.2081, -1.2417, -2.2032, -0.2082, -0.2082, -1.2125, 0.3131, 0.615, -0.187, -0.1307, 0.7312, -1.783, 0.5121, 0.461, 0.4075, -0.4979, -2.2133, -0.6766, -0.5067, 0.4033, 0.4048, 0.4328, 0.4048, 0.6703, -1.7243, 0.5594, -0.6798, 0.4048], \"logprob\": [30.0, 29.0, 28.0, 27.0, 26.0, 25.0, 24.0, 23.0, 22.0, 21.0, 20.0, 19.0, 18.0, 17.0, 16.0, 15.0, 14.0, 13.0, 12.0, 11.0, 10.0, 9.0, 8.0, 7.0, 6.0, 5.0, 4.0, 3.0, 2.0, 1.0, -3.6371, -3.7874, -5.343, -5.2381, -5.41, -5.728, -5.7057, -5.7666, -5.6703, -5.9078, -5.8481, -5.9037, -6.0163, -5.9989, -6.0567, -5.9995, -6.1039, -6.1406, -6.1731, -6.2012, -6.0886, -6.2651, -6.2542, -6.007, -6.3474, -6.3224, -6.3158, -5.3112, -6.3652, -6.4216, -5.8968, -4.5409, -4.5718, -5.2326, -5.7667, -5.0653, -5.3967, -5.0141, -5.1854, -5.231, -5.3324, -5.1147, -5.3723, -5.4475, -5.5328, -5.5906, -5.7676, -5.6314, -5.6451, -5.7115, -5.7378, -4.8057, -3.1968, -3.2343, -4.9471, -5.2518, -4.8918, -5.2944, -5.4993, -4.9578, -5.2295, -5.6442, -5.6967, -5.5752, -5.0186, -5.6568, -5.6701, -6.0092, -5.7277, -5.9585, -5.9145, -5.8807, -6.0077, -5.8926, -6.118, -6.0382, -6.0722, -5.8837, -6.0116, -5.9857, -5.8249, -5.279, -5.6578, -4.5753, -4.5908, -4.8223, -5.012, -5.3533, -4.9889, -5.0605, -5.173, -5.252, -5.2619, -5.4453, -5.3263, -5.4507, -5.4871, -5.5178, -5.5134, -5.5051, -5.554, -5.5534, -3.9124, -3.9124, -3.9124, -3.9006, -3.9007, -4.579, -4.5807, -4.5809, -4.5809, -4.5818, -4.582, -4.5824, -4.5826, -4.5826, -4.5826, -4.5826, -4.5826, -4.5826, -4.5826, -4.5826, -4.5826, -4.5826, -4.5826, -4.5826, -4.5826, -4.5856, -4.5856, -4.5856, -4.5856, -4.5897, -3.6184, -4.5458, -4.5458, -4.579, -4.5259, -4.5558, -4.5786, -4.5799, -2.6811, -4.3661, -4.3765, -4.4654, -4.573, -4.5934, -4.8298, -4.8809, -4.8933, -4.975, -5.0819, -5.1638, -5.3279, -5.4221, -4.4282, -5.4346, -4.7413, -4.9495, -4.437, -5.2071, -5.3781, -5.6241, -4.1033, -4.9842, -5.7233, -5.5555, -5.8601, -5.4328, -5.4391, -5.5115, -5.0922, -4.6113, -4.6925, -4.6925, -4.6949, -4.7132, -4.7639, -4.7781, -4.3833, -4.7324, -4.4595, -4.7422, -4.6835, -4.9319, -4.9509, -4.9447, -1.7255, -2.1939, -2.4705, -2.5895, -2.9576, -2.6382, -2.8299, -2.2841, -2.8797, -3.8322, -4.1507, -4.9377, -5.3089, -5.3918, -5.702, -4.9995, -5.0162, -5.0194, -5.3775, -5.9007, -5.7064, -5.7064, -5.7838, -5.7154, -6.0121, -6.928, -6.6662, -7.6053, -6.2526, -7.5609, -6.5908, -0.6803, -7.6129, -7.6129, -7.6129, -7.6129, -7.6129, -7.6129, -7.6129, -7.6129, -7.6129, -7.6129, -7.6129, -7.6129, -7.6129, -7.6129, -7.6129, -7.6129, -7.6129, -7.6129, -7.6129, -7.6129, -7.6129, -7.6129, -7.6129, -7.6129, -7.6128, -7.6129, -7.6129, -7.6129, -7.6129, -7.6116, -7.6121, -7.6125, -7.6125, -7.6125, -7.6125, -7.6125, -7.6125, -7.6125, -7.6126, -7.6126, -7.6126, -7.6126, -7.6126, -7.6127, -7.6127, -7.6127, -7.6127, -7.6127, -7.6127, -7.6127, -7.6127, -7.6127, -7.6127, -7.6127, -7.6127, -7.6127, -7.6127, -7.6127, -6.9077, -6.9077, -6.9078, -6.9078, -6.9078, -6.9078, -6.9077, -6.9078, -6.9077, -6.9078, -6.9078, -6.9078, -6.9077, -6.9078, -6.9077, -6.9078, -6.9078, -6.9078, -6.9078, -6.9078, -6.9078, -6.9078, -6.9078, -6.9078, -6.9078, -6.9078, -6.9078, -6.9078, -6.9078, -6.9078, -6.9074, -6.9075, -6.9076, -6.9076, -6.9076, -6.9076, -6.9076, -6.9077, -6.9077, -6.9077, -6.9077, -6.9077, -6.9077, -6.9077, -6.9077, -6.9077, -6.9077, -6.9077, -6.9077, -6.9077, -6.9077, -6.9077, -6.9077, -6.9077, -6.9077, -6.9077, -6.9077, -6.9077, -6.9077, -6.9077, -6.9078, -6.9078, -6.9078, -6.9078, -6.9077, -6.9078, -6.9078, -6.9078, -6.9078, -6.9078, -6.9078, -6.9078, -6.9078, -6.9078, -6.9078, -6.9078, -6.9078, -6.9078, -6.9078, -6.9078, -6.9078, -6.9078, -6.9078, -6.9077, -6.9077, -6.9077, -6.9078, -6.9078, -6.9078, -6.9078, -6.9074, -6.9074, -6.9075, -6.9075, -6.9076, -6.9076, -6.9076, -6.9076, -6.9076, -6.9076, -6.9076, -6.9076, -6.9076, -6.9076, -6.9076, -6.9076, -6.9076, -6.9076, -6.9076, -6.9076, -6.9076, -6.9076, -6.9076, -6.9076, -6.9076, -6.9076, -6.9076, -6.9076, -6.9076, -6.9076, -6.9078, -6.9078, -6.9078, -6.9078, -6.9078, -6.9078, -6.9078, -6.9078, -6.9078, -6.9078, -6.9078, -6.9078, -6.9078, -6.9077, -6.9078, -6.9078, -6.9078, -6.9078, -6.9078, -6.9078, -6.9078, -6.9078, -6.9078, -6.9078, -6.9078, -6.9078, -6.9078, -6.9078, -6.9078, -6.9078, -6.9076, -6.9077, -6.9077, -6.9077, -6.9077, -6.9077, -6.9077, -6.9077, -6.9077, -6.9077, -6.9077, -6.9077, -6.9077, -6.9077, -6.9077, -6.9077, -6.9077, -6.9077, -6.9077, -6.9077, -6.9077, -6.9077, -6.9077, -6.9077, -6.9077, -6.9077, -6.9077, -6.9077, -6.9077, -6.9077, -6.9077, -6.9078, -6.9078, -6.9078, -6.9078, -6.9078, -6.9078, -6.9078, -6.9078, -6.9078, -6.9078, -6.9078, -6.9078, -6.9078, -6.9078, -6.9078, -6.9078, -6.9078, -6.9078, -6.9078, -6.9078, -6.9078, -6.9078, -6.9078, -6.9077, -6.9078, -6.9078, -6.9078, -6.9078, -6.9078, -6.9061, -6.9063, -6.907, -6.907, -6.9071, -6.9071, -6.9071, -6.9072, -6.9073, -6.9073, -6.9074, -6.9074, -6.9074, -6.9074, -6.9074, -6.9074, -6.9074, -6.9074, -6.9074, -6.9074, -6.9075, -6.9075, -6.9075, -6.9075, -6.9075, -6.9075, -6.9075, -6.9075, -6.9075, -6.9075, -6.9078, -6.9078, -6.9078, -6.9077, -6.9078, -6.9078, -6.9078, -6.9078, -6.9078, -6.9078, -6.9078, -6.9078, -6.9078, -6.9078, -6.9078, -6.9078, -6.9078, -6.9078, -6.9078, -6.9078, -6.9078, -6.9078, -6.9078, -6.9078, -6.9078, -6.9078, -6.9078, -6.9078, -6.9078, -6.9078, -6.9075, -6.9076, -6.9077, -6.9077, -6.9077, -6.9077, -6.9077, -6.9077, -6.9077, -6.9077, -6.9077, -6.9077, -6.9077, -6.9077, -6.9077, -6.9077, -6.9077, -6.9077, -6.9077, -6.9077, -6.9077, -6.9077, -6.9077, -6.9077, -6.9077, -6.9077, -6.9077, -6.9077, -6.9077, -6.9077, -6.9078, -6.9077, -6.9078, -6.9078, -6.9077, -6.9078, -6.9077, -6.9077, -6.9077, -6.9078, -6.9078, -6.9078, -6.9077, -6.9078, -6.9078, -6.9078, -6.9078, -6.9078, -6.9077, -6.9078, -6.9078, -6.9078, -6.9078, -6.9077, -6.9078, -6.9077, -6.9078, -6.9077, -6.9077, -6.9078, -6.9074, -6.9075, -6.9076, -6.9076, -6.9076, -6.9076, -6.9076, -6.9076, -6.9076, -6.9077, -6.9077, -6.9077, -6.9077, -6.9077, -6.9077, -6.9077, -6.9077, -6.9077, -6.9077, -6.9077, -6.9077, -6.9077, -6.9077, -6.9077, -6.9077, -6.9077, -6.9077, -6.9077, -6.9077, -6.9078, -6.9078, -6.9078, -6.9078, -6.9078, -6.9078, -6.9078, -6.9077, -6.9078, -6.9078, -6.9078, -6.9078, -6.9078, -6.9078, -6.9078, -6.9078, -6.9078, -6.9078, -6.9078, -6.9078, -6.9078, -6.9078, -6.9078, -6.9078, -6.9077, -6.9078, -6.9078, -6.9078, -6.9078, -6.9078, -6.9076, -6.9076, -6.9076, -6.9076, -6.9076, -6.9077, -6.9077, -6.9077, -6.9077, -6.9077, -6.9077, -6.9077, -6.9077, -6.9077, -6.9077, -6.9077, -6.9077, -6.9077, -6.9077, -6.9077, -6.9077, -6.9077, -6.9077, -6.9077, -6.9077, -6.9077, -6.9077, -6.9077, -6.9077, -6.9077, -6.9077, -6.9077, -6.9078, -6.9078, -6.9077, -6.9078, -6.9077, -6.9078, -6.9077, -6.9078, -6.9078, -6.9078, -6.9078, -6.9077, -6.9077, -6.9077, -6.9078, -6.9078, -6.9077, -6.9078, -6.9078, -6.9078, -6.9078, -6.9077, -6.9078, -6.9077, -6.9078, -6.9078, -6.9078, -6.9078, -6.9075, -6.9076, -6.9076, -6.9076, -6.9076, -6.9077, -6.9077, -6.9077, -6.9077, -6.9077, -6.9077, -6.9077, -6.9077, -6.9077, -6.9077, -6.9077, -6.9077, -6.9077, -6.9077, -6.9077, -6.9077, -6.9077, -6.9077, -6.9077, -6.9077, -6.9077, -6.9077, -6.9077, -6.9077, -6.9077, -6.9078, -6.9078, -6.9077, -6.9077, -6.9077, -6.9077, -6.9077, -6.9078, -6.9077, -6.9078, -6.9078, -6.9078, -6.9078, -6.9077, -6.9078, -6.9077, -6.9077, -6.9077, -6.9078, -6.9078, -6.9078, -6.9077, -6.9078, -6.9077, -6.9078, -6.9078, -6.9078, -6.9078, -6.9075, -6.9076, -6.9076, -6.9076, -6.9076, -6.9077, -6.9077, -6.9077, -6.9077, -6.9077, -6.9077, -6.9077, -6.9077, -6.9077, -6.9077, -6.9077, -6.9077, -6.9077, -6.9077, -6.9077, -6.9077, -6.9077, -6.9077, -6.9077, -6.9077, -6.9077, -6.9077, -6.9077, -6.9077, -6.9077, -6.9078, -6.9078, -6.9078, -6.9078, -6.9078, -6.9078, -6.9078, -6.9078, -6.9078, -6.9078, -6.9078, -6.9078, -6.9078, -6.9078, -6.9078, -6.9078, -6.9078, -6.9078, -6.9078, -6.9077, -6.9078, -6.9078, -6.9078, -6.9078, -6.9078, -6.9078, -6.9078, -6.9078, -6.9078, -6.9078, -6.9075, -6.9076, -6.9076, -6.9076, -6.9076, -6.9076, -6.9077, -6.9077, -6.9077, -6.9077, -6.9077, -6.9077, -6.9077, -6.9077, -6.9077, -6.9077, -6.9077, -6.9077, -6.9077, -6.9077, -6.9077, -6.9077, -6.9077, -6.9077, -6.9077, -6.9077, -6.9077, -6.9077, -6.9077, -6.9077, -6.9078, -6.9078, -6.9078, -6.9078, -6.9078, -6.9078, -6.9078, -6.9078, -6.9078, -6.9078, -6.9078, -6.9078, -6.9078, -6.9078, -6.9078, -6.9078, -6.9078, -6.9078, -6.9078, -6.9078, -6.9078, -6.9078, -6.9078, -6.9078, -6.9078, -6.9078, -6.9078, -6.9078, -6.9078, -6.9078, -6.9073, -6.9075, -6.9076, -6.9076, -6.9076, -6.9076, -6.9076, -6.9076, -6.9076, -6.9077, -6.9077, -6.9077, -6.9077, -6.9077, -6.9077, -6.9077, -6.9077, -6.9077, -6.9077, -6.9077, -6.9077, -6.9077, -6.9077, -6.9077, -6.9077, -6.9077, -6.9077, -6.9077, -6.9077, -6.9077, -6.9078, -6.9078, -6.9078, -6.9078, -6.9078, -6.9078, -6.9078, -6.9078, -6.9077, -6.9078, -6.9078, -6.9077, -6.9078, -6.9078, -6.9078, -6.9078, -6.9078, -6.9078, -6.9078, -6.9078, -6.9078, -6.9078, -6.9078, -6.9078, -6.9077, -6.9078, -6.9078, -6.9078, -6.9078, -6.9077, -6.9076, -6.9076, -6.9076, -6.9077, -6.9077, -6.9077, -6.9077, -6.9077, -6.9077, -6.9077, -6.9077, -6.9077, -6.9077, -6.9077, -6.9077, -6.9077, -6.9077, -6.9077, -6.9077, -6.9077, -6.9077, -6.9077, -6.9077, -6.9077, -6.9077, -6.9077, -6.9077, -6.9077, -6.9077, -6.9077, -6.9078, -6.9078, -6.9078, -6.9078, -6.9078, -6.9078, -6.9078, -6.9078, -6.9078, -6.9078, -6.9078, -6.9078, -6.9078, -6.9078, -6.9078, -6.9077, -6.9078, -6.9078, -6.9078, -6.9078, -6.9078, -6.9078, -6.9078, -6.9078, -6.9077, -6.9078, -6.9078, -6.9078, -6.9078, -6.9078, -6.9076, -6.9076, -6.9076, -6.9077, -6.9077, -6.9077, -6.9077, -6.9077, -6.9077, -6.9077, -6.9077, -6.9077, -6.9077, -6.9077, -6.9077, -6.9077, -6.9077, -6.9077, -6.9077, -6.9077, -6.9077, -6.9077, -6.9077, -6.9077, -6.9077, -6.9077, -6.9077, -6.9077, -6.9077, -6.9077, -6.9078, -6.9078, -6.9078, -6.9078, -6.9078, -6.9078, -6.9078, -6.9078, -6.9078, -6.9078, -6.9078, -6.9078, -6.9078, -6.9078, -6.9078, -6.9078, -6.9078, -6.9078, -6.9078, -6.9078, -6.9078, -6.9078, -6.9078, -6.9078, -6.9078, -6.9077, -6.9078, -6.9078, -6.9078, -6.9078, -6.9075, -6.9076, -6.9077, -6.9077, -6.9077, -6.9077, -6.9077, -6.9077, -6.9077, -6.9077, -6.9077, -6.9077, -6.9077, -6.9077, -6.9077, -6.9077, -6.9077, -6.9077, -6.9077, -6.9077, -6.9077, -6.9077, -6.9077, -6.9077, -6.9077, -6.9077, -6.9077, -6.9077, -6.9077, -6.9077]}, \"token.table\": {\"Topic\": [1, 2, 1, 2, 5, 1, 2, 1, 2, 1, 2, 3, 1, 2, 1, 2, 1, 2, 4, 1, 2, 1, 2, 1, 2, 4, 3, 3, 3, 3, 1, 2, 4, 1, 2, 4, 1, 2, 1, 1, 2, 1, 3, 3, 1, 2, 1, 2, 4, 1, 2, 4, 1, 2, 4, 1, 2, 4, 1, 4, 1, 2, 3, 4, 1, 2, 4, 1, 2, 4, 1, 2, 4, 1, 2, 1, 2, 1, 2, 3, 4, 1, 2, 1, 3, 1, 2, 4, 1, 2, 1, 2, 4, 5, 1, 2, 4, 1, 2, 4, 5, 1, 2, 1, 2, 1, 2, 4, 1, 2, 1, 2, 1, 1, 2, 1, 2, 5, 3, 3, 1, 2, 1, 2, 1, 2, 4, 4, 1, 2, 1, 2, 1, 2, 1, 2, 4, 1, 2, 1, 2, 4, 5, 1, 2, 4, 4, 1, 2, 3, 4, 1, 2, 4, 1, 2, 4, 3, 3, 1, 4, 5, 1, 5, 1, 2, 1, 2, 1, 2, 4, 1, 2, 4, 1, 2, 4, 1, 2, 4, 1, 2, 1, 2, 1, 2, 1, 2, 4, 6, 1, 2, 3, 4, 1, 1, 2, 3, 1, 2, 4, 1, 2, 4, 1, 2, 3, 4, 5, 1, 2, 4, 5, 1, 1, 2, 4, 1, 2, 1, 2, 1, 2, 1, 2, 4, 1, 2, 3, 5, 4, 4, 4, 4, 1, 2, 3, 4, 1, 2, 4, 1, 2, 3, 4, 1, 2, 4, 1, 2, 3, 4, 1, 2, 4, 1, 2, 1, 2, 1, 2, 2, 1, 2, 3, 1, 2, 1, 2, 1, 1, 1, 1, 1, 1, 1, 1, 1, 2, 1, 2, 1, 2, 1, 2, 1, 2, 3, 4, 2, 1, 2, 1, 2, 1, 2, 3, 1, 2, 2, 3, 2, 3, 3, 1, 2, 3, 1, 2, 3, 3, 1, 2, 1, 2, 3, 4, 1, 1, 2, 1, 2, 4, 1, 2, 1, 2, 4, 1, 2, 4, 1, 1, 2, 3, 4, 1, 2, 3, 4, 1, 2, 4, 1, 2, 4, 1, 2, 4, 1, 2, 4, 3, 1, 1, 2, 3, 1, 2, 4, 5, 1, 2, 4, 5, 1, 2, 4, 1, 2, 5, 1, 2, 4, 4, 1, 2, 4, 1, 2, 1, 2, 4, 1, 2, 3, 5, 1, 4, 5, 1, 4, 1, 2, 4, 1, 2, 4, 1, 2, 1, 2, 4, 1, 2, 4, 1, 2, 1, 1, 4, 1, 2, 1, 2, 1, 4, 3, 3, 3, 1, 2, 3, 4, 3, 3, 3, 3, 1, 2, 1, 2, 3, 4, 1, 2, 4, 1, 2, 1, 2, 4, 5, 1, 2, 5, 1, 2, 3, 4, 1, 1, 2, 1, 2, 4, 1, 4, 1, 2, 4, 1, 2, 4, 1, 2, 1, 2, 3, 3, 1, 2, 4, 1, 2, 3, 3, 3, 3, 3, 1, 2, 3, 1, 2, 1, 2, 4, 1, 2, 4, 1, 2, 4, 1, 2, 4, 4, 3, 3, 1, 2, 1, 2, 1, 2, 4, 3, 4, 3, 3, 1, 2, 4, 5, 1, 2, 4, 1, 2, 4, 1, 2, 4, 1, 2, 3, 4, 1, 2, 4, 1, 2, 4, 1, 2, 1, 2, 1, 1, 2, 3, 4, 1, 2, 4, 1, 2, 1, 2, 3, 3, 1, 2, 3, 1, 1, 1, 1, 2, 1, 1, 1, 1, 1, 1, 2, 1, 2, 1, 2, 4, 1, 2, 3, 4, 1, 2, 4, 5, 1, 2, 3, 1, 2, 3, 1, 2, 3, 1, 5, 5, 1, 2, 1, 2, 5, 5, 1, 2, 1, 2, 4, 1, 2, 1, 2, 4, 1, 1, 2, 4, 1, 2, 1, 2, 4, 1, 2, 4, 4, 1, 4, 1, 2, 4, 1, 2, 4, 1, 4, 1, 2, 3, 4, 1, 2, 4, 1, 2, 3, 4, 1, 2, 4, 3, 1, 2, 4, 1, 2, 1, 1, 2, 1, 2, 1, 2, 1, 2, 1, 2, 4, 1, 2, 4, 3, 1, 2, 4, 5, 1, 2, 4, 5, 1, 2, 4, 5, 1, 2, 1, 2, 5, 1, 2, 1, 2, 1, 2, 4, 1, 2, 1, 2, 3, 4, 3, 3, 1, 2, 4, 5, 1, 2, 3, 4, 1, 2, 5, 1, 2, 4, 1, 1, 2, 3, 4, 1, 2, 1, 1, 2, 1, 2, 1, 2, 4, 1, 2, 1, 2, 1, 2, 4, 1, 2, 1, 1, 2, 4, 1, 2, 1, 2, 3, 4, 1, 2, 3, 3, 3, 1, 2, 4, 1, 2, 4, 1, 2], \"Freq\": [0.7234746556822101, 0.19292657484858936, 0.7389386037707206, 0.12667518921783782, 0.021112531536306305, 0.5918933835760886, 0.2841088241165225, 0.6702278766324614, 0.30413701964834383, 0.6682831934562191, 0.30016109536592894, 0.8929653963496318, 0.8146784042491261, 0.07758841945229772, 0.6452908699663096, 0.26887119581929564, 0.6622438188953506, 0.21673434072938744, 0.060203983535940954, 0.6828297208543, 0.19509420595837146, 0.18953097427866578, 0.7462782112222465, 0.751983297688942, 0.17569703217031357, 0.04216728772087525, 0.8915831904661343, 0.8924562366009564, 0.891466083199245, 0.8929653950765192, 0.6546558173537207, 0.2310549943601367, 0.06739104002170654, 0.6404203185257993, 0.1867892595700248, 0.05336835987714994, 0.12603350162323812, 0.7772065933433017, 0.9460999741582348, 0.020650910939009146, 0.8673382594383842, 0.020837943427917904, 0.875193623972552, 0.8929652300405619, 0.9485758673133813, 0.008545728534354787, 0.7039494409765272, 0.16647452996066522, 0.09988471797639913, 0.6873529383229864, 0.19638655380656753, 0.03273109230109459, 0.5769504499753755, 0.17094828147418534, 0.1923168166584585, 0.6899070517047459, 0.20959201570777092, 0.07423050556316886, 0.22371378796955554, 0.5369130911269333, 0.696049117952247, 0.23396609006798216, 0.03509491351019733, 0.8561719550354938, 0.663502487058815, 0.25941450621848405, 0.049887405042016164, 0.7192996120665658, 0.21578988361996973, 0.035964980603328284, 0.701123646938804, 0.1078651764521237, 0.05393258822606185, 0.7365453152653131, 0.15164168255462326, 0.8449544315612197, 0.06627093580872312, 0.7106557124943967, 0.23847507130684453, 0.03815601140909513, 0.8777556505806212, 0.02722542051899586, 0.8439880360888716, 0.020976167606737595, 0.880999039482979, 0.7428595277810124, 0.20666016938268766, 0.02234163993326353, 0.6325605692194117, 0.25302422768776467, 0.6264199661297705, 0.2197964793437791, 0.1208880636390785, 0.0054949119835944775, 0.5495254161419113, 0.20245673226280944, 0.11568956129303395, 0.617214261538962, 0.20941198159357638, 0.09919514917590459, 0.022043366483534353, 0.6942895417247965, 0.23142984724159885, 0.6238843247929796, 0.27524308446749096, 0.2794377117307831, 0.13971885586539154, 0.44244304357373987, 0.6845193501556278, 0.22817311671854262, 0.7846506299588771, 0.19326370196031456, 0.9272193166712813, 0.8203207771686807, 0.07630890950406331, 0.4362900656797019, 0.1539847290634242, 0.2823053366162777, 0.8929651776463444, 0.8929652546221222, 0.7822741024522847, 0.15843526125615892, 0.8994389891930719, 0.05850009685808597, 0.7183954346782426, 0.1847302546315481, 0.8307082856610132, 0.7721806369399971, 0.848761859887054, 0.11518910955610019, 0.7787256255255512, 0.0973407031906939, 0.7233242401015456, 0.129165042875276, 0.26403979098756025, 0.037719970141080035, 0.5280795819751205, 0.8070409656674802, 0.11529156652392575, 0.257885990622116, 0.01719239937480773, 0.06017339781182706, 0.6103301778056744, 0.3586192127513531, 0.27892605436216356, 0.15938631677837917, 0.8718155429982994, 0.5020854172182888, 0.20674105414870717, 0.0886033089208745, 0.059068872613916336, 0.5772374407477036, 0.2960192003834377, 0.04440288005751566, 0.5698043807121388, 0.29989704248007304, 0.04498455637201096, 0.8929652191753821, 0.8929650670494579, 0.19794742230790324, 0.03299123705131721, 0.6763203595520028, 0.06680030656385565, 0.8350038320481955, 0.9429252082308878, 0.00924436478657733, 0.686083937391819, 0.2803995222383956, 0.5527980342789532, 0.19900729234042316, 0.13267152822694878, 0.20962728940599762, 0.11287623275707565, 0.5966315160016855, 0.12042318457477011, 0.060211592287385055, 0.5419043305864655, 0.5657901012724034, 0.2121712879771513, 0.12376658465333824, 0.19704895612955886, 0.706092092797586, 0.6329828232504546, 0.2109942744168182, 0.5358517335562136, 0.37824828251026843, 0.22054215648681574, 0.07351405216227191, 0.4778413390547674, 0.9741341796767978, 0.680298598719682, 0.21496424123112629, 0.05057982146614736, 0.04046385717291789, 0.9549120490024318, 0.017396021350864065, 0.8871970888940672, 0.8927987572495548, 0.6276892849345834, 0.21727706016966347, 0.10461488082243056, 0.3847963402264904, 0.08551029782810898, 0.34204119131243593, 0.6943903078253147, 0.2338620207701837, 0.007195754485236422, 0.04317452691141853, 0.003597877242618211, 0.37431924798349964, 0.147053990279232, 0.37431924798349964, 0.026737089141678546, 0.9364843611298239, 0.6613383486279826, 0.22846233861693943, 0.04809733444567146, 0.6986358523459242, 0.18630289395891314, 0.7879999471312215, 0.1407142762734324, 0.7071894630302705, 0.14733113813130636, 0.9323764211111544, 0.029532284831575023, 0.016875591332328584, 0.3012672310507723, 0.1622208167196466, 0.2780928286622513, 0.11587201194260473, 0.9737485430473626, 0.8298537714598653, 0.8041837644749393, 0.7347422808050277, 0.7448654710929756, 0.20793064387401086, 0.005264066933519262, 0.028952368134355942, 0.7285440042923447, 0.21927052556371537, 0.0141464855202397, 0.03955187793625843, 0.9228771518460301, 0.015067382070955593, 0.013183959312086144, 0.02828576706723587, 0.8202872449498402, 0.02828576706723587, 0.05029062028422587, 0.779504614405501, 0.025145310142112937, 0.025145310142112937, 0.020772366363999158, 0.9139841200159629, 0.010386183181999579, 0.026116597262575127, 0.835731112402404, 0.048328665720466873, 0.8989131824006839, 0.027493166214130303, 0.8247949864239091, 0.8628123724644965, 0.02607889748666565, 0.7823669245999694, 0.02607889748666565, 0.019959076997594083, 0.8781993878941395, 0.9934948929588803, 0.001683889649082848, 0.9738740049842382, 0.8912950377580827, 0.9503103031743289, 0.9516957016034174, 0.9647514554489462, 0.9418220073748234, 0.9346531468038412, 0.9358334007648726, 0.670185483016733, 0.24767724372357522, 0.5297486558410378, 0.327939644092071, 0.06056662165312311, 0.8782160139702851, 0.04804540947076887, 0.8167719610030708, 0.02981578360194818, 0.9485146158369765, 0.005590459425365284, 0.007453945900487045, 0.9503022315951849, 0.029964199925870644, 0.8090333979985074, 0.03657378833850522, 0.8594840259548727, 0.046788544553991875, 0.8187995296948578, 0.023394272276995937, 0.014359489535244673, 0.8902883511851697, 0.02026485723785852, 0.8713888612279163, 0.020264852131645025, 0.871388641660736, 0.8844846501174178, 0.018809198462174645, 0.056427595386523935, 0.8276047323356843, 0.01953499968530519, 0.03906999937061038, 0.840004986468123, 0.8746016941521121, 0.9606735350243911, 0.006197893774350911, 0.7195894987749641, 0.19850744793792116, 0.018610073244180108, 0.05583021973254033, 0.9608047304505658, 0.039858925037643836, 0.8569668883093425, 0.4005312768550899, 0.2548835398168754, 0.14564773703821451, 0.6548816705493228, 0.2015020524767147, 0.6865662693679232, 0.17910424418293647, 0.11513844268903059, 0.7714474855733195, 0.17303495003513708, 0.014419579169594757, 0.941695803165049, 0.027977781218294348, 0.013988890609147174, 0.4616333901018568, 0.4336556088835624, 0.19335428742598978, 0.048338571856497446, 0.09667714371299489, 0.43504714670847705, 0.7487864277656344, 0.19737884915997897, 0.0454284652828523, 0.18986993940572525, 0.08137283117388225, 0.5967340952751364, 0.763652229540207, 0.11107668793312102, 0.05553834396656051, 0.7097187046552074, 0.18315321410456964, 0.06105107136818989, 0.8771827915775708, 0.8609408930497772, 0.5526741139546828, 0.25330896889589627, 0.09211235232578047, 0.5509274625693228, 0.25360153038905336, 0.13991808573189152, 0.01748976071648644, 0.38103773442193156, 0.15241509376877263, 0.330232703165674, 0.06350628907032192, 0.38723599309497064, 0.08605244290999348, 0.30118355018497717, 0.3659851267091712, 0.014076351027275816, 0.5489776900637569, 0.4144781299442246, 0.2072390649721123, 0.2532921905214706, 0.7842680347395486, 0.7332419054694297, 0.21691739703470628, 0.03666209527347148, 0.5402780501394265, 0.35325872509116346, 0.7917242434373339, 0.03045093243989746, 0.8440299816222983, 0.636112371740112, 0.28515382181453297, 0.010967454685174346, 0.010967454685174346, 0.40508472193776757, 0.11914256527581399, 0.35742769582744194, 0.24003099128863067, 0.582932407415246, 0.05349745929117149, 0.16049237787351447, 0.5349745929117149, 0.20461897794161502, 0.10230948897080751, 0.5371248170967394, 0.7360875993507906, 0.15915407553530608, 0.599230337126254, 0.2591266322708125, 0.04858624355077735, 0.3969248251215919, 0.2778473775851143, 0.15876993004863674, 0.13888628768122763, 0.740726867633214, 0.9317056342780213, 0.8311527749693906, 0.04492717702537247, 0.6992424760545826, 0.21754210366142568, 0.8189208324734412, 0.04963156560445098, 0.4316641766317226, 0.34533134130537807, 0.8929652405544716, 0.8929650709811834, 0.892965220830539, 0.07652540841847681, 0.041741131864623714, 0.7582972288739975, 0.08348226372924743, 0.8900732220551673, 0.8771827253592644, 0.9329450145153392, 0.8746017395704366, 0.7631249837634528, 0.16958332972521176, 0.7756699037621152, 0.08024171418228777, 0.8213698862909743, 0.06318229894545956, 0.38069616016568714, 0.09517404004142178, 0.28552212012426537, 0.0836754336659092, 0.8576731950755692, 0.644290424747132, 0.23194455290896757, 0.02326134372244113, 0.8374083740078808, 0.6217827473932581, 0.19985874023354724, 0.06661958007784909, 0.6572267543699466, 0.21338530986037227, 0.00853541239441489, 0.07681871154973402, 0.9624560700356164, 0.027739490739466563, 0.9015334490326632, 0.44380737169402545, 0.22190368584701273, 0.14793579056467515, 0.15299894403290049, 0.560996128120635, 0.6454365227606496, 0.13795589799464267, 0.19215285792110942, 0.28716170085086506, 0.07179042521271627, 0.46663776388265577, 0.5438874029636223, 0.3508950986862079, 0.827298954002062, 0.025853092312564437, 0.8771829144310312, 0.8771830507479772, 0.6887850494109923, 0.1878504680211797, 0.04696261700529492, 0.011034838017490067, 0.022069676034980133, 0.9048567174341854, 0.8746016923574852, 0.8746017248693168, 0.8922909689164445, 0.8953578019897696, 0.6659712879219236, 0.22199042930730786, 0.057910546775819444, 0.5274226510396799, 0.3516151006931199, 0.39577233254200006, 0.11873169976260002, 0.27704063277940005, 0.6085326262281568, 0.29852543928173736, 0.03444524299404662, 0.6812920566978115, 0.15384014183498967, 0.04395432623856848, 0.14743996588542624, 0.07371998294271312, 0.6819098422200964, 0.8717690396413129, 0.8953576948853871, 0.8746016431654964, 0.6932242961010903, 0.22529789623285434, 0.7000779709268351, 0.19093035570731867, 0.3573461545377526, 0.16492899440203965, 0.3573461545377526, 0.802783286158079, 0.08233674729826451, 0.8929651836491329, 0.8929651414070007, 0.7094503141494382, 0.231342493744382, 0.015422832916292135, 0.9142399050671127, 0.6722962398937634, 0.09604231998482335, 0.06402821332321557, 0.6111429547461393, 0.2115494843352021, 0.0235054982594669, 0.5499348001916515, 0.26301229574383334, 0.07173062611195455, 0.3200738633568557, 0.04267651511424743, 0.032007386335685575, 0.5441255677066548, 0.34082900587258275, 0.2556217544044371, 0.2982253801385099, 0.8858518483000865, 0.017035612467309356, 0.7795180340820441, 0.727417677699075, 0.242472559233025, 0.5127950988097568, 0.3845963241073176, 0.8872196705193959, 0.1358676606196265, 0.09057844041308433, 0.04528922020654216, 0.6114044727883192, 0.24688547556950913, 0.08229515852316971, 0.4526233718774334, 0.6696055996589475, 0.28236380708509834, 0.8132967179856412, 0.15685008132580222, 0.8953577920024907, 0.8953577593275955, 0.9917690173742485, 0.0019523012153036387, 0.0009761506076518193, 0.9392757750229769, 0.9705066467130351, 0.9352159998130446, 0.9751822714452263, 0.0040974045018706984, 0.9435866159463139, 0.9327278425034198, 0.9126799062101686, 0.9505097859723495, 0.8846010463095686, 0.8042906305756466, 0.11698772808373042, 0.6339130507392523, 0.31695652536962615, 0.468236454664616, 0.3219125625819235, 0.058529556833077, 0.7880327885445145, 0.1292866293705844, 0.01231301232100804, 0.03693903696302412, 0.6261958893496078, 0.17661935340629964, 0.048168914565354444, 0.048168914565354444, 0.6296960992000671, 0.17991317120001918, 0.06746743920000718, 0.6390664896311011, 0.14201477547357802, 0.09467651698238536, 0.6296465080008791, 0.13117635583351647, 0.10494108466681318, 0.022512876348741433, 0.9380365145308931, 0.9130017033562419, 0.7881938692101997, 0.15293313880197906, 0.8105212398869215, 0.02251447888574782, 0.04502895777149564, 0.9339804000999804, 0.7022381972268091, 0.21944943663337788, 0.7767222461422226, 0.1657440776286751, 0.03899860650086473, 0.039463232876729704, 0.8484595068496887, 0.5362056049181296, 0.14298816131150124, 0.14298816131150124, 0.9543409857074292, 0.37376443772203455, 0.15390300376789656, 0.32979215093120695, 0.6589563451401317, 0.22651624364192025, 0.11964687389236754, 0.07976458259491169, 0.5583520781643818, 0.8673277967256328, 0.020899464981340547, 0.06269839494402164, 0.7350400417813585, 0.42535430902337173, 0.34801716192821325, 0.39636229190155114, 0.10809880688224122, 0.28826348501930993, 0.4865851574668923, 0.149718509989813, 0.149718509989813, 0.09608143238511667, 0.6725700266958167, 0.714226661853489, 0.1573719763405993, 0.01614071552211275, 0.08877393537162011, 0.7484569428979617, 0.17010385065862768, 0.04252596266465692, 0.6178250090223047, 0.18171323794773667, 0.057109874783574384, 0.11421974956714877, 0.7529047331853319, 0.21164603098758178, 0.02081764239222116, 0.8916040199077814, 0.7259066222211226, 0.21117283555523567, 0.019797453333303343, 0.763035668760742, 0.1405592021401367, 0.95136676171077, 0.024933364343984354, 0.847734387695468, 0.5884311329013263, 0.3043609308110309, 0.7615878132213914, 0.1366952485269164, 0.6971789354051594, 0.19919398154433127, 0.7113244560697694, 0.21170370716362183, 0.03387259314617949, 0.46001379739482456, 0.19167241558117692, 0.15333793246494154, 0.8929652734856572, 0.3736223676748481, 0.14944894706993922, 0.3487142098298582, 0.062270394612474675, 0.38217866342211626, 0.15287146536884652, 0.35670008586064184, 0.025478577561474418, 0.37431941719671774, 0.1470540567558534, 0.37431941719671774, 0.02673710122833698, 0.7735506080844085, 0.19645729729127834, 0.5634686671869704, 0.23477861132790434, 0.0704335833983713, 0.606281654238927, 0.36131936969794637, 0.8495205683880936, 0.07722914258073578, 0.5314641183089911, 0.22882482871637116, 0.19929904436587165, 0.8241720729786952, 0.07924731470948992, 0.7474963253746701, 0.12218689934009032, 0.04312478800238482, 0.057499717336513094, 0.8746015998466408, 0.8746018615264012, 0.3884358820631866, 0.1503622769276851, 0.32578493334331776, 0.0626509487198688, 0.6876497552079307, 0.22921658506931025, 0.034729785616562155, 0.013891914246624863, 0.7097150274460283, 0.0851658032935234, 0.05677720219568227, 0.46018931482702913, 0.12389712322266169, 0.3185926025725586, 0.8595612651571334, 0.6638063168776505, 0.2155215314537826, 0.06034602880705913, 0.01724172251630261, 0.04804912226128056, 0.8408596395724098, 0.9333878996769109, 0.7530332017255509, 0.21515234335015737, 0.03971738003355339, 0.8870214874160258, 0.7325663048994338, 0.22892697028107306, 0.021131720333637513, 0.7148629070490503, 0.23828763568301678, 0.6344416013287651, 0.2870092958392033, 0.7278752387115542, 0.2406918120042191, 0.01739940809669054, 0.680636746523191, 0.21123209374857652, 0.9589282019626756, 0.04156440283208932, 0.8520702580578311, 0.02078220141604466, 0.9352723787731894, 0.017004952341330717, 0.6627585767845803, 0.2120827445710657, 0.05302068614276643, 0.026510343071383214, 0.011034353182863825, 0.02206870636572765, 0.9048169609948337, 0.9329448251671141, 0.9329448888917891, 0.7044246476083004, 0.2401447662301024, 0.016009651082006825, 0.7380580859611946, 0.22097547483868102, 0.01767803798709448, 0.6928672149678285, 0.24038250315210377], \"Term\": [\"10\", \"10\", \"12\", \"12\", \"12\", \"20\", \"20\", \"able\", \"able\", \"able to\", \"able to\", \"access to business\", \"active\", \"active\", \"additional\", \"additional\", \"after\", \"after\", \"after\", \"already\", \"already\", \"am\", \"am\", \"an\", \"an\", \"an\", \"and access\", \"and access to\", \"and educational\", \"and educational programs\", \"and has\", \"and has\", \"and has\", \"and has children\", \"and has children\", \"and has children\", \"and he\", \"and he\", \"and her\", \"and his\", \"and his\", \"and our\", \"and our\", \"and our services\", \"and she\", \"and she\", \"are\", \"are\", \"are\", \"are in\", \"are in\", \"are in\", \"area\", \"area\", \"area\", \"as\", \"as\", \"as\", \"association\", \"association\", \"at\", \"at\", \"at\", \"baba\", \"be\", \"be\", \"be\", \"been\", \"been\", \"been\", \"believes\", \"believes\", \"believes\", \"born\", \"born\", \"br\", \"br\", \"business\", \"business\", \"business\", \"business description\", \"business he\", \"business he\", \"business training and\", \"business training and\", \"buy\", \"buy\", \"buy\", \"buying\", \"buying\", \"by\", \"by\", \"by\", \"by\", \"by the\", \"by the\", \"by the\", \"capital\", \"capital\", \"capital\", \"capital\", \"care\", \"care\", \"care of\", \"care of\", \"cement\", \"cement\", \"cement\", \"child\", \"child\", \"children\", \"children\", \"children she\", \"church\", \"church\", \"class\", \"class\", \"class\", \"clients microinsurance\", \"clients microinsurance and\", \"clothes\", \"clothes\", \"clothing\", \"clothing\", \"college\", \"college\", \"communal\", \"communal bank\", \"community\", \"community\", \"cow\", \"cow\", \"cows\", \"cows\", \"crops\", \"crops\", \"crops\", \"dairy\", \"dairy\", \"de\", \"de\", \"de\", \"de\", \"default\", \"default\", \"default\", \"description\", \"does not\", \"does not\", \"does not\", \"does not\", \"due\", \"due\", \"due\", \"due to\", \"due to\", \"due to\", \"educational programs\", \"educational programs for\", \"el\", \"el\", \"el\", \"en\", \"en\", \"esperanza\", \"esperanza\", \"family\", \"family\", \"farm\", \"farm\", \"farm\", \"farmers\", \"farmers\", \"farmers\", \"farmers in\", \"farmers in\", \"farmers in\", \"farming\", \"farming\", \"farming\", \"father\", \"father\", \"feed\", \"feed\", \"fees\", \"fees\", \"finance\", \"finance\", \"finance\", \"font\", \"for\", \"for\", \"for\", \"for\", \"for her\", \"for his\", \"for his\", \"for more information\", \"for the\", \"for the\", \"for the\", \"form\", \"form\", \"form\", \"from\", \"from\", \"from\", \"from\", \"from\", \"from by\", \"from by\", \"from by\", \"from by\", \"from her\", \"from the\", \"from the\", \"from the\", \"fruits\", \"fruits\", \"get\", \"get\", \"got\", \"got\", \"group\", \"group\", \"group\", \"guayaquil\", \"guayaquil\", \"guayaquil\", \"guayaquil\", \"h4\", \"h4 loan\", \"h4 loan use\", \"h4 the\", \"has\", \"has\", \"has\", \"has\", \"has been\", \"has been\", \"has been\", \"he\", \"he\", \"he\", \"he\", \"he also\", \"he also\", \"he also\", \"he can\", \"he can\", \"he can\", \"he can\", \"he has\", \"he has\", \"he has\", \"he has been\", \"he has been\", \"he is\", \"he is\", \"he sells\", \"he sells\", \"he started\", \"he was\", \"he was\", \"he was\", \"he will\", \"he will\", \"her\", \"her\", \"her business\", \"her business she\", \"her children\", \"her family\", \"her husband\", \"her loan\", \"her own\", \"her to\", \"high\", \"high\", \"higher\", \"higher\", \"him\", \"him\", \"him to\", \"him to\", \"his\", \"his\", \"his\", \"his\", \"his business\", \"his children\", \"his children\", \"his family\", \"his family\", \"his own\", \"his own\", \"his own\", \"his wife\", \"his wife\", \"href\", \"href\", \"href http\", \"href http\", \"href http www\", \"http\", \"http\", \"http\", \"http www\", \"http www\", \"http www\", \"http www mifex\", \"husband\", \"husband\", \"in\", \"in\", \"in\", \"in\", \"in her\", \"in his\", \"in his\", \"in many\", \"in many\", \"in many\", \"in primary\", \"in primary\", \"in the\", \"in the\", \"in the\", \"income\", \"income\", \"income\", \"increase her\", \"information\", \"information\", \"information\", \"information\", \"investments\", \"investments\", \"investments\", \"investments\", \"is\", \"is\", \"is\", \"is made\", \"is made\", \"is made\", \"is very\", \"is very\", \"is very\", \"it\", \"it\", \"it\", \"its clients microinsurance\", \"jane\", \"job\", \"job\", \"job\", \"kiva\", \"kiva\", \"kiva\", \"kiva\", \"kiva volunteer\", \"kiva volunteer\", \"kiva volunteer\", \"kiva volunteer\", \"known as\", \"known as\", \"known as\", \"la\", \"la\", \"la\", \"land\", \"land\", \"land\", \"lands\", \"loan\", \"loan\", \"loan\", \"loan of us\", \"loan of us\", \"loan of usd\", \"loan of usd\", \"loan use\", \"local\", \"local\", \"local\", \"local\", \"los\", \"los\", \"los\", \"lucia\", \"lucia\", \"machinery\", \"machinery\", \"machinery\", \"made of\", \"made of\", \"made of\", \"maize\", \"maize\", \"making\", \"making\", \"making\", \"making their\", \"making their\", \"making their\", \"man\", \"man\", \"maria\", \"mary\", \"mary\", \"materials\", \"materials\", \"member of the\", \"member of the\", \"members of the\", \"members of the\", \"microinsurance\", \"microinsurance and\", \"microinsurance and access\", \"mifex\", \"mifex\", \"mifex\", \"mifex\", \"mifex offers\", \"mifex offers its\", \"mifex org\", \"mifex org www\", \"milk\", \"milk\", \"monthly\", \"monthly\", \"more information\", \"more information\", \"most of the\", \"most of the\", \"most of the\", \"my\", \"my\", \"nairobi\", \"nairobi\", \"negocio\", \"negocio\", \"no\", \"no\", \"no\", \"not\", \"not\", \"not\", \"not\", \"of her\", \"of his\", \"of his\", \"of land\", \"of land\", \"of land\", \"of rice\", \"of rice\", \"of the\", \"of the\", \"of the\", \"of the loan\", \"of the loan\", \"of the loan\", \"of us\", \"of us\", \"of usd\", \"of usd\", \"offers its\", \"offers its clients\", \"on the\", \"on the\", \"on the\", \"org\", \"org\", \"org\", \"org www\", \"org www mifex\", \"our services\", \"our services please\", \"out\", \"out\", \"out\", \"parents\", \"parents\", \"part of the\", \"part of the\", \"part of the\", \"pay\", \"pay\", \"pay\", \"per\", \"per\", \"per\", \"personal\", \"personal\", \"personal\", \"personal information\", \"please visit\", \"please visit href\", \"primary\", \"primary\", \"primary school\", \"primary school\", \"production\", \"production\", \"production\", \"programs\", \"programs\", \"programs for\", \"programs for more\", \"purchase\", \"purchase\", \"purchase\", \"que\", \"raise\", \"raise\", \"raise\", \"received\", \"received\", \"received\", \"repay the loan\", \"repay the loan\", \"repay the loan\", \"rice\", \"rice\", \"rice\", \"rice\", \"rural\", \"rural\", \"rural\", \"salon\", \"salon\", \"santa lucia\", \"school\", \"school\", \"school fees\", \"school fees\", \"school she\", \"sector\", \"sector\", \"sector\", \"sector\", \"seeds\", \"seeds\", \"seeds\", \"sell\", \"sell\", \"sells\", \"sells\", \"services please\", \"services please visit\", \"she\", \"she\", \"she\", \"she can\", \"she has\", \"she has been\", \"she is\", \"she is\", \"she sells\", \"she started\", \"she was\", \"she will\", \"she will be\", \"shoes\", \"shoes\", \"shop\", \"shop\", \"skills\", \"skills\", \"skills\", \"small\", \"small\", \"small\", \"small\", \"son\", \"son\", \"son\", \"son\", \"source\", \"source\", \"source\", \"source of\", \"source of\", \"source of\", \"source of income\", \"source of income\", \"source of income\", \"span\", \"span\", \"span span\", \"start\", \"start\", \"strong\", \"strong\", \"strong\", \"su\", \"take\", \"take\", \"that\", \"that\", \"that\", \"that he\", \"that he\", \"that is\", \"that is\", \"that is\", \"that she\", \"the area\", \"the area\", \"the area\", \"the family\", \"the family\", \"the farmers\", \"the farmers\", \"the farmers\", \"the group\", \"the group\", \"the group\", \"the lands\", \"the members of\", \"the members of\", \"the people\", \"the people\", \"the people\", \"the profits\", \"the profits\", \"the profits\", \"the sector\", \"the sector\", \"their\", \"their\", \"their\", \"their\", \"them\", \"them\", \"them\", \"they\", \"they\", \"they\", \"they\", \"this\", \"this\", \"this\", \"to business training\", \"to buy\", \"to buy\", \"to buy\", \"to get\", \"to get\", \"to her\", \"to his\", \"to his\", \"to meet\", \"to meet\", \"to repay\", \"to repay\", \"to take\", \"to take\", \"to the\", \"to the\", \"to the\", \"too\", \"too\", \"too\", \"training and educational\", \"translated\", \"translated\", \"translated\", \"translated\", \"translated from\", \"translated from\", \"translated from\", \"translated from\", \"translated from by\", \"translated from by\", \"translated from by\", \"translated from by\", \"two\", \"two\", \"until\", \"until\", \"until\", \"us\", \"us\", \"usd\", \"usd\", \"use\", \"use\", \"use\", \"vegetables\", \"vegetables\", \"very\", \"very\", \"very\", \"very\", \"visit href\", \"visit href http\", \"volunteer\", \"volunteer\", \"volunteer\", \"volunteer\", \"was\", \"was\", \"was\", \"was\", \"was born\", \"was born\", \"was born\", \"water\", \"water\", \"water\", \"weec\", \"where\", \"where\", \"where\", \"where\", \"where he\", \"where he\", \"where she\", \"which\", \"which\", \"wife\", \"wife\", \"will\", \"will\", \"will\", \"will be\", \"will be\", \"will be able\", \"will be able\", \"with\", \"with\", \"with\", \"with children\", \"with children\", \"with her\", \"with his\", \"with his\", \"with his\", \"women\", \"women\", \"work\", \"work\", \"work\", \"work\", \"www\", \"www\", \"www\", \"www mifex\", \"www mifex org\", \"year\", \"year\", \"year\", \"years\", \"years\", \"years\", \"young\", \"young\"]}, \"R\": 30, \"lambda.step\": 0.01, \"plot.opts\": {\"xlab\": \"PC1\", \"ylab\": \"PC2\"}, \"topic.order\": [2, 17, 8, 13, 20, 5, 9, 3, 4, 6, 7, 10, 19, 11, 12, 14, 15, 16, 18, 1]};\n",
       "\n",
       "function LDAvis_load_lib(url, callback){\n",
       "  var s = document.createElement('script');\n",
       "  s.src = url;\n",
       "  s.async = true;\n",
       "  s.onreadystatechange = s.onload = callback;\n",
       "  s.onerror = function(){console.warn(\"failed to load library \" + url);};\n",
       "  document.getElementsByTagName(\"head\")[0].appendChild(s);\n",
       "}\n",
       "\n",
       "if(typeof(LDAvis) !== \"undefined\"){\n",
       "   // already loaded: just create the visualization\n",
       "   !function(LDAvis){\n",
       "       new LDAvis(\"#\" + \"ldavis_el69882508294671960722396467\", ldavis_el69882508294671960722396467_data);\n",
       "   }(LDAvis);\n",
       "}else if(typeof define === \"function\" && define.amd){\n",
       "   // require.js is available: use it to load d3/LDAvis\n",
       "   require.config({paths: {d3: \"https://cdnjs.cloudflare.com/ajax/libs/d3/3.5.5/d3.min\"}});\n",
       "   require([\"d3\"], function(d3){\n",
       "      window.d3 = d3;\n",
       "      LDAvis_load_lib(\"https://cdn.rawgit.com/bmabey/pyLDAvis/files/ldavis.v1.0.0.js\", function(){\n",
       "        new LDAvis(\"#\" + \"ldavis_el69882508294671960722396467\", ldavis_el69882508294671960722396467_data);\n",
       "      });\n",
       "    });\n",
       "}else{\n",
       "    // require.js not available: dynamically load d3 & LDAvis\n",
       "    LDAvis_load_lib(\"https://cdnjs.cloudflare.com/ajax/libs/d3/3.5.5/d3.min.js\", function(){\n",
       "         LDAvis_load_lib(\"https://cdn.rawgit.com/bmabey/pyLDAvis/files/ldavis.v1.0.0.js\", function(){\n",
       "                 new LDAvis(\"#\" + \"ldavis_el69882508294671960722396467\", ldavis_el69882508294671960722396467_data);\n",
       "            })\n",
       "         });\n",
       "}\n",
       "</script>"
      ],
      "text/plain": [
       "PreparedData(topic_coordinates=            Freq  cluster  topics           x           y\n",
       "topic                                                    \n",
       "1      63.595755        1       1  -39.672428  156.474701\n",
       "16     17.655379        1       2 -257.043640 -172.608185\n",
       "7       5.779945        1       3   14.980901  314.682159\n",
       "12      4.398148        1       4  349.554047   15.546760\n",
       "19      0.994745        1       5 -152.875671  -49.601849\n",
       "4       0.566069        1       6 -150.682220  280.411163\n",
       "8       0.500711        1       7   97.346611  152.024704\n",
       "2       0.500711        1       8  -11.086870    7.907201\n",
       "3       0.500711        1       9 -294.656921  178.579453\n",
       "5       0.500711        1      10  208.967606 -249.389069\n",
       "6       0.500711        1      11  255.611847  144.387772\n",
       "9       0.500711        1      12  182.727692  296.566986\n",
       "18      0.500711        1      13  242.102066  -95.944725\n",
       "10      0.500711        1      14   84.672264 -121.041801\n",
       "11      0.500711        1      15   43.818863 -286.698730\n",
       "13      0.500711        1      16 -163.253876   91.873344\n",
       "14      0.500711        1      17  137.796814   16.722647\n",
       "15      0.500711        1      18  -55.748951 -151.132721\n",
       "17      0.500711        1      19 -130.562485 -293.957214\n",
       "0       0.500711        1      20 -315.239563   -3.581282, topic_info=     Category         Freq                      Term        Total  loglift  \\\n",
       "term                                                                         \n",
       "244   Default   207.000000                      font   207.000000  30.0000   \n",
       "356   Default   536.000000                       his   536.000000  29.0000   \n",
       "327   Default  1187.000000                       her  1187.000000  28.0000   \n",
       "312   Default   530.000000                        he   530.000000  27.0000   \n",
       "715   Default  1024.000000                       she  1024.000000  26.0000   \n",
       "766   Default   133.000000                      span   133.000000  25.0000   \n",
       "291   Default   217.000000                        h4   217.000000  24.0000   \n",
       "180   Default   116.000000                        de   116.000000  23.0000   \n",
       "414   Default   638.000000                        is   638.000000  22.0000   \n",
       "382   Default   644.000000                        in   644.000000  21.0000   \n",
       "725   Default   244.000000                    she is   244.000000  20.0000   \n",
       "777   Default    83.000000                        su    83.000000  19.0000   \n",
       "328   Default   219.000000              her business   219.000000  18.0000   \n",
       "719   Default   206.000000                   she has   206.000000  17.0000   \n",
       "283   Default   237.000000                     group   237.000000  16.0000   \n",
       "113   Default   419.000000                  business   419.000000  15.0000   \n",
       "571   Default   202.000000                    of the   202.000000  14.0000   \n",
       "962   Default   344.000000                      with   344.000000  13.0000   \n",
       "144   Default   258.000000                  children   258.000000  12.0000   \n",
       "470   Default   327.000000                      loan   327.000000  11.0000   \n",
       "792   Default   307.000000                      that   307.000000  10.0000   \n",
       "393   Default   234.000000                    in the   234.000000   9.0000   \n",
       "302   Default   379.000000                       has   379.000000   8.0000   \n",
       "246   Default   395.000000                       for   395.000000   7.0000   \n",
       "840   Default   288.000000                      this   288.000000   6.0000   \n",
       "952   Default   283.000000                      will   283.000000   5.0000   \n",
       "377   Default   161.000000                   husband   161.000000   4.0000   \n",
       "565   Default   154.000000                    of her   154.000000   3.0000   \n",
       "531   Default   143.000000                     mifex   143.000000   2.0000   \n",
       "450   Default    71.000000                        la    71.000000   1.0000   \n",
       "...       ...          ...                       ...          ...      ...   \n",
       "715   Topic20     0.353092                       she  1024.432083  -2.6760   \n",
       "327   Topic20     0.353056                       her  1187.726287  -2.8240   \n",
       "534   Topic20     0.353038                 mifex org    86.821837  -0.2081   \n",
       "725   Topic20     0.353037                    she is   244.056939  -1.2417   \n",
       "414   Topic20     0.353035                        is   638.366271  -2.2032   \n",
       "985   Topic20     0.353034             www mifex org    86.821849  -0.2082   \n",
       "984   Topic20     0.353034                 www mifex    86.821855  -0.2082   \n",
       "283   Topic20     0.353031                     group   237.028731  -1.2125   \n",
       "21    Topic20     0.353028                    active    51.554085   0.3131   \n",
       "765   Topic20     0.353028          source of income    38.116625   0.6150   \n",
       "769   Topic20     0.353028                     start    85.004467  -0.1870   \n",
       "941   Topic20     0.353024                 where she    80.352445  -0.1307   \n",
       "280   Topic20     0.353024                       got    33.937157   0.7312   \n",
       "113   Topic20     0.353023                  business   419.331041  -1.7830   \n",
       "764   Topic20     0.353023                 source of    42.249125   0.5121   \n",
       "763   Topic20     0.353023                    source    44.465894   0.4610   \n",
       "713   Topic20     0.353023           services please    46.908622   0.4075   \n",
       "939   Topic20     0.353022                     where   115.997691  -0.4979   \n",
       "382   Topic20     0.353022                        in   644.812078  -2.2133   \n",
       "398   Topic20     0.353021                    income   138.700303  -0.6766   \n",
       "61    Topic20     0.353021                   and she   117.017525  -0.5067   \n",
       "855   Topic20     0.353021      to business training    47.106113   0.4033   \n",
       "20    Topic20     0.353021        access to business    47.034297   0.4048   \n",
       "919   Topic20     0.353020                visit href    45.735110   0.4328   \n",
       "208   Topic20     0.353020  educational programs for    47.034315   0.4048   \n",
       "931   Topic20     0.353020                      weec    36.064910   0.6703   \n",
       "246   Topic20     0.353020                       for   395.414603  -1.7243   \n",
       "519   Topic20     0.353020             member of the    40.296936   0.5594   \n",
       "917   Topic20     0.353020                      very   139.131119  -0.6798   \n",
       "654   Topic20     0.353020              programs for    47.034309   0.4048   \n",
       "\n",
       "      logprob  \n",
       "term           \n",
       "244   30.0000  \n",
       "356   29.0000  \n",
       "327   28.0000  \n",
       "312   27.0000  \n",
       "715   26.0000  \n",
       "766   25.0000  \n",
       "291   24.0000  \n",
       "180   23.0000  \n",
       "414   22.0000  \n",
       "382   21.0000  \n",
       "725   20.0000  \n",
       "777   19.0000  \n",
       "328   18.0000  \n",
       "719   17.0000  \n",
       "283   16.0000  \n",
       "113   15.0000  \n",
       "571   14.0000  \n",
       "962   13.0000  \n",
       "144   12.0000  \n",
       "470   11.0000  \n",
       "792   10.0000  \n",
       "393    9.0000  \n",
       "302    8.0000  \n",
       "246    7.0000  \n",
       "840    6.0000  \n",
       "952    5.0000  \n",
       "377    4.0000  \n",
       "565    3.0000  \n",
       "531    2.0000  \n",
       "450    1.0000  \n",
       "...       ...  \n",
       "715   -6.9075  \n",
       "327   -6.9076  \n",
       "534   -6.9077  \n",
       "725   -6.9077  \n",
       "414   -6.9077  \n",
       "985   -6.9077  \n",
       "984   -6.9077  \n",
       "283   -6.9077  \n",
       "21    -6.9077  \n",
       "765   -6.9077  \n",
       "769   -6.9077  \n",
       "941   -6.9077  \n",
       "280   -6.9077  \n",
       "113   -6.9077  \n",
       "764   -6.9077  \n",
       "763   -6.9077  \n",
       "713   -6.9077  \n",
       "939   -6.9077  \n",
       "382   -6.9077  \n",
       "398   -6.9077  \n",
       "61    -6.9077  \n",
       "855   -6.9077  \n",
       "20    -6.9077  \n",
       "919   -6.9077  \n",
       "208   -6.9077  \n",
       "931   -6.9077  \n",
       "246   -6.9077  \n",
       "519   -6.9077  \n",
       "917   -6.9077  \n",
       "654   -6.9077  \n",
       "\n",
       "[1143 rows x 6 columns], token_table=      Topic      Freq                      Term\n",
       "term                                           \n",
       "2         1  0.723475                        10\n",
       "2         2  0.192927                        10\n",
       "4         1  0.738939                        12\n",
       "4         2  0.126675                        12\n",
       "4         5  0.021113                        12\n",
       "7         1  0.591893                        20\n",
       "7         2  0.284109                        20\n",
       "12        1  0.670228                      able\n",
       "12        2  0.304137                      able\n",
       "13        1  0.668283                   able to\n",
       "13        2  0.300161                   able to\n",
       "20        3  0.892965        access to business\n",
       "21        1  0.814678                    active\n",
       "21        2  0.077588                    active\n",
       "26        1  0.645291                additional\n",
       "26        2  0.268871                additional\n",
       "27        1  0.662244                     after\n",
       "27        2  0.216734                     after\n",
       "27        4  0.060204                     after\n",
       "36        1  0.682830                   already\n",
       "36        2  0.195094                   already\n",
       "40        1  0.189531                        am\n",
       "40        2  0.746278                        am\n",
       "42        1  0.751983                        an\n",
       "42        2  0.175697                        an\n",
       "42        4  0.042167                        an\n",
       "45        3  0.891583                and access\n",
       "46        3  0.892456             and access to\n",
       "48        3  0.891466           and educational\n",
       "49        3  0.892965  and educational programs\n",
       "...     ...       ...                       ...\n",
       "956       1  0.634442              will be able\n",
       "956       2  0.287009              will be able\n",
       "962       1  0.727875                      with\n",
       "962       2  0.240692                      with\n",
       "962       4  0.017399                      with\n",
       "963       1  0.680637             with children\n",
       "963       2  0.211232             with children\n",
       "964       1  0.958928                  with her\n",
       "966       1  0.041564                  with his\n",
       "966       2  0.852070                  with his\n",
       "966       4  0.020782                  with his\n",
       "973       1  0.935272                     women\n",
       "973       2  0.017005                     women\n",
       "976       1  0.662759                      work\n",
       "976       2  0.212083                      work\n",
       "976       3  0.053021                      work\n",
       "976       4  0.026510                      work\n",
       "983       1  0.011034                       www\n",
       "983       2  0.022069                       www\n",
       "983       3  0.904817                       www\n",
       "984       3  0.932945                 www mifex\n",
       "985       3  0.932945             www mifex org\n",
       "986       1  0.704425                      year\n",
       "986       2  0.240145                      year\n",
       "986       4  0.016010                      year\n",
       "988       1  0.738058                     years\n",
       "988       2  0.220975                     years\n",
       "988       4  0.017678                     years\n",
       "998       1  0.692867                     young\n",
       "998       2  0.240383                     young\n",
       "\n",
       "[760 rows x 3 columns], R=30, lambda_step=0.01, plot_opts={'xlab': 'PC1', 'ylab': 'PC2'}, topic_order=[2, 17, 8, 13, 20, 5, 9, 3, 4, 6, 7, 10, 19, 11, 12, 14, 15, 16, 18, 1])"
      ]
     },
     "execution_count": 74,
     "metadata": {},
     "output_type": "execute_result"
    }
   ],
   "source": [
    "import pyLDAvis.sklearn\n",
    " \n",
    "pyLDAvis.enable_notebook()\n",
    "pyLDAvis.sklearn.prepare(lda_tfidf, dtm_tfidf, tfidf_vectorizer, mds=\"tsne\")"
   ]
  },
  {
   "cell_type": "code",
   "execution_count": null,
   "metadata": {},
   "outputs": [],
   "source": []
  },
  {
   "cell_type": "code",
   "execution_count": null,
   "metadata": {},
   "outputs": [],
   "source": []
  }
 ],
 "metadata": {
  "kernelspec": {
   "display_name": "Python 3",
   "language": "python",
   "name": "python3"
  },
  "language_info": {
   "codemirror_mode": {
    "name": "ipython",
    "version": 3
   },
   "file_extension": ".py",
   "mimetype": "text/x-python",
   "name": "python",
   "nbconvert_exporter": "python",
   "pygments_lexer": "ipython3",
   "version": "3.6.4"
  }
 },
 "nbformat": 4,
 "nbformat_minor": 2
}
