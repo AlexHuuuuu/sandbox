{
 "cells": [
  {
   "cell_type": "code",
   "execution_count": null,
   "metadata": {},
   "outputs": [],
   "source": [
    "%%time\n",
    "\n",
    "from sklearn.feature_extraction.text import TfidfVectorizer, CountVectorizer\n",
    "\n",
    "no_features = 1000\n",
    "\n",
    "# LDA can only use raw term counts for LDA because it is a probabilistic graphical model\n",
    "tf_vectorizer = CountVectorizer(max_df=0.95, min_df=2, max_features=no_features, \n",
    "                                stop_words=['english', 'spanish'], strip_accents='unicode', lowercase=True, ngram_range=[1,3])\n",
    "dtm_tf = tf_vectorizer.fit_transform(kiva_df['story'])\n",
    "print(dtm_tf.shape)\n",
    "\n",
    "tfidf_vectorizer = TfidfVectorizer(max_df=0.95, min_df=2, max_features=no_features, \n",
    "                                stop_words=['english', 'spanish'], strip_accents='unicode', lowercase=True, ngram_range=[1,3])\n",
    "dtm_tfidf = tfidf_vectorizer.fit_transform(kiva_df['story'])\n",
    "print(dtm_tfidf.shape)\n",
    "\n",
    "%%time\n",
    "from sklearn.decomposition import NMF, LatentDirichletAllocation\n",
    "lda_tfidf = LatentDirichletAllocation(n_components=20, max_iter=10, learning_method='online', learning_offset=50.,random_state=0).fit(dtm_tfidf)\n",
    "#nmf = NMF(n_components=20, random_state=1, alpha=.1, l1_ratio=.5, init='nndsvd').fit(tfidf)\n",
    "\n",
    "def display_topics(model, feature_names, no_top_words):\n",
    "    for topic_idx, topic in enumerate(model.components_):\n",
    "        print(\" Topic {:d}: \".format(topic_idx+1), end = '')\n",
    "        print(\" \".join([feature_names[i]\n",
    "                        for i in topic.argsort()[:-no_top_words - 1:-1]]))\n",
    "\n",
    "no_top_words = 6\n",
    "print(\"LDA Topics:\")\n",
    "display_topics(lda_tfidf, tfidf_vectorizer.get_feature_names(), no_top_words)\n",
    "\n",
    "#print(\"NMF Topics:\")\n",
    "#display_topics(nmf, tf_feature_names, no_top_words)\n",
    "\n",
    "import pyLDAvis.sklearn\n",
    " \n",
    "pyLDAvis.enable_notebook()\n",
    "pyLDAvis.sklearn.prepare(lda_tfidf, dtm_tfidf, tfidf_vectorizer, mds=\"tsne\")"
   ]
  }
 ],
 "metadata": {
  "kernelspec": {
   "display_name": "Python 3",
   "language": "python",
   "name": "python3"
  },
  "language_info": {
   "codemirror_mode": {
    "name": "ipython",
    "version": 3
   },
   "file_extension": ".py",
   "mimetype": "text/x-python",
   "name": "python",
   "nbconvert_exporter": "python",
   "pygments_lexer": "ipython3",
   "version": "3.6.4"
  }
 },
 "nbformat": 4,
 "nbformat_minor": 2
}
