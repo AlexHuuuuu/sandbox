{
 "cells": [
  {
   "cell_type": "code",
   "execution_count": 1,
   "metadata": {},
   "outputs": [],
   "source": [
    "from textblob import TextBlob"
   ]
  },
  {
   "cell_type": "code",
   "execution_count": null,
   "metadata": {},
   "outputs": [],
   "source": [
    "sent = \"Steve is smart, handsome, and funny.\"\n",
    "tb = TextBlob(sent)"
   ]
  },
  {
   "cell_type": "code",
   "execution_count": null,
   "metadata": {},
   "outputs": [],
   "source": [
    "tb.tags"
   ]
  },
  {
   "cell_type": "code",
   "execution_count": null,
   "metadata": {},
   "outputs": [],
   "source": [
    "tb.noun_phrases"
   ]
  },
  {
   "cell_type": "code",
   "execution_count": null,
   "metadata": {},
   "outputs": [],
   "source": [
    "tb.sentiment"
   ]
  },
  {
   "cell_type": "code",
   "execution_count": null,
   "metadata": {},
   "outputs": [],
   "source": [
    "tb.sentiment.polarity"
   ]
  },
  {
   "cell_type": "code",
   "execution_count": null,
   "metadata": {},
   "outputs": [],
   "source": [
    "sentences = [\n",
    "   \"I love Princess Elsa.\",\n",
    "   \"I do not love Princess Elsa.\",\n",
    "   \"I am luke warm about Princess Elsa.\",\n",
    "   \"I love cheese but hate wine.\",\n",
    "    \"The boy is not mad.\",\n",
    "    \"The boy is not not mad.\",\n",
    "    \"GOING TO LA THIS WEEKEND.\",\n",
    "    \"I love being ignored.\",\n",
    "    \"Nobody gives a good performance.\",\n",
    "    \"Nobody should miss this movie.\"\n",
    "            ]"
   ]
  },
  {
   "cell_type": "code",
   "execution_count": null,
   "metadata": {},
   "outputs": [],
   "source": [
    "for sentence in sentences:\n",
    "    sent = TextBlob(sentence)\n",
    "    print(sent)\n",
    "    print(sent.sentiment)\n",
    "    if sent.sentiment.polarity > 0.0:\n",
    "        print('Positive')\n",
    "    else:\n",
    "        print(\"Negative\")\n",
    "    print()\n"
   ]
  },
  {
   "cell_type": "code",
   "execution_count": null,
   "metadata": {},
   "outputs": [],
   "source": []
  }
 ],
 "metadata": {
  "kernelspec": {
   "display_name": "Python [conda env:small_sklearn] *",
   "language": "python",
   "name": "conda-env-small_sklearn-py"
  },
  "language_info": {
   "codemirror_mode": {
    "name": "ipython",
    "version": 3
   },
   "file_extension": ".py",
   "mimetype": "text/x-python",
   "name": "python",
   "nbconvert_exporter": "python",
   "pygments_lexer": "ipython3",
   "version": "3.6.8"
  }
 },
 "nbformat": 4,
 "nbformat_minor": 2
}
