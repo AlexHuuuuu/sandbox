{
 "cells": [
  {
   "cell_type": "code",
   "execution_count": 1,
   "metadata": {},
   "outputs": [
    {
     "name": "stderr",
     "output_type": "stream",
     "text": [
      "C:\\Users\\st50\\AppData\\Local\\Continuum\\anaconda3\\lib\\site-packages\\h5py\\__init__.py:36: FutureWarning: Conversion of the second argument of issubdtype from `float` to `np.floating` is deprecated. In future, it will be treated as `np.float64 == np.dtype(float).type`.\n",
      "  from ._conv import register_converters as _register_converters\n",
      "Using TensorFlow backend.\n"
     ]
    }
   ],
   "source": [
    "import pandas as pd\n",
    "import numpy as np\n",
    "import matplotlib.pyplot as plt\n",
    "import seaborn as sns\n",
    "from sklearn.model_selection import train_test_split\n",
    "from sklearn.preprocessing import LabelEncoder\n",
    "from keras.models import Model, Sequential\n",
    "from keras.layers import LSTM, Activation, Dense, Dropout, Input, Embedding, Bidirectional\n",
    "from keras.optimizers import RMSprop\n",
    "from keras.preprocessing.text import Tokenizer\n",
    "from keras.preprocessing import sequence\n",
    "from keras.utils import to_categorical\n",
    "from keras.callbacks import EarlyStopping\n",
    "\n",
    "\n",
    "from IPython.core.interactiveshell import InteractiveShell\n",
    "InteractiveShell.ast_node_interactivity = \"all\""
   ]
  },
  {
   "cell_type": "code",
   "execution_count": 2,
   "metadata": {},
   "outputs": [
    {
     "data": {
      "text/html": [
       "<div>\n",
       "<style scoped>\n",
       "    .dataframe tbody tr th:only-of-type {\n",
       "        vertical-align: middle;\n",
       "    }\n",
       "\n",
       "    .dataframe tbody tr th {\n",
       "        vertical-align: top;\n",
       "    }\n",
       "\n",
       "    .dataframe thead th {\n",
       "        text-align: right;\n",
       "    }\n",
       "</style>\n",
       "<table border=\"1\" class=\"dataframe\">\n",
       "  <thead>\n",
       "    <tr style=\"text-align: right;\">\n",
       "      <th></th>\n",
       "      <th>Sentence</th>\n",
       "      <th>Polarity</th>\n",
       "    </tr>\n",
       "  </thead>\n",
       "  <tbody>\n",
       "    <tr>\n",
       "      <th>0</th>\n",
       "      <td>Wow... Loved this place.</td>\n",
       "      <td>1</td>\n",
       "    </tr>\n",
       "    <tr>\n",
       "      <th>1</th>\n",
       "      <td>Crust is not good.</td>\n",
       "      <td>0</td>\n",
       "    </tr>\n",
       "    <tr>\n",
       "      <th>2</th>\n",
       "      <td>Not tasty and the texture was just nasty.</td>\n",
       "      <td>0</td>\n",
       "    </tr>\n",
       "    <tr>\n",
       "      <th>3</th>\n",
       "      <td>Stopped by during the late May bank holiday of...</td>\n",
       "      <td>1</td>\n",
       "    </tr>\n",
       "    <tr>\n",
       "      <th>4</th>\n",
       "      <td>The selection on the menu was great and so wer...</td>\n",
       "      <td>1</td>\n",
       "    </tr>\n",
       "  </tbody>\n",
       "</table>\n",
       "</div>"
      ],
      "text/plain": [
       "                                            Sentence  Polarity\n",
       "0                           Wow... Loved this place.         1\n",
       "1                                 Crust is not good.         0\n",
       "2          Not tasty and the texture was just nasty.         0\n",
       "3  Stopped by during the late May bank holiday of...         1\n",
       "4  The selection on the menu was great and so wer...         1"
      ]
     },
     "execution_count": 2,
     "metadata": {},
     "output_type": "execute_result"
    }
   ],
   "source": [
    "df = pd.read_csv('data/sentiment_train.csv', delimiter=',',encoding='latin-1')\n",
    "df.head()"
   ]
  },
  {
   "cell_type": "code",
   "execution_count": 3,
   "metadata": {},
   "outputs": [
    {
     "data": {
      "text/plain": [
       "<matplotlib.axes._subplots.AxesSubplot at 0x28bafd40240>"
      ]
     },
     "execution_count": 3,
     "metadata": {},
     "output_type": "execute_result"
    },
    {
     "data": {
      "text/plain": [
       "Text(0.5, 0, 'Label')"
      ]
     },
     "execution_count": 3,
     "metadata": {},
     "output_type": "execute_result"
    },
    {
     "data": {
      "image/png": "[encoded data removed]",
      "text/plain": [
       "<Figure size 432x288 with 1 Axes>"
      ]
     },
     "metadata": {
      "needs_background": "light"
     },
     "output_type": "display_data"
    }
   ],
   "source": [
    "sns.countplot(df.Polarity)\n",
    "plt.xlabel('Label')"
   ]
  },
  {
   "cell_type": "code",
   "execution_count": 4,
   "metadata": {},
   "outputs": [],
   "source": [
    "X = df.Sentence\n",
    "y = df.Polarity\n",
    "le = LabelEncoder()\n",
    "y = le.fit_transform(y)\n",
    "y = y.reshape(-1,1)"
   ]
  },
  {
   "cell_type": "code",
   "execution_count": 5,
   "metadata": {},
   "outputs": [
    {
     "data": {
      "text/plain": [
       "(2202, 1)"
      ]
     },
     "execution_count": 5,
     "metadata": {},
     "output_type": "execute_result"
    },
    {
     "data": {
      "text/plain": [
       "array([[1],\n",
       "       [0],\n",
       "       [0],\n",
       "       ...,\n",
       "       [0],\n",
       "       [1],\n",
       "       [1]], dtype=int64)"
      ]
     },
     "execution_count": 5,
     "metadata": {},
     "output_type": "execute_result"
    }
   ],
   "source": [
    "y.shape\n",
    "y"
   ]
  },
  {
   "cell_type": "code",
   "execution_count": 6,
   "metadata": {},
   "outputs": [
    {
     "data": {
      "text/plain": [
       "(2202,)"
      ]
     },
     "execution_count": 6,
     "metadata": {},
     "output_type": "execute_result"
    },
    {
     "data": {
      "text/plain": [
       "0                                Wow... Loved this place.\n",
       "1                                      Crust is not good.\n",
       "2               Not tasty and the texture was just nasty.\n",
       "3       Stopped by during the late May bank holiday of...\n",
       "4       The selection on the menu was great and so wer...\n",
       "5          Now I am getting angry and I want my damn pho.\n",
       "6                   Honeslty it didn't taste THAT fresh.)\n",
       "7       The potatoes were like rubber and you could te...\n",
       "8                               The fries were great too.\n",
       "9                                          A great touch.\n",
       "10                               Service was very prompt.\n",
       "11                                     Would not go back.\n",
       "12      The cashier had no care what so ever on what I...\n",
       "13      I tried the Cape Cod ravoli, chicken,with cran...\n",
       "14      I was disgusted because I was pretty sure that...\n",
       "15      I was shocked because no signs indicate cash o...\n",
       "16                                    Highly recommended.\n",
       "17                 Waitress was a little slow in service.\n",
       "18      This place is not worth your time, let alone V...\n",
       "19                                   did not like at all.\n",
       "20                                    The Burrittos Blah!\n",
       "21                                     The food, amazing.\n",
       "22                                  Service is also cute.\n",
       "23      I could care less... The interior is just beau...\n",
       "24                                     So they performed.\n",
       "25      That's right....the red velvet cake.....ohhh t...\n",
       "26                                                 #NAME?\n",
       "27      This hole in the wall has great Mexican street...\n",
       "28      Took an hour to get our food only 4 tables in ...\n",
       "29                      The worst was the salmon sashimi.\n",
       "                              ...                        \n",
       "2172     The jerky camera movements were also annoying.  \n",
       "2173    The plot was the same as pretty much every oth...\n",
       "2174    There was a few pathetic attempts to give the ...\n",
       "2175    I guess it was supposed to be clever twist, th...\n",
       "2176    If you see it, you should probably just leave ...\n",
       "2177    Elias Koteas,Jack Palance play good roles Ange...\n",
       "2178    This was such an awesome movie that i bought i...\n",
       "2179    I really loved the story line and the poler be...\n",
       "2180    This totally UNfunny movie is so over the top ...\n",
       "2181    Lucy Bell is so much higher than this crap and...\n",
       "2182    All this movie does is make you sick watching ...\n",
       "2183     God, and I can never get that 90 minutes back!  \n",
       "2184    I think the most wonderful parts (literally, f...\n",
       "2185    The sets (especially designed to work with the...\n",
       "2186    They could be used as exemplars for any set de...\n",
       "2187    The stories were powerful explorations of the ...\n",
       "2188    After watching this film, I wanted to learn mo...\n",
       "2189    I highly recommend this movie for anyone inter...\n",
       "2190    Here, in The Wind and the Lion, we see a wonde...\n",
       "2191    ) What makes this story different are the terr...\n",
       "2192    Though The Wind and the Lion is told largely t...\n",
       "2193                This is high adventure at its best.  \n",
       "2194    I think it was Robert Ryans best film, because...\n",
       "2195    Having to humour him just to get by and get th...\n",
       "2196    (My mother and brother had to do this)When I s...\n",
       "2197    Almost all of the songs in Cover Girl are old-...\n",
       "2198    The most annoying thing about 'Cover Girl' is ...\n",
       "2199    Unfortunately, 'Cover Girl' is an example of h...\n",
       "2200    Non-linear narration thus many flashbacks and ...\n",
       "2201    The good cinematography also makes her and Mon...\n",
       "Name: Sentence, Length: 2202, dtype: object"
      ]
     },
     "execution_count": 6,
     "metadata": {},
     "output_type": "execute_result"
    }
   ],
   "source": [
    "X.shape\n",
    "X"
   ]
  },
  {
   "cell_type": "code",
   "execution_count": 7,
   "metadata": {},
   "outputs": [],
   "source": [
    "X_train,X_test,y_train, y_test = train_test_split (X, y,  test_size=0.15)"
   ]
  },
  {
   "cell_type": "code",
   "execution_count": 8,
   "metadata": {},
   "outputs": [],
   "source": [
    "max_words = 1000\n",
    "max_len = 150\n",
    "tok = Tokenizer(num_words=max_words)\n",
    "tok.fit_on_texts(X_train)\n",
    "sequences = tok.texts_to_sequences(X_train)\n",
    "sequences_matrix = sequence.pad_sequences(sequences, maxlen=max_len)"
   ]
  },
  {
   "cell_type": "code",
   "execution_count": 9,
   "metadata": {},
   "outputs": [
    {
     "data": {
      "text/plain": [
       "(1871, 150)"
      ]
     },
     "execution_count": 9,
     "metadata": {},
     "output_type": "execute_result"
    },
    {
     "data": {
      "text/plain": [
       "array([ 0,  0,  0,  0,  0,  0,  0,  0,  0,  0,  0,  0,  0,  0,  0,  0,  0,\n",
       "        0,  0,  0,  0,  0,  0,  0,  0,  0,  0,  0,  0,  0,  0,  0,  0,  0,\n",
       "        0,  0,  0,  0,  0,  0,  0,  0,  0,  0,  0,  0,  0,  0,  0,  0,  0,\n",
       "        0,  0,  0,  0,  0,  0,  0,  0,  0,  0,  0,  0,  0,  0,  0,  0,  0,\n",
       "        0,  0,  0,  0,  0,  0,  0,  0,  0,  0,  0,  0,  0,  0,  0,  0,  0,\n",
       "        0,  0,  0,  0,  0,  0,  0,  0,  0,  0,  0,  0,  0,  0,  0,  0,  0,\n",
       "        0,  0,  0,  0,  0,  0,  0,  0,  0,  0,  0,  0,  0,  0,  0,  0,  0,\n",
       "        0,  0,  0,  0,  0,  0,  0,  0,  0,  0,  0,  0,  0,  0,  0,  0,  0,\n",
       "        0,  0,  0,  0,  0,  0,  0,  0,  0,  0,  0,  0, 19, 22])"
      ]
     },
     "execution_count": 9,
     "metadata": {},
     "output_type": "execute_result"
    }
   ],
   "source": [
    "sequences_matrix.shape\n",
    "sequences_matrix[0,:]"
   ]
  },
  {
   "cell_type": "code",
   "execution_count": 10,
   "metadata": {},
   "outputs": [
    {
     "name": "stdout",
     "output_type": "stream",
     "text": [
      "WARNING:tensorflow:From C:\\Users\\st50\\AppData\\Local\\Continuum\\anaconda3\\lib\\site-packages\\tensorflow\\python\\framework\\op_def_library.py:263: colocate_with (from tensorflow.python.framework.ops) is deprecated and will be removed in a future version.\n",
      "Instructions for updating:\n",
      "Colocations handled automatically by placer.\n",
      "WARNING:tensorflow:From C:\\Users\\st50\\AppData\\Local\\Continuum\\anaconda3\\lib\\site-packages\\keras\\backend\\tensorflow_backend.py:3445: calling dropout (from tensorflow.python.ops.nn_ops) with keep_prob is deprecated and will be removed in a future version.\n",
      "Instructions for updating:\n",
      "Please use `rate` instead of `keep_prob`. Rate should be set to `rate = 1 - keep_prob`.\n",
      "_________________________________________________________________\n",
      "Layer (type)                 Output Shape              Param #   \n",
      "=================================================================\n",
      "embedding_1 (Embedding)      (None, 150, 32)           32000     \n",
      "_________________________________________________________________\n",
      "lstm_1 (LSTM)                (None, 64)                24832     \n",
      "_________________________________________________________________\n",
      "out_layer (Dense)            (None, 1)                 65        \n",
      "=================================================================\n",
      "Total params: 56,897\n",
      "Trainable params: 56,897\n",
      "Non-trainable params: 0\n",
      "_________________________________________________________________\n"
     ]
    }
   ],
   "source": [
    "model = Sequential()\n",
    "\n",
    "model.add(Embedding(max_words, 32, input_length=max_len))\n",
    "model.add((LSTM(64, dropout=0.2, recurrent_dropout=0.2)))\n",
    "model.add(Dense(1, name='out_layer', activation='sigmoid'))\n",
    "\n",
    "model.summary()\n",
    "model.compile(loss='binary_crossentropy',optimizer=RMSprop(), metrics=['accuracy'])"
   ]
  },
  {
   "cell_type": "code",
   "execution_count": 12,
   "metadata": {},
   "outputs": [
    {
     "name": "stdout",
     "output_type": "stream",
     "text": [
      "WARNING:tensorflow:From C:\\Users\\st50\\AppData\\Local\\Continuum\\anaconda3\\lib\\site-packages\\tensorflow\\python\\ops\\math_ops.py:3066: to_int32 (from tensorflow.python.ops.math_ops) is deprecated and will be removed in a future version.\n",
      "Instructions for updating:\n",
      "Use tf.cast instead.\n",
      "Train on 1496 samples, validate on 375 samples\n",
      "Epoch 1/10\n",
      "1496/1496 [==============================] - 3s 2ms/step - loss: 0.6920 - acc: 0.5247 - val_loss: 0.6886 - val_acc: 0.5627\n",
      "Epoch 2/10\n",
      "1496/1496 [==============================] - 2s 1ms/step - loss: 0.6782 - acc: 0.6303 - val_loss: 0.6671 - val_acc: 0.6373\n",
      "Epoch 3/10\n",
      "1496/1496 [==============================] - 2s 1ms/step - loss: 0.6426 - acc: 0.7152 - val_loss: 0.6265 - val_acc: 0.7200\n",
      "Epoch 4/10\n",
      "1496/1496 [==============================] - 2s 1ms/step - loss: 0.5814 - acc: 0.7701 - val_loss: 0.5691 - val_acc: 0.7680\n",
      "Epoch 5/10\n",
      "1496/1496 [==============================] - 2s 1ms/step - loss: 0.5386 - acc: 0.7914 - val_loss: 0.5461 - val_acc: 0.7707\n",
      "Epoch 6/10\n",
      "1496/1496 [==============================] - 2s 1ms/step - loss: 0.4729 - acc: 0.8249 - val_loss: 0.5103 - val_acc: 0.7493\n",
      "Epoch 7/10\n",
      "1496/1496 [==============================] - 2s 1ms/step - loss: 0.4322 - acc: 0.8529 - val_loss: 0.4876 - val_acc: 0.7600\n",
      "Epoch 8/10\n",
      "1496/1496 [==============================] - 2s 1ms/step - loss: 0.3766 - acc: 0.8757 - val_loss: 0.4595 - val_acc: 0.8267\n",
      "Epoch 9/10\n",
      "1496/1496 [==============================] - 2s 1ms/step - loss: 0.3382 - acc: 0.8850 - val_loss: 0.4537 - val_acc: 0.7813\n",
      "Epoch 10/10\n",
      "1496/1496 [==============================] - 2s 1ms/step - loss: 0.3058 - acc: 0.9057 - val_loss: 0.4346 - val_acc: 0.8347\n"
     ]
    },
    {
     "data": {
      "text/plain": [
       "<keras.callbacks.History at 0x28bb26b0438>"
      ]
     },
     "execution_count": 12,
     "metadata": {},
     "output_type": "execute_result"
    }
   ],
   "source": [
    "model.fit(sequences_matrix, y_train, batch_size=128, epochs=10,\n",
    "          validation_split=0.2, callbacks=[EarlyStopping(monitor='val_loss',min_delta=0.0001)])"
   ]
  },
  {
   "cell_type": "code",
   "execution_count": 13,
   "metadata": {},
   "outputs": [],
   "source": [
    "test_sequences = tok.texts_to_sequences(X_test)\n",
    "test_sequences_matrix = sequence.pad_sequences(test_sequences, maxlen=max_len)"
   ]
  },
  {
   "cell_type": "code",
   "execution_count": 14,
   "metadata": {},
   "outputs": [
    {
     "name": "stdout",
     "output_type": "stream",
     "text": [
      "331/331 [==============================] - 0s 558us/step\n"
     ]
    }
   ],
   "source": [
    "accr = model.evaluate(test_sequences_matrix, y_test)"
   ]
  },
  {
   "cell_type": "code",
   "execution_count": 15,
   "metadata": {},
   "outputs": [
    {
     "name": "stdout",
     "output_type": "stream",
     "text": [
      "Test set\n",
      "  Loss: 0.477\n",
      "  Accuracy: 0.764\n"
     ]
    }
   ],
   "source": [
    "print('Test set\\n  Loss: {:0.3f}\\n  Accuracy: {:0.3f}'.format(accr[0],accr[1]))"
   ]
  },
  {
   "cell_type": "code",
   "execution_count": null,
   "metadata": {
    "jupyter": {
     "source_hidden": true
    }
   },
   "outputs": [],
   "source": [
    "from eli5.lime import TextExplainer\n",
    "from eli5.lime.samplers import MaskingTextddcddSamplerdd"
   ]
  },
  {
   "cell_type": "code",
   "execution_count": null,
   "metadata": {},
   "outputs": [],
   "source": []
  }
 ],
 "metadata": {
  "kernelspec": {
   "display_name": "Python 3",
   "language": "python",
   "name": "python3"
  },
  "language_info": {
   "codemirror_mode": {
    "name": "ipython",
    "version": 3
   },
   "file_extension": ".py",
   "mimetype": "text/x-python",
   "name": "python",
   "nbconvert_exporter": "python",
   "pygments_lexer": "ipython3",
   "version": "3.6.4"
  }
 },
 "nbformat": 4,
 "nbformat_minor": 4
}
